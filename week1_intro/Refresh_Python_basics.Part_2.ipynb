{
 "cells": [
  {
   "cell_type": "markdown",
   "metadata": {},
   "source": [
    "## <center> Part 2 </center>\n"
   ]
  },
  {
   "cell_type": "markdown",
   "metadata": {},
   "source": [
    "## Basic functions (min, max, len, sum)"
   ]
  },
  {
   "cell_type": "markdown",
   "metadata": {},
   "source": [
    "We have saved the salary information of one small company in the list."
   ]
  },
  {
   "cell_type": "code",
   "execution_count": 1,
   "metadata": {},
   "outputs": [],
   "source": [
    "salaries_in_usd = [65000, 40000, 100000, 34000, 78500, 1000000, 56700, 340000]"
   ]
  },
  {
   "cell_type": "markdown",
   "metadata": {},
   "source": [
    "What is the minimum salary?"
   ]
  },
  {
   "cell_type": "code",
   "execution_count": 2,
   "metadata": {},
   "outputs": [
    {
     "data": {
      "text/plain": [
       "34000"
      ]
     },
     "execution_count": 2,
     "metadata": {},
     "output_type": "execute_result"
    }
   ],
   "source": [
    "min(salaries_in_usd)"
   ]
  },
  {
   "cell_type": "markdown",
   "metadata": {},
   "source": [
    "What is the highest salary?"
   ]
  },
  {
   "cell_type": "code",
   "execution_count": 3,
   "metadata": {},
   "outputs": [
    {
     "data": {
      "text/plain": [
       "1000000"
      ]
     },
     "execution_count": 3,
     "metadata": {},
     "output_type": "execute_result"
    }
   ],
   "source": [
    "max(salaries_in_usd)"
   ]
  },
  {
   "cell_type": "code",
   "execution_count": 4,
   "metadata": {},
   "outputs": [
    {
     "data": {
      "text/plain": [
       "1714200"
      ]
     },
     "execution_count": 4,
     "metadata": {},
     "output_type": "execute_result"
    }
   ],
   "source": [
    "# sum up all salaries\n",
    "sum(salaries_in_usd)"
   ]
  },
  {
   "cell_type": "code",
   "execution_count": 5,
   "metadata": {},
   "outputs": [
    {
     "data": {
      "text/plain": [
       "'dandy'"
      ]
     },
     "execution_count": 5,
     "metadata": {},
     "output_type": "execute_result"
    }
   ],
   "source": [
    "# max using lexicographical order\n",
    "max('all', 'band', 'calculus', 'dandy')"
   ]
  },
  {
   "cell_type": "code",
   "execution_count": 6,
   "metadata": {},
   "outputs": [
    {
     "data": {
      "text/plain": [
       "'all'"
      ]
     },
     "execution_count": 6,
     "metadata": {},
     "output_type": "execute_result"
    }
   ],
   "source": [
    "# still lexicographical order\n",
    "min('all', 'band', 'calculus', 'dandy')"
   ]
  },
  {
   "cell_type": "code",
   "execution_count": 7,
   "metadata": {},
   "outputs": [
    {
     "data": {
      "text/plain": [
       "8"
      ]
     },
     "execution_count": 7,
     "metadata": {},
     "output_type": "execute_result"
    }
   ],
   "source": [
    "# list (or set or tuple) length in number of elements\n",
    "len(salaries_in_usd)"
   ]
  },
  {
   "cell_type": "code",
   "execution_count": 8,
   "metadata": {},
   "outputs": [
    {
     "data": {
      "text/plain": [
       "68"
      ]
     },
     "execution_count": 8,
     "metadata": {},
     "output_type": "execute_result"
    }
   ],
   "source": [
    "# string length in number of symbols in it\n",
    "len(\"It's too boring to count all the characters in this string manually.\")"
   ]
  },
  {
   "cell_type": "markdown",
   "metadata": {},
   "source": [
    "## Range and enumarate"
   ]
  },
  {
   "cell_type": "markdown",
   "metadata": {},
   "source": [
    "Range( ) is a function, what iterates over a sequence of numbers. It generates arithmetics progressions. "
   ]
  },
  {
   "cell_type": "code",
   "execution_count": 9,
   "metadata": {},
   "outputs": [
    {
     "name": "stdout",
     "output_type": "stream",
     "text": [
      "0  1  2  3  4  5  6  7  8  9  \n",
      "vs\n",
      "1  2  3  4  5  6  7  8  9  \n",
      "vs\n",
      "0  2  4  6  8  "
     ]
    }
   ],
   "source": [
    "# range(end)\n",
    "\n",
    "for i in range(10):\n",
    "    print(i, end='  ')\n",
    "    \n",
    "print('\\nvs', end='\\n')\n",
    "\n",
    "# range(end)\n",
    "\n",
    "for i in range(1, 10):\n",
    "    print(i, end='  ')\n",
    "\n",
    "print('\\nvs', end='\\n')\n",
    "    \n",
    "# range(start, end, step)\n",
    "\n",
    "for i in range(0, 10, 2):\n",
    "    print(i, end='  ')"
   ]
  },
  {
   "cell_type": "markdown",
   "metadata": {},
   "source": [
    "Usually the length of the object is used to iterate over all its elements: "
   ]
  },
  {
   "cell_type": "code",
   "execution_count": 10,
   "metadata": {},
   "outputs": [
    {
     "name": "stdout",
     "output_type": "stream",
     "text": [
      "Austria\n",
      "Italy\n",
      "Spain\n",
      "USA\n"
     ]
    }
   ],
   "source": [
    "countries = ['Austria', 'Italy', 'Spain', 'USA']\n",
    "\n",
    "for index in range(len(countries)):\n",
    "    print(countries[index])"
   ]
  },
  {
   "cell_type": "markdown",
   "metadata": {},
   "source": [
    "Enumerate(irterable, start=0) is a function, that returns an enumerate object. Iterable must be a sequence, an iterator, or some other object which supports iteration. This is useful if you want to return both the indices and the elements while iterating over the object."
   ]
  },
  {
   "cell_type": "code",
   "execution_count": 11,
   "metadata": {},
   "outputs": [
    {
     "name": "stdout",
     "output_type": "stream",
     "text": [
      "0 Austria\n",
      "1 Italy\n",
      "2 Spain\n",
      "3 USA\n"
     ]
    }
   ],
   "source": [
    "for index, country in enumerate(countries):\n",
    "    print(index, country)"
   ]
  },
  {
   "cell_type": "markdown",
   "metadata": {},
   "source": [
    "## Functions map, zip, filter"
   ]
  },
  {
   "cell_type": "markdown",
   "metadata": {},
   "source": [
    "**Map( )** returns a map object (an iterator) of the results after applying the given function to each item of a given iterable (list, tuple etc.)"
   ]
  },
  {
   "cell_type": "code",
   "execution_count": 12,
   "metadata": {},
   "outputs": [
    {
     "name": "stdout",
     "output_type": "stream",
     "text": [
      "<map object at 0x7fcf4018e4a8>\n",
      "[1, 4, 9, 16, 25]\n"
     ]
    }
   ],
   "source": [
    "# map(function, iterable)\n",
    "\n",
    "def multiply(n): \n",
    "    return n * n \n",
    "\n",
    "result = map(multiply, [1, 2, 3, 4, 5]) # map object\n",
    "print(result)\n",
    "\n",
    "print(list(result))"
   ]
  },
  {
   "cell_type": "markdown",
   "metadata": {},
   "source": [
    "**Zip** works like a zip jackets :)"
   ]
  },
  {
   "cell_type": "code",
   "execution_count": 13,
   "metadata": {},
   "outputs": [
    {
     "name": "stdout",
     "output_type": "stream",
     "text": [
      "<zip object at 0x7fcf401cf5c8>\n"
     ]
    }
   ],
   "source": [
    "countries = ['Austria', 'Italy', 'Spain', 'USA']\n",
    "population_in_millions = [8.9, 60.4, 47, 328.2]\n",
    "\n",
    "result = zip(countries, population_in_millions) # zip object\n",
    "print(result)"
   ]
  },
  {
   "cell_type": "markdown",
   "metadata": {},
   "source": [
    "We can print the result in a list of tuples:"
   ]
  },
  {
   "cell_type": "code",
   "execution_count": 14,
   "metadata": {
    "scrolled": true
   },
   "outputs": [
    {
     "data": {
      "text/plain": [
       "[('Austria', 8.9), ('Italy', 60.4), ('Spain', 47), ('USA', 328.2)]"
      ]
     },
     "execution_count": 14,
     "metadata": {},
     "output_type": "execute_result"
    }
   ],
   "source": [
    "list(result)"
   ]
  },
  {
   "cell_type": "markdown",
   "metadata": {},
   "source": [
    "Or in a dictionary:"
   ]
  },
  {
   "cell_type": "code",
   "execution_count": 15,
   "metadata": {},
   "outputs": [
    {
     "data": {
      "text/plain": [
       "{'Austria': 8.9, 'Italy': 60.4, 'Spain': 47, 'USA': 328.2}"
      ]
     },
     "execution_count": 15,
     "metadata": {},
     "output_type": "execute_result"
    }
   ],
   "source": [
    "result = zip(countries, population_in_millions)\n",
    "dict(result)"
   ]
  },
  {
   "cell_type": "markdown",
   "metadata": {},
   "source": [
    "We can save it using variable and use it somehow. "
   ]
  },
  {
   "cell_type": "code",
   "execution_count": 16,
   "metadata": {},
   "outputs": [
    {
     "data": {
      "text/plain": [
       "{'Austria': 8.9, 'Italy': 60.4, 'Spain': 47, 'USA': 328.2}"
      ]
     },
     "execution_count": 16,
     "metadata": {},
     "output_type": "execute_result"
    }
   ],
   "source": [
    "result = dict(zip(countries, population_in_millions))\n",
    "result"
   ]
  },
  {
   "cell_type": "code",
   "execution_count": 17,
   "metadata": {},
   "outputs": [
    {
     "data": {
      "text/plain": [
       "47"
      ]
     },
     "execution_count": 17,
     "metadata": {},
     "output_type": "execute_result"
    }
   ],
   "source": [
    "result['Spain']"
   ]
  },
  {
   "cell_type": "markdown",
   "metadata": {},
   "source": [
    "Filter( ) method filters the given sequence with the help of a function. It tests each element in the sequence to be True or False (whether it satisfies the condition or not)."
   ]
  },
  {
   "cell_type": "code",
   "execution_count": 18,
   "metadata": {},
   "outputs": [
    {
     "name": "stdout",
     "output_type": "stream",
     "text": [
      "Presidents of the United States of America:\n",
      "Donald Trump, USA\n",
      "Bill Clinton, USA\n",
      "Barack Obama, USA\n"
     ]
    }
   ],
   "source": [
    "men = ['Donald Trump, USA', 'Pablo Escobar, Colombia', 'Bill Clinton, USA', \n",
    "       'Nicolas Maduro, Venezuela', 'Barack Obama, USA']\n",
    "\n",
    "def get_usa_president(candidate):\n",
    "        if 'USA' in candidate: # if - else construction \n",
    "            return True\n",
    "        else:\n",
    "            return False\n",
    "\n",
    "filtered = filter(get_usa_president, men) \n",
    "  \n",
    "print('Presidents of the United States of America:') \n",
    "for i in filtered: \n",
    "    print(i)"
   ]
  },
  {
   "cell_type": "markdown",
   "metadata": {},
   "source": [
    "By the way, recall the if - else construction:"
   ]
  },
  {
   "cell_type": "code",
   "execution_count": 19,
   "metadata": {},
   "outputs": [
    {
     "name": "stdout",
     "output_type": "stream",
     "text": [
      "Filter 1 is passed\n"
     ]
    }
   ],
   "source": [
    "number = 100\n",
    "\n",
    "if (number < 1000 and number > 10):\n",
    "    print('Filter 1 is passed')\n",
    "else:\n",
    "    print('Filter 2 is passed')"
   ]
  },
  {
   "cell_type": "code",
   "execution_count": 20,
   "metadata": {},
   "outputs": [
    {
     "name": "stdout",
     "output_type": "stream",
     "text": [
      "Filter 3 is passed\n"
     ]
    }
   ],
   "source": [
    "if number < 10:\n",
    "    print('Filter 1 is passed')\n",
    "elif number < 50:\n",
    "    print('Filter 2 is passed')\n",
    "else:\n",
    "    print('Filter 3 is passed')"
   ]
  },
  {
   "cell_type": "markdown",
   "metadata": {},
   "source": [
    "## Lambda function"
   ]
  },
  {
   "cell_type": "markdown",
   "metadata": {},
   "source": [
    "Lambda function allows you to write a function in one line instead of using **def**, for example."
   ]
  },
  {
   "cell_type": "code",
   "execution_count": 21,
   "metadata": {},
   "outputs": [
    {
     "data": {
      "text/plain": [
       "32"
      ]
     },
     "execution_count": 21,
     "metadata": {},
     "output_type": "execute_result"
    }
   ],
   "source": [
    "def power(x, y):\n",
    "    return x ** y\n",
    "\n",
    "power(2, 5)"
   ]
  },
  {
   "cell_type": "markdown",
   "metadata": {},
   "source": [
    "is the same as"
   ]
  },
  {
   "cell_type": "code",
   "execution_count": 22,
   "metadata": {},
   "outputs": [
    {
     "data": {
      "text/plain": [
       "32"
      ]
     },
     "execution_count": 22,
     "metadata": {},
     "output_type": "execute_result"
    }
   ],
   "source": [
    "power = lambda x, y: x ** y\n",
    "\n",
    "power(2, 5)"
   ]
  },
  {
   "cell_type": "markdown",
   "metadata": {},
   "source": [
    "Now, some brainteasers for you with ```lambda``` applications:"
   ]
  },
  {
   "cell_type": "code",
   "execution_count": 23,
   "metadata": {},
   "outputs": [
    {
     "data": {
      "text/plain": [
       "['Russia']"
      ]
     },
     "execution_count": 23,
     "metadata": {},
     "output_type": "execute_result"
    }
   ],
   "source": [
    "list(filter(lambda x: x if x == 'Russia' else False, ['Austria', 'Spain', 'Italy', 'USA', 'Russia']))"
   ]
  },
  {
   "cell_type": "code",
   "execution_count": 24,
   "metadata": {},
   "outputs": [
    {
     "data": {
      "text/plain": [
       "[0, 1, 4, 9, 16, 25]"
      ]
     },
     "execution_count": 24,
     "metadata": {},
     "output_type": "execute_result"
    }
   ],
   "source": [
    "nums = [0, 1, 2, 3, 4, 5]\n",
    "list(map(lambda num: num ** 2, nums))"
   ]
  },
  {
   "cell_type": "markdown",
   "metadata": {},
   "source": [
    "## Loops for and while\n",
    "\n",
    "https://www.w3schools.com/python/python_while_loops.asp"
   ]
  },
  {
   "cell_type": "code",
   "execution_count": 25,
   "metadata": {},
   "outputs": [
    {
     "name": "stdout",
     "output_type": "stream",
     "text": [
      "Current country: Spain\n",
      "True\n",
      "Current country: Germany\n",
      "False\n",
      "Current country: South Korea\n",
      "True\n",
      "Current country: Russia\n",
      "False\n",
      "Current country: Switzerland\n",
      "True\n",
      "Current country: Yemen\n",
      "False\n"
     ]
    }
   ],
   "source": [
    "starts_with_s = []\n",
    "\n",
    "countries = ['Spain', 'Germany', 'South Korea', 'Russia', 'Switzerland', 'Yemen']\n",
    "\n",
    "for i in countries:\n",
    "    print('Current country:', i)\n",
    "    if i.startswith('S'):\n",
    "        print(True)\n",
    "        starts_with_s.append(i)\n",
    "    else:\n",
    "        print(False)"
   ]
  },
  {
   "cell_type": "code",
   "execution_count": 26,
   "metadata": {},
   "outputs": [
    {
     "data": {
      "text/plain": [
       "['Spain', 'South Korea', 'Switzerland']"
      ]
     },
     "execution_count": 26,
     "metadata": {},
     "output_type": "execute_result"
    }
   ],
   "source": [
    "starts_with_s"
   ]
  },
  {
   "cell_type": "markdown",
   "metadata": {},
   "source": [
    "**While** works as long as a condition is True:"
   ]
  },
  {
   "cell_type": "code",
   "execution_count": 27,
   "metadata": {},
   "outputs": [],
   "source": [
    "strange_line = 'it could be a string of letters but suddenly we get 500$'\n",
    "\n",
    "index = 0\n",
    "while strange_line[index].isalpha() or strange_line[index] == ' ':\n",
    "    index += 1"
   ]
  },
  {
   "cell_type": "code",
   "execution_count": 28,
   "metadata": {},
   "outputs": [
    {
     "data": {
      "text/plain": [
       "'5'"
      ]
     },
     "execution_count": 28,
     "metadata": {},
     "output_type": "execute_result"
    }
   ],
   "source": [
    "strange_line[index]"
   ]
  },
  {
   "cell_type": "markdown",
   "metadata": {},
   "source": [
    "## Time executaion monitoring\n",
    "\n",
    "https://tqdm.github.io/\n",
    "\n",
    "**tqdm** is a library for displaying a progress bar while executing code."
   ]
  },
  {
   "cell_type": "code",
   "execution_count": 29,
   "metadata": {},
   "outputs": [],
   "source": [
    "from tqdm import tqdm"
   ]
  },
  {
   "cell_type": "code",
   "execution_count": 30,
   "metadata": {},
   "outputs": [
    {
     "name": "stderr",
     "output_type": "stream",
     "text": [
      "100%|██████████| 50000000/50000000 [00:13<00:00, 3791215.11it/s]\n"
     ]
    }
   ],
   "source": [
    "sequence = []\n",
    "for number in tqdm(range(50000000)):\n",
    "    sequence.append(number)"
   ]
  },
  {
   "cell_type": "code",
   "execution_count": 32,
   "metadata": {},
   "outputs": [
    {
     "data": {
      "text/plain": [
       "[49999995, 49999996, 49999997, 49999998, 49999999]"
      ]
     },
     "execution_count": 32,
     "metadata": {},
     "output_type": "execute_result"
    }
   ],
   "source": [
    "sequence[-5:]"
   ]
  },
  {
   "cell_type": "markdown",
   "metadata": {},
   "source": [
    "## Type of errors and ways to manage them\n",
    "\n",
    "Last but not least, you will often get errors in Python, so please have a look at their classification and what they mean: \n",
    "\n",
    "1. https://docs.python.org/3/tutorial/errors.html \n",
    "2. https://www.tutorialsteacher.com/python/error-types-in-python"
   ]
  },
  {
   "cell_type": "code",
   "execution_count": null,
   "metadata": {},
   "outputs": [],
   "source": []
  }
 ],
 "metadata": {
  "kernelspec": {
   "display_name": "Python 3",
   "language": "python",
   "name": "python3"
  },
  "language_info": {
   "codemirror_mode": {
    "name": "ipython",
    "version": 3
   },
   "file_extension": ".py",
   "mimetype": "text/x-python",
   "name": "python",
   "nbconvert_exporter": "python",
   "pygments_lexer": "ipython3",
   "version": "3.6.12"
  }
 },
 "nbformat": 4,
 "nbformat_minor": 2
}
