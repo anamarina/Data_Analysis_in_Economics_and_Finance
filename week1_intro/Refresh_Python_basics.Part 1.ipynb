{
 "cells": [
  {
   "cell_type": "markdown",
   "metadata": {},
   "source": [
    "# <center> Hello, World </center>\n",
    "\n",
    "<img src=https://sdtimes.com/wp-content/uploads/2019/07/green-tree-python-1014229_640-490x326.jpg >\n",
    "\n",
    "Did you know that Python was not named after this cute reptile?\n",
    "\n",
    "*'When he began implementing Python, Guido van Rossum [the creator of the Python] was also reading the published scripts from “Monty Python's Flying Circus”, a BBC comedy series from the 1970s. Van Rossum thought he needed a name that was short, unique, and slightly mysterious, so he decided to call the language Python'.* [Python FAQ](https://docs.python.org/3/faq/general.html)\n",
    "\n",
    "This notebook will help you brush up on your Python basics.\n",
    "\n",
    "Some useful links, so you can recall the material, or find out what you did not know:\n",
    "\n",
    "1. **Python documentation** https://docs.python.org/3/\n",
    "2. **Python official and very long tutorial** https://docs.python.org/3/tutorial/ However, you will find all the information you need in our course there. I recommend to pay attention only to the chapters: 3. Informal Introduction to Python - 9. Classes.\n",
    "\n",
    "Estimated reading time for tutorial's selected chapters: 3-5 hours. Solid Python programming skills - priceless. "
   ]
  },
  {
   "cell_type": "code",
   "execution_count": 1,
   "metadata": {},
   "outputs": [
    {
     "name": "stdout",
     "output_type": "stream",
     "text": [
      "The Zen of Python, by Tim Peters\n",
      "\n",
      "Beautiful is better than ugly.\n",
      "Explicit is better than implicit.\n",
      "Simple is better than complex.\n",
      "Complex is better than complicated.\n",
      "Flat is better than nested.\n",
      "Sparse is better than dense.\n",
      "Readability counts.\n",
      "Special cases aren't special enough to break the rules.\n",
      "Although practicality beats purity.\n",
      "Errors should never pass silently.\n",
      "Unless explicitly silenced.\n",
      "In the face of ambiguity, refuse the temptation to guess.\n",
      "There should be one-- and preferably only one --obvious way to do it.\n",
      "Although that way may not be obvious at first unless you're Dutch.\n",
      "Now is better than never.\n",
      "Although never is often better than *right* now.\n",
      "If the implementation is hard to explain, it's a bad idea.\n",
      "If the implementation is easy to explain, it may be a good idea.\n",
      "Namespaces are one honking great idea -- let's do more of those!\n"
     ]
    }
   ],
   "source": [
    "import this"
   ]
  },
  {
   "cell_type": "markdown",
   "metadata": {},
   "source": [
    "# Preliminaries. Fancy use of Jupyter Notebook"
   ]
  },
  {
   "cell_type": "markdown",
   "metadata": {},
   "source": [
    "Here is a [cheat sheet](https://medium.com/edureka/jupyter-notebook-cheat-sheet-88f60d1aca7) on Jupyter Notebook. Take a look at the menu bar first. Make sure you know how to find the key operations in File: Open, Make a Copy, Save as, Rename, Download as.\n",
    "On the bottom bar - check that you remember how to:\n",
    "* **Save the current version of the notebook** (floppy disk icon). If you've been working in your notebook for too long, it's better to click on this icon and save a checkpoint (= an intermediate version of your file). Otherwise, if something goes wrong (connection is lost, your notebook hovers because can't execute your beautiful code anymore, or for any other reason when the universe creates new obstacles for you), your code will not be saved and will be lost. **Shortcut: Ctrl + S / Command + S**\n",
    "\n",
    "* **Add a new cell** (plus icon). Don't code everything in one cell, organize and decompose it. **Shortcuts: Add a cell above: Ctrl + A / Command + A. Add a cell bellow: Ctrl + B / Command + B**\n",
    "\n",
    "* Run a cell (this button is even named there for you). **Shortcut: Shift + Enter**\n",
    "\n",
    "* Delete a cell. **Shortcut: D, D** - double click on D in a command mode.\n",
    "\n",
    "* Interrupt the notebook (black square icon) and restart (circular arrow). In most cases, you use it if: 1) you forgot or did nor realize that your cell's output is too long and heavy to display; 2) you wrote something wrong, for instance, an infinite loop that never ends. **Shortcut to interupt the kernel: I, I** - double-click on the letter I. \n",
    "\n",
    "* Switch to markdown (code cell -> text cell) **M** in command mode or in the menu panel above. If you want to add titles or descriptions to your code, it's better to use markdown instead of the comments (#). \n",
    "\n",
    "! Before using the shortcuts, you need to click somewhere inside the notebook but outside the gray cells for coding/markdown. This is how you activate command mode. An alternative option is to enter the command mode (if you're currently in a gray code cell) - press Esc on your keyboard."
   ]
  },
  {
   "cell_type": "markdown",
   "metadata": {},
   "source": [
    "# Let's revise together"
   ]
  },
  {
   "cell_type": "markdown",
   "metadata": {},
   "source": [
    "## Table of Contents\n",
    "1. [Print](#print)\n",
    "2. [Data types](#datatypes)\n",
    "3. [Data structures](#datastructures)\n",
    "4. [Indexing and slicing](#indexing)\n",
    "5. [Data structures methods](#methods)\n",
    "\n",
    "## Print <a name=\"print\"></a>\n",
    "print( ) is a function in Python3. It prints objects to the text stream file, separated by *sep* and followed by *end*. "
   ]
  },
  {
   "cell_type": "code",
   "execution_count": 2,
   "metadata": {},
   "outputs": [
    {
     "data": {
      "text/plain": [
       "'Hello, world'"
      ]
     },
     "execution_count": 2,
     "metadata": {},
     "output_type": "execute_result"
    }
   ],
   "source": [
    "# output returns a string \n",
    "'Hello, world'"
   ]
  },
  {
   "cell_type": "code",
   "execution_count": 3,
   "metadata": {},
   "outputs": [
    {
     "name": "stdout",
     "output_type": "stream",
     "text": [
      "Hello, world\n"
     ]
    }
   ],
   "source": [
    "# output returns the result of print () function\n",
    "print('Hello, world')"
   ]
  },
  {
   "cell_type": "code",
   "execution_count": 4,
   "metadata": {},
   "outputs": [
    {
     "name": "stdout",
     "output_type": "stream",
     "text": [
      "Hello, world\n"
     ]
    },
    {
     "data": {
      "text/plain": [
       "(str, NoneType)"
      ]
     },
     "execution_count": 4,
     "metadata": {},
     "output_type": "execute_result"
    }
   ],
   "source": [
    "# compare these data types\n",
    "type('Hello, world'), type(print('Hello, world'))"
   ]
  },
  {
   "cell_type": "markdown",
   "metadata": {},
   "source": [
    "This is because print( ) displays the output as you requested, but does not store it, and its type is NoneType.\n",
    "\n",
    "Why are we using print( )?\n",
    "This is useful if you want to see the output of the code above the last line:"
   ]
  },
  {
   "cell_type": "code",
   "execution_count": 5,
   "metadata": {},
   "outputs": [
    {
     "name": "stdout",
     "output_type": "stream",
     "text": [
      "Python is easy\n"
     ]
    }
   ],
   "source": [
    "# \\n - new line\n",
    "'If you are a nerd, \\n'\n",
    "print('Python is easy')"
   ]
  },
  {
   "cell_type": "markdown",
   "metadata": {},
   "source": [
    "Only the last line is printed. What if we want both of them out? Now change the place for print ():"
   ]
  },
  {
   "cell_type": "code",
   "execution_count": 6,
   "metadata": {},
   "outputs": [
    {
     "name": "stdout",
     "output_type": "stream",
     "text": [
      "If you are a nerd,\n"
     ]
    },
    {
     "data": {
      "text/plain": [
       "'Python is easy'"
      ]
     },
     "execution_count": 6,
     "metadata": {},
     "output_type": "execute_result"
    }
   ],
   "source": [
    "print('If you are a nerd,')\n",
    "'Python is easy'"
   ]
  },
  {
   "cell_type": "code",
   "execution_count": 7,
   "metadata": {},
   "outputs": [
    {
     "name": "stdout",
     "output_type": "stream",
     "text": [
      "And I think to myself\n",
      "what a wonderful world!"
     ]
    }
   ],
   "source": [
    "# make sure you understand every character on that line\n",
    "# we have 2 arguments (two string lines) in print()\n",
    "print('And I think to myself', 'what a wonderful world', sep='\\n', end='!')"
   ]
  },
  {
   "cell_type": "markdown",
   "metadata": {},
   "source": [
    "*Sep* = separator; character separating arguments inside the print() function.\n",
    "\n",
    "*End* - you can add characters at the end of your last argument in print( )."
   ]
  },
  {
   "cell_type": "markdown",
   "metadata": {},
   "source": [
    "[Show me more on print!](https://realpython.com/python-print/) *In fact, it contains too much information, so the first time you read this manual, please skip it.*"
   ]
  },
  {
   "cell_type": "markdown",
   "metadata": {},
   "source": [
    "## Data types <a name=\"datatypes\"></a>"
   ]
  },
  {
   "cell_type": "markdown",
   "metadata": {},
   "source": [
    "The main types of numbers: **integer** (int), **float**. https://docs.python.org/3/tutorial/introduction.html#numbers"
   ]
  },
  {
   "cell_type": "code",
   "execution_count": 8,
   "metadata": {},
   "outputs": [
    {
     "data": {
      "text/plain": [
       "int"
      ]
     },
     "execution_count": 8,
     "metadata": {},
     "output_type": "execute_result"
    }
   ],
   "source": [
    "type(10)"
   ]
  },
  {
   "cell_type": "code",
   "execution_count": 9,
   "metadata": {},
   "outputs": [
    {
     "data": {
      "text/plain": [
       "float"
      ]
     },
     "execution_count": 9,
     "metadata": {},
     "output_type": "execute_result"
    }
   ],
   "source": [
    "type(10.0)"
   ]
  },
  {
   "cell_type": "code",
   "execution_count": 10,
   "metadata": {},
   "outputs": [
    {
     "data": {
      "text/plain": [
       "10"
      ]
     },
     "execution_count": 10,
     "metadata": {},
     "output_type": "execute_result"
    }
   ],
   "source": [
    "# float into integer\n",
    "int(10.8)"
   ]
  },
  {
   "cell_type": "markdown",
   "metadata": {},
   "source": [
    "Wait a minute, where is 0.8?"
   ]
  },
  {
   "cell_type": "code",
   "execution_count": 11,
   "metadata": {},
   "outputs": [
    {
     "data": {
      "text/plain": [
       "11"
      ]
     },
     "execution_count": 11,
     "metadata": {},
     "output_type": "execute_result"
    }
   ],
   "source": [
    "# mathematical rounding\n",
    "round(10.8)"
   ]
  },
  {
   "cell_type": "markdown",
   "metadata": {},
   "source": [
    "Converting a floating point number to an integer is not equal to mathematical rounding."
   ]
  },
  {
   "cell_type": "code",
   "execution_count": 12,
   "metadata": {},
   "outputs": [
    {
     "data": {
      "text/plain": [
       "100"
      ]
     },
     "execution_count": 12,
     "metadata": {},
     "output_type": "execute_result"
    }
   ],
   "source": [
    "# the absolute value\n",
    "abs(-100)"
   ]
  },
  {
   "cell_type": "markdown",
   "metadata": {},
   "source": [
    "Arithmetical operations"
   ]
  },
  {
   "cell_type": "code",
   "execution_count": 13,
   "metadata": {},
   "outputs": [
    {
     "data": {
      "text/plain": [
       "4"
      ]
     },
     "execution_count": 13,
     "metadata": {},
     "output_type": "execute_result"
    }
   ],
   "source": [
    "2 + 2"
   ]
  },
  {
   "cell_type": "code",
   "execution_count": 14,
   "metadata": {},
   "outputs": [
    {
     "name": "stdout",
     "output_type": "stream",
     "text": [
      "Sum: 2 + 2 = 4\n"
     ]
    }
   ],
   "source": [
    "print('Sum: 2 + 2 =', 2 + 2)"
   ]
  },
  {
   "cell_type": "code",
   "execution_count": 15,
   "metadata": {},
   "outputs": [
    {
     "name": "stdout",
     "output_type": "stream",
     "text": [
      "Subtraction: 2 - 2 = 0 \n",
      "Devision: 11 / 5 = 2.2 \n",
      "Integer devision: 11 // 5 = 2 \n",
      "Multiplication: 2 * 3 = 6 \n",
      "Power: 2 ** 3 = 8 \n",
      " Remainder of division: 41 % 10 = 1\n"
     ]
    }
   ],
   "source": [
    "print( 'Subtraction: 2 - 2 =', 2 - 2, \n",
    "      '\\nDevision: 11 / 5 =', 11 / 5,\n",
    "      '\\nInteger devision: 11 // 5 =', 11 // 5,\n",
    "      '\\nMultiplication: 2 * 3 =', 2 * 3,\n",
    "      '\\nPower: 2 ** 3 =', 2 ** 3,\n",
    "      '\\n Remainder of division: 41 % 10 =', 41 % 10,\n",
    "      sep=' ')"
   ]
  },
  {
   "cell_type": "markdown",
   "metadata": {},
   "source": [
    "For text data we use **strings**. https://docs.python.org/3/tutorial/introduction.html#strings"
   ]
  },
  {
   "cell_type": "code",
   "execution_count": 16,
   "metadata": {},
   "outputs": [
    {
     "name": "stdout",
     "output_type": "stream",
     "text": [
      "Fashion is my profession.\n"
     ]
    },
    {
     "data": {
      "text/plain": [
       "str"
      ]
     },
     "execution_count": 16,
     "metadata": {},
     "output_type": "execute_result"
    }
   ],
   "source": [
    "profession = 'Fashion'\n",
    "\n",
    "print(profession, 'is my profession.')\n",
    "type(profession)"
   ]
  },
  {
   "cell_type": "markdown",
   "metadata": {},
   "source": [
    "**Bool**"
   ]
  },
  {
   "cell_type": "code",
   "execution_count": 17,
   "metadata": {},
   "outputs": [
    {
     "data": {
      "text/plain": [
       "bool"
      ]
     },
     "execution_count": 17,
     "metadata": {},
     "output_type": "execute_result"
    }
   ],
   "source": [
    "type(True)"
   ]
  },
  {
   "cell_type": "code",
   "execution_count": 18,
   "metadata": {},
   "outputs": [
    {
     "data": {
      "text/plain": [
       "True"
      ]
     },
     "execution_count": 18,
     "metadata": {},
     "output_type": "execute_result"
    }
   ],
   "source": [
    "True or False"
   ]
  },
  {
   "cell_type": "code",
   "execution_count": 19,
   "metadata": {},
   "outputs": [
    {
     "data": {
      "text/plain": [
       "1"
      ]
     },
     "execution_count": 19,
     "metadata": {},
     "output_type": "execute_result"
    }
   ],
   "source": [
    "# True = 1, False = 0\n",
    "1 or 0"
   ]
  },
  {
   "cell_type": "code",
   "execution_count": 20,
   "metadata": {},
   "outputs": [
    {
     "data": {
      "text/plain": [
       "False"
      ]
     },
     "execution_count": 20,
     "metadata": {},
     "output_type": "execute_result"
    }
   ],
   "source": [
    "True and False"
   ]
  },
  {
   "cell_type": "code",
   "execution_count": 21,
   "metadata": {
    "scrolled": true
   },
   "outputs": [
    {
     "data": {
      "text/plain": [
       "True"
      ]
     },
     "execution_count": 21,
     "metadata": {},
     "output_type": "execute_result"
    }
   ],
   "source": [
    "# = means to store the value (5) with a pointer ('number') variable in memory\n",
    "number = 5\n",
    "\n",
    "# == means 'equal to' and returns True or False\n",
    "number == 5"
   ]
  },
  {
   "cell_type": "markdown",
   "metadata": {},
   "source": [
    "!= means 'not equal to'"
   ]
  },
  {
   "cell_type": "code",
   "execution_count": 22,
   "metadata": {},
   "outputs": [
    {
     "data": {
      "text/plain": [
       "False"
      ]
     },
     "execution_count": 22,
     "metadata": {},
     "output_type": "execute_result"
    }
   ],
   "source": [
    "number != 5"
   ]
  },
  {
   "cell_type": "code",
   "execution_count": 23,
   "metadata": {},
   "outputs": [
    {
     "data": {
      "text/plain": [
       "True"
      ]
     },
     "execution_count": 23,
     "metadata": {},
     "output_type": "execute_result"
    }
   ],
   "source": [
    "number <= 5"
   ]
  },
  {
   "cell_type": "markdown",
   "metadata": {},
   "source": [
    "## Data structures <a name=\"datastructures\"></a>"
   ]
  },
  {
   "cell_type": "markdown",
   "metadata": {},
   "source": [
    "While reading, pay attention to the types of brackets.\n",
    "\n",
    "<img src=\"./Rick_and_Morty.jpg\" width=400 height=300 align='left'>"
   ]
  },
  {
   "cell_type": "markdown",
   "metadata": {},
   "source": [
    "**Lists** and arrays are the same thing in Python. https://docs.python.org/3/tutorial/introduction.html#lists and https://docs.python.org/3/tutorial/datastructures.html#more-on-lists"
   ]
  },
  {
   "cell_type": "code",
   "execution_count": 24,
   "metadata": {},
   "outputs": [
    {
     "data": {
      "text/plain": [
       "list"
      ]
     },
     "execution_count": 24,
     "metadata": {},
     "output_type": "execute_result"
    }
   ],
   "source": [
    "supermarket_queue = ['Summer', 'Jerry', 'Beth', 'Rick', 'Morty']\n",
    "type(supermarket_queue)"
   ]
  },
  {
   "cell_type": "code",
   "execution_count": 25,
   "metadata": {},
   "outputs": [
    {
     "data": {
      "text/plain": [
       "['Summer', 'Jerry', 'Beth', 'Rick', 'Morty']"
      ]
     },
     "execution_count": 25,
     "metadata": {},
     "output_type": "execute_result"
    }
   ],
   "source": [
    "# Python keeps the elements of list in the same order\n",
    "supermarket_queue"
   ]
  },
  {
   "cell_type": "markdown",
   "metadata": {},
   "source": [
    "**Dictionaries** consists of pairs: { key : value, key : value, ... }. \n",
    "\n",
    "Dictionary values can be of any type, but the keys must be of an immutable data type such as strings, numbers, or tuples.\n",
    "\n",
    "https://docs.python.org/3/tutorial/datastructures.html#dictionaries"
   ]
  },
  {
   "cell_type": "code",
   "execution_count": 26,
   "metadata": {},
   "outputs": [
    {
     "data": {
      "text/plain": [
       "dict"
      ]
     },
     "execution_count": 26,
     "metadata": {},
     "output_type": "execute_result"
    }
   ],
   "source": [
    "family_age_info = {'You': 20, 'Summer' : 17, 'Jerry' : 35, 'Rick' : 70, 'Morty' : 14, \n",
    "                   'Beth' : 34, 'You' : 'forever young'}\n",
    "type(family_age_info)"
   ]
  },
  {
   "cell_type": "code",
   "execution_count": 27,
   "metadata": {},
   "outputs": [
    {
     "data": {
      "text/plain": [
       "{'You': 'forever young',\n",
       " 'Summer': 17,\n",
       " 'Jerry': 35,\n",
       " 'Rick': 70,\n",
       " 'Morty': 14,\n",
       " 'Beth': 34}"
      ]
     },
     "execution_count": 27,
     "metadata": {},
     "output_type": "execute_result"
    }
   ],
   "source": [
    "family_age_info"
   ]
  },
  {
   "cell_type": "markdown",
   "metadata": {},
   "source": [
    "The keys in dictionaries must be unique. If you have assigned several values to one key in a row, the dictionary will keep the last value. This is why {'You' : 20} is overwritten to {'You' : 'forever young'}."
   ]
  },
  {
   "cell_type": "markdown",
   "metadata": {},
   "source": [
    "**Tuple**\n",
    "\n",
    "https://docs.python.org/3/tutorial/datastructures.html#tuples-and-sequences"
   ]
  },
  {
   "cell_type": "code",
   "execution_count": 28,
   "metadata": {},
   "outputs": [
    {
     "data": {
      "text/plain": [
       "tuple"
      ]
     },
     "execution_count": 28,
     "metadata": {},
     "output_type": "execute_result"
    }
   ],
   "source": [
    "rick_nicknames = ('Grandpa Rick', 'Dad', 'Rick', 'Albert Ein-douche', \n",
    "                  'Pickle Rick', 'Smartest Man in the Universe')\n",
    "type(rick_nicknames)"
   ]
  },
  {
   "cell_type": "code",
   "execution_count": 29,
   "metadata": {},
   "outputs": [
    {
     "data": {
      "text/plain": [
       "('Grandpa Rick',\n",
       " 'Dad',\n",
       " 'Rick',\n",
       " 'Albert Ein-douche',\n",
       " 'Pickle Rick',\n",
       " 'Smartest Man in the Universe')"
      ]
     },
     "execution_count": 29,
     "metadata": {},
     "output_type": "execute_result"
    }
   ],
   "source": [
    "rick_nicknames"
   ]
  },
  {
   "cell_type": "markdown",
   "metadata": {},
   "source": [
    "Let's change one of the nicknames:"
   ]
  },
  {
   "cell_type": "code",
   "execution_count": 30,
   "metadata": {},
   "outputs": [
    {
     "ename": "TypeError",
     "evalue": "'tuple' object does not support item assignment",
     "output_type": "error",
     "traceback": [
      "\u001b[0;31m---------------------------------------------------------------------------\u001b[0m",
      "\u001b[0;31mTypeError\u001b[0m                                 Traceback (most recent call last)",
      "\u001b[0;32m<ipython-input-30-6709c7ecaec0>\u001b[0m in \u001b[0;36m<module>\u001b[0;34m\u001b[0m\n\u001b[0;32m----> 1\u001b[0;31m \u001b[0mrick_nicknames\u001b[0m\u001b[0;34m[\u001b[0m\u001b[0;36m0\u001b[0m\u001b[0;34m]\u001b[0m \u001b[0;34m=\u001b[0m \u001b[0;34m'Other nickname'\u001b[0m\u001b[0;34m\u001b[0m\u001b[0;34m\u001b[0m\u001b[0m\n\u001b[0m",
      "\u001b[0;31mTypeError\u001b[0m: 'tuple' object does not support item assignment"
     ]
    }
   ],
   "source": [
    "rick_nicknames[0] = 'Other nickname'"
   ]
  },
  {
   "cell_type": "markdown",
   "metadata": {},
   "source": [
    "The **TypeError** was raised because, unlike lists, tuples are immutable. This is why we cannot change the assigned items."
   ]
  },
  {
   "cell_type": "markdown",
   "metadata": {},
   "source": [
    "**Set** \n",
    "\n",
    "We usually use sets instead of lists and tuples when we need to check if an element is in a set of unique elements or not. Sets as a data structure are faster than others.\n",
    "https://docs.python.org/3/tutorial/datastructures.html#sets"
   ]
  },
  {
   "cell_type": "code",
   "execution_count": 32,
   "metadata": {},
   "outputs": [],
   "source": [
    "mood_diary_during_month = {'gloomy', 'happy', 'sad', 'annoyed', 'scared', \n",
    "                           'happy', 'glad', 'sleepy', 'gloomy', 'annoyed', 'romantic', \n",
    "                           'depressed', 'sleepy', 'scared', 'annoyed', 'happy', 'romantic',\n",
    "                           'scared', 'sleepy', 'annoyed', 'scared', 'happy', 'glad',\n",
    "                          'gloomy', 'annoyed', 'romantic', 'happy', 'gloomy', 'gloomy',\n",
    "                          'happy', 'sad', 'annoyed', 'depressed', 'sleepy', 'scared',\n",
    "                          'annoyed', 'scared', 'gloomy', 'annoyed', 'romantic'}"
   ]
  },
  {
   "cell_type": "code",
   "execution_count": 33,
   "metadata": {},
   "outputs": [
    {
     "data": {
      "text/plain": [
       "{'annoyed',\n",
       " 'depressed',\n",
       " 'glad',\n",
       " 'gloomy',\n",
       " 'happy',\n",
       " 'romantic',\n",
       " 'sad',\n",
       " 'scared',\n",
       " 'sleepy'}"
      ]
     },
     "execution_count": 33,
     "metadata": {},
     "output_type": "execute_result"
    }
   ],
   "source": [
    "# only unique elements are kept\n",
    "mood_diary_during_month"
   ]
  },
  {
   "cell_type": "code",
   "execution_count": 34,
   "metadata": {},
   "outputs": [
    {
     "data": {
      "text/plain": [
       "True"
      ]
     },
     "execution_count": 34,
     "metadata": {},
     "output_type": "execute_result"
    }
   ],
   "source": [
    "# check if \"annoying\" is one of the elements in the set\n",
    "'annoyed' in mood_diary_during_month"
   ]
  },
  {
   "cell_type": "markdown",
   "metadata": {},
   "source": [
    "Summing up the properties. **Ordered** means that Python stores elements in the same order you specified when you created it. **Mutable** means that we can change the elements, for example, to replace one of the elements with a new value. **Constructor** demonstrates how to create, represent and store each data type. Note the difference in brackets."
   ]
  },
  {
   "cell_type": "markdown",
   "metadata": {},
   "source": [
    "<img src=\"https://miro.medium.com/max/1400/1*Det-kkoSw9T4IZ4XrypVNQ.png\" style=\"width:700px;height:300px\"/>"
   ]
  },
  {
   "cell_type": "markdown",
   "metadata": {},
   "source": [
    "## Indexing and slicing <a name=\"indexing\"></a>"
   ]
  },
  {
   "cell_type": "code",
   "execution_count": 35,
   "metadata": {},
   "outputs": [
    {
     "data": {
      "text/plain": [
       "['Summer', 'Jerry', 'Beth', 'Rick', 'Morty']"
      ]
     },
     "execution_count": 35,
     "metadata": {},
     "output_type": "execute_result"
    }
   ],
   "source": [
    "supermarket_queue"
   ]
  },
  {
   "cell_type": "code",
   "execution_count": 36,
   "metadata": {},
   "outputs": [
    {
     "data": {
      "text/plain": [
       "5"
      ]
     },
     "execution_count": 36,
     "metadata": {},
     "output_type": "execute_result"
    }
   ],
   "source": [
    "# list length\n",
    "len(supermarket_queue)"
   ]
  },
  {
   "cell_type": "markdown",
   "metadata": {},
   "source": [
    "Each item in the list has its own index. 0 - 'Summer', 1 - 'Jerry', etc. You can return an item from a list by its index using square brackets [ ].\n",
    "\n",
    "<img src=\"https://cdn.programiz.com/sites/tutorial2program/files/python-list-index.png\" width=\"500\" height=\"500\" align=\"left\">"
   ]
  },
  {
   "cell_type": "code",
   "execution_count": 37,
   "metadata": {},
   "outputs": [
    {
     "data": {
      "text/plain": [
       "'Summer'"
      ]
     },
     "execution_count": 37,
     "metadata": {},
     "output_type": "execute_result"
    }
   ],
   "source": [
    "# who's first in line?\n",
    "# indexing in Python starts at 0 instead of 1\n",
    "\n",
    "supermarket_queue[0]"
   ]
  },
  {
   "cell_type": "code",
   "execution_count": 38,
   "metadata": {},
   "outputs": [
    {
     "data": {
      "text/plain": [
       "'Morty'"
      ]
     },
     "execution_count": 38,
     "metadata": {},
     "output_type": "execute_result"
    }
   ],
   "source": [
    "# who is the last one?\n",
    "\n",
    "supermarket_queue[-1]"
   ]
  },
  {
   "cell_type": "markdown",
   "metadata": {},
   "source": [
    "or"
   ]
  },
  {
   "cell_type": "code",
   "execution_count": 39,
   "metadata": {},
   "outputs": [
    {
     "data": {
      "text/plain": [
       "'Morty'"
      ]
     },
     "execution_count": 39,
     "metadata": {},
     "output_type": "execute_result"
    }
   ],
   "source": [
    "# the index of the last element is (length - 1) because indices start at 0 instead of 1\n",
    "\n",
    "supermarket_queue[len(supermarket_queue) - 1]"
   ]
  },
  {
   "cell_type": "markdown",
   "metadata": {},
   "source": [
    "Explanation: **[start index : end index : step]** [more details](https://stackoverflow.com/questions/509211/understanding-slice-notation)"
   ]
  },
  {
   "cell_type": "markdown",
   "metadata": {},
   "source": [
    "['Summer', 'Jerry', 'Beth', 'Rick', 'Morty']\n",
    "\n",
    "    0      1    2     3    4"
   ]
  },
  {
   "cell_type": "code",
   "execution_count": 40,
   "metadata": {
    "scrolled": true
   },
   "outputs": [
    {
     "data": {
      "text/plain": [
       "['Jerry', 'Beth', 'Rick', 'Morty']"
      ]
     },
     "execution_count": 40,
     "metadata": {},
     "output_type": "execute_result"
    }
   ],
   "source": [
    "# all elements starting from the second element\n",
    "supermarket_queue[1:]"
   ]
  },
  {
   "cell_type": "code",
   "execution_count": 41,
   "metadata": {},
   "outputs": [
    {
     "data": {
      "text/plain": [
       "['Summer', 'Jerry', 'Beth', 'Rick']"
      ]
     },
     "execution_count": 41,
     "metadata": {},
     "output_type": "execute_result"
    }
   ],
   "source": [
    "# all elements before the last element\n",
    "supermarket_queue[:-1]"
   ]
  },
  {
   "cell_type": "code",
   "execution_count": 42,
   "metadata": {},
   "outputs": [
    {
     "data": {
      "text/plain": [
       "['Summer', 'Beth', 'Morty']"
      ]
     },
     "execution_count": 42,
     "metadata": {},
     "output_type": "execute_result"
    }
   ],
   "source": [
    "# all elements with one step skip (keep elements at even indices only)\n",
    "supermarket_queue[::2]"
   ]
  },
  {
   "cell_type": "code",
   "execution_count": 43,
   "metadata": {},
   "outputs": [
    {
     "data": {
      "text/plain": [
       "['Morty', 'Rick', 'Beth', 'Jerry', 'Summer']"
      ]
     },
     "execution_count": 43,
     "metadata": {},
     "output_type": "execute_result"
    }
   ],
   "source": [
    "# all elements in reverse order\n",
    "supermarket_queue[::-1]"
   ]
  },
  {
   "cell_type": "code",
   "execution_count": 44,
   "metadata": {},
   "outputs": [
    {
     "data": {
      "text/plain": [
       "['Summer', 'Jerry', 'Beth', 'Rick', 'Morty']"
      ]
     },
     "execution_count": 44,
     "metadata": {},
     "output_type": "execute_result"
    }
   ],
   "source": [
    "supermarket_queue"
   ]
  },
  {
   "cell_type": "code",
   "execution_count": 45,
   "metadata": {},
   "outputs": [
    {
     "data": {
      "text/plain": [
       "['Morty', 'Rick', 'Beth', 'Jerry', 'Summer']"
      ]
     },
     "execution_count": 45,
     "metadata": {},
     "output_type": "execute_result"
    }
   ],
   "source": [
    "# alternative way to reverse list in place\n",
    "supermarket_queue.reverse()\n",
    "supermarket_queue"
   ]
  },
  {
   "cell_type": "code",
   "execution_count": 46,
   "metadata": {},
   "outputs": [
    {
     "data": {
      "text/plain": [
       "['Morty',\n",
       " 'Rick',\n",
       " 'Beth',\n",
       " 'Jerry',\n",
       " 'Summer',\n",
       " ['Bad Snuffles', 'Good Snuffles', 'Alternative Snuffles']]"
      ]
     },
     "execution_count": 46,
     "metadata": {},
     "output_type": "execute_result"
    }
   ],
   "source": [
    "# nested list indexing\n",
    "supermarket_queue.append(['Bad Snuffles', 'Good Snuffles', 'Alternative Snuffles'])\n",
    "supermarket_queue"
   ]
  },
  {
   "cell_type": "code",
   "execution_count": 47,
   "metadata": {},
   "outputs": [
    {
     "data": {
      "text/plain": [
       "'Good Snuffles'"
      ]
     },
     "execution_count": 47,
     "metadata": {},
     "output_type": "execute_result"
    }
   ],
   "source": [
    "# the sixth item in the list to go to the nested list, get the second item in the nested list\n",
    "supermarket_queue[5][1]"
   ]
  },
  {
   "cell_type": "markdown",
   "metadata": {},
   "source": [
    "## Data structures methods (lists, strings, tuples, dictinonaries, sets) <a name=\"methods\"></a>"
   ]
  },
  {
   "cell_type": "markdown",
   "metadata": {},
   "source": [
    "### Lists"
   ]
  },
  {
   "cell_type": "code",
   "execution_count": 48,
   "metadata": {},
   "outputs": [
    {
     "data": {
      "text/plain": [
       "9.5"
      ]
     },
     "execution_count": 48,
     "metadata": {},
     "output_type": "execute_result"
    }
   ],
   "source": [
    "# Grades for HA1, HA2, Project\n",
    "your_potential_grades = [10, 9.5, 10]\n",
    "\n",
    "# Look up your second grade (HA2)\n",
    "your_potential_grades[1] "
   ]
  },
  {
   "cell_type": "code",
   "execution_count": 49,
   "metadata": {},
   "outputs": [],
   "source": [
    "# run the cell above\n",
    "# in this cell try to type 'yo' and click on TAB on your keybord\n"
   ]
  },
  {
   "cell_type": "markdown",
   "metadata": {},
   "source": [
    "Magic. Jupyter Notepad helps you with autocomplete for long variable names."
   ]
  },
  {
   "cell_type": "markdown",
   "metadata": {},
   "source": [
    "Let's sort the grade **in ascending order** in place (it means, that this list will be stored as sorted). "
   ]
  },
  {
   "cell_type": "code",
   "execution_count": 50,
   "metadata": {},
   "outputs": [
    {
     "data": {
      "text/plain": [
       "[9.5, 10, 10]"
      ]
     },
     "execution_count": 50,
     "metadata": {},
     "output_type": "execute_result"
    }
   ],
   "source": [
    "# sorting \n",
    "\n",
    "your_potential_grades.sort()\n",
    "your_potential_grades"
   ]
  },
  {
   "cell_type": "code",
   "execution_count": 51,
   "metadata": {},
   "outputs": [],
   "source": [
    "# click inside the brackets of sort and push Shift + Tab\n",
    "your_potential_grades.sort()"
   ]
  },
  {
   "cell_type": "markdown",
   "metadata": {},
   "source": [
    "This is how you call the documentation for each function in Python. So, you can see, there are two arguments: key and reverse. Let's use reverse and sort our list **in descending order**."
   ]
  },
  {
   "cell_type": "code",
   "execution_count": 52,
   "metadata": {},
   "outputs": [
    {
     "data": {
      "text/plain": [
       "[10, 10, 9.5]"
      ]
     },
     "execution_count": 52,
     "metadata": {},
     "output_type": "execute_result"
    }
   ],
   "source": [
    "your_potential_grades.sort(reverse=True)\n",
    "your_potential_grades"
   ]
  },
  {
   "cell_type": "code",
   "execution_count": 53,
   "metadata": {},
   "outputs": [
    {
     "data": {
      "text/plain": [
       "[9.5, 10, 10]"
      ]
     },
     "execution_count": 53,
     "metadata": {},
     "output_type": "execute_result"
    }
   ],
   "source": [
    "# alternative with creteing a copy of the list\n",
    "\n",
    "your_potential_grades = [10, 9.5, 10]\n",
    "\n",
    "sorted(your_potential_grades)"
   ]
  },
  {
   "cell_type": "code",
   "execution_count": 54,
   "metadata": {},
   "outputs": [
    {
     "data": {
      "text/plain": [
       "[10, 9.5, 10]"
      ]
     },
     "execution_count": 54,
     "metadata": {},
     "output_type": "execute_result"
    }
   ],
   "source": [
    "your_potential_grades"
   ]
  },
  {
   "cell_type": "markdown",
   "metadata": {},
   "source": [
    "Why didn't Python keep your_potential_grades sorted and return the original order of the elements? This is because sorted () creates a copy of your list and then sorts it."
   ]
  },
  {
   "cell_type": "code",
   "execution_count": 55,
   "metadata": {},
   "outputs": [
    {
     "data": {
      "text/plain": [
       "[9.5, 10, 10]"
      ]
     },
     "execution_count": 55,
     "metadata": {},
     "output_type": "execute_result"
    }
   ],
   "source": [
    "sorted_grades = sorted(your_potential_grades)\n",
    "sorted_grades"
   ]
  },
  {
   "cell_type": "markdown",
   "metadata": {},
   "source": [
    "Your can change the grade you don't like, because lists are mutable. "
   ]
  },
  {
   "cell_type": "code",
   "execution_count": 56,
   "metadata": {},
   "outputs": [
    {
     "data": {
      "text/plain": [
       "10"
      ]
     },
     "execution_count": 56,
     "metadata": {},
     "output_type": "execute_result"
    }
   ],
   "source": [
    "# replace\n",
    "your_potential_grades[1] = 10\n",
    "your_potential_grades[1]"
   ]
  },
  {
   "cell_type": "markdown",
   "metadata": {},
   "source": [
    "Imagine, you liked this course so much, that you even completed our bonus task and got 2.5 additional points. "
   ]
  },
  {
   "cell_type": "code",
   "execution_count": 57,
   "metadata": {},
   "outputs": [
    {
     "data": {
      "text/plain": [
       "[10, 10, 10, 2.5]"
      ]
     },
     "execution_count": 57,
     "metadata": {},
     "output_type": "execute_result"
    }
   ],
   "source": [
    "# add element \n",
    "your_potential_grades.append(2.5)\n",
    "\n",
    "your_potential_grades"
   ]
  },
  {
   "cell_type": "code",
   "execution_count": 58,
   "metadata": {},
   "outputs": [
    {
     "data": {
      "text/plain": [
       "[10, 10, 10]"
      ]
     },
     "execution_count": 58,
     "metadata": {},
     "output_type": "execute_result"
    }
   ],
   "source": [
    "# delete element\n",
    "your_potential_grades.remove(2.5)\n",
    "\n",
    "your_potential_grades"
   ]
  },
  {
   "cell_type": "code",
   "execution_count": 59,
   "metadata": {},
   "outputs": [
    {
     "data": {
      "text/plain": [
       "10"
      ]
     },
     "execution_count": 59,
     "metadata": {},
     "output_type": "execute_result"
    }
   ],
   "source": [
    "# pop element\n",
    "your_potential_grades.pop()"
   ]
  },
  {
   "cell_type": "code",
   "execution_count": 60,
   "metadata": {},
   "outputs": [
    {
     "data": {
      "text/plain": [
       "[10, 10]"
      ]
     },
     "execution_count": 60,
     "metadata": {},
     "output_type": "execute_result"
    }
   ],
   "source": [
    "your_potential_grades"
   ]
  },
  {
   "cell_type": "markdown",
   "metadata": {},
   "source": [
    "pop() returns the last item in the list and removes it, while the remove() method removes the item you specified in brackets (with whatever index you want) and does not return that value on output."
   ]
  },
  {
   "cell_type": "code",
   "execution_count": 61,
   "metadata": {},
   "outputs": [
    {
     "data": {
      "text/plain": [
       "10"
      ]
     },
     "execution_count": 61,
     "metadata": {},
     "output_type": "execute_result"
    }
   ],
   "source": [
    "# you can save the result of pop() into a variable\n",
    "last_grade_in_list = your_potential_grades.pop()\n",
    "last_grade_in_list"
   ]
  },
  {
   "cell_type": "code",
   "execution_count": 62,
   "metadata": {},
   "outputs": [
    {
     "data": {
      "text/plain": [
       "[9, 10]"
      ]
     },
     "execution_count": 62,
     "metadata": {},
     "output_type": "execute_result"
    }
   ],
   "source": [
    "# insert an element at a specific position\n",
    "# 0 - index, 10 - value\n",
    "your_potential_grades.insert(0, 9)\n",
    "your_potential_grades"
   ]
  },
  {
   "cell_type": "code",
   "execution_count": 63,
   "metadata": {},
   "outputs": [
    {
     "data": {
      "text/plain": [
       "[9, 10, 10]"
      ]
     },
     "execution_count": 63,
     "metadata": {},
     "output_type": "execute_result"
    }
   ],
   "source": [
    "your_potential_grades.insert(1, 10)\n",
    "your_potential_grades"
   ]
  },
  {
   "cell_type": "code",
   "execution_count": 64,
   "metadata": {},
   "outputs": [
    {
     "data": {
      "text/plain": [
       "2"
      ]
     },
     "execution_count": 64,
     "metadata": {},
     "output_type": "execute_result"
    }
   ],
   "source": [
    "# let's count how many times the value 10 is in the list\n",
    "your_potential_grades.count(10)"
   ]
  },
  {
   "cell_type": "markdown",
   "metadata": {},
   "source": [
    "### List comprehensions"
   ]
  },
  {
   "cell_type": "code",
   "execution_count": 65,
   "metadata": {},
   "outputs": [
    {
     "data": {
      "text/plain": [
       "[0, 1, 4, 9, 16, 25, 36]"
      ]
     },
     "execution_count": 65,
     "metadata": {},
     "output_type": "execute_result"
    }
   ],
   "source": [
    "some_list = [0, 1, 2, 3, 4, 5, 6]\n",
    "\n",
    "new_list = []\n",
    "for i in some_list:\n",
    "    new_list.append(i ** 2) # square \n",
    "    \n",
    "new_list"
   ]
  },
  {
   "cell_type": "markdown",
   "metadata": {},
   "source": [
    "Instead of loop with **for**, we can code this operation in one line using list comprehensions:"
   ]
  },
  {
   "cell_type": "code",
   "execution_count": 66,
   "metadata": {},
   "outputs": [
    {
     "data": {
      "text/plain": [
       "[0, 1, 4, 9, 16, 25, 36]"
      ]
     },
     "execution_count": 66,
     "metadata": {},
     "output_type": "execute_result"
    }
   ],
   "source": [
    "another_new_list = [i ** 2 for i in some_list]\n",
    "another_new_list"
   ]
  },
  {
   "cell_type": "markdown",
   "metadata": {},
   "source": [
    "The square brackets around the expression should indicate that we are creating a list. The expression inside the brackets should be read literally: a list of squared elements for (**for**) elements i from (**in**) some_list."
   ]
  },
  {
   "cell_type": "code",
   "execution_count": 67,
   "metadata": {},
   "outputs": [
    {
     "data": {
      "text/plain": [
       "[0, 4, 16, 36]"
      ]
     },
     "execution_count": 67,
     "metadata": {},
     "output_type": "execute_result"
    }
   ],
   "source": [
    "# filtering using list comprehensions\n",
    "[x for x in another_new_list if x % 2 == 0]"
   ]
  },
  {
   "cell_type": "markdown",
   "metadata": {},
   "source": [
    "% operator returns the remainder of the division. So, ```if x % 2 == 0``` means that if the number x is divisible by 2 and has no remainder (remainder = 0 is True), then we store it in the list, otherwise, delete it. As a result, we get even numbers."
   ]
  },
  {
   "cell_type": "markdown",
   "metadata": {},
   "source": [
    "### Strings\n",
    "\n",
    "The key operations: concatenation, split, join and extending string with its duplicates by *N* times. "
   ]
  },
  {
   "cell_type": "code",
   "execution_count": 68,
   "metadata": {
    "scrolled": true
   },
   "outputs": [
    {
     "name": "stdout",
     "output_type": "stream",
     "text": [
      "Dear students, welcome to the course on Data Analysis!\n"
     ]
    }
   ],
   "source": [
    "greeting = 'welcome to the course on Data Analysis!'\n",
    "\n",
    "whom = 'Dear students, '\n",
    "\n",
    "# concatenation\n",
    "print(whom + greeting)"
   ]
  },
  {
   "cell_type": "code",
   "execution_count": 69,
   "metadata": {},
   "outputs": [
    {
     "name": "stdout",
     "output_type": "stream",
     "text": [
      "You will need to work very very very very very  hard...\n"
     ]
    }
   ],
   "source": [
    "# repeat by mulyiplicator\n",
    "print('You will need to work', 'very ' * 5, 'hard...')"
   ]
  },
  {
   "cell_type": "code",
   "execution_count": 70,
   "metadata": {},
   "outputs": [
    {
     "name": "stdout",
     "output_type": "stream",
     "text": [
      "False\n"
     ]
    }
   ],
   "source": [
    "# string starts with\n",
    "print(greeting.startswith('Chilling'))"
   ]
  },
  {
   "cell_type": "code",
   "execution_count": 71,
   "metadata": {},
   "outputs": [
    {
     "name": "stdout",
     "output_type": "stream",
     "text": [
      "True\n",
      "True\n"
     ]
    }
   ],
   "source": [
    "# string ends with\n",
    "print(greeting.endswith('sis!'))\n",
    "print('Recheck it'.endswith('t'))"
   ]
  },
  {
   "cell_type": "code",
   "execution_count": 72,
   "metadata": {},
   "outputs": [
    {
     "name": "stdout",
     "output_type": "stream",
     "text": [
      "['You need', 'to split this', 'sentence into four parts', 'by underscore sign.']\n"
     ]
    }
   ],
   "source": [
    "# split\n",
    "text_line = 'You need_to split this_sentence into four parts_by underscore sign.'\n",
    "print(text_line.split('_'))"
   ]
  },
  {
   "cell_type": "code",
   "execution_count": 73,
   "metadata": {},
   "outputs": [
    {
     "data": {
      "text/plain": [
       "'You*need*to*join*this*sentence*by*asterisks*instead*of*white*spaces.'"
      ]
     },
     "execution_count": 73,
     "metadata": {},
     "output_type": "execute_result"
    }
   ],
   "source": [
    "# join\n",
    "text_line = 'You need to join this sentence by asterisks instead of white spaces.'\n",
    "'*'.join(text_line.split(' '))"
   ]
  },
  {
   "cell_type": "markdown",
   "metadata": {},
   "source": [
    "The find( ) method returns the index of the first character of the first occurrence of the substring, if contained in the string. If there is no such substring, it returns -1."
   ]
  },
  {
   "cell_type": "code",
   "execution_count": 74,
   "metadata": {},
   "outputs": [
    {
     "data": {
      "text/plain": [
       "159"
      ]
     },
     "execution_count": 74,
     "metadata": {},
     "output_type": "execute_result"
    }
   ],
   "source": [
    "# find\n",
    "\n",
    "prologue = '''The morning had dawned clear and cold, with a crispness that hinted at\n",
    "the end of summer. They set forth at daybreak to see a man beheaded, twenty in all, and\n",
    "Bran rode among them, nervous with excitement. This was the first time he had been deemed\n",
    "old enough to go with his lord father and his brothers to see the king’s justice done. It was\n",
    "the ninth year of summer, and the seventh of Bran’s life'''\n",
    "\n",
    "prologue.find('Bran')"
   ]
  },
  {
   "cell_type": "markdown",
   "metadata": {},
   "source": [
    "The name 'Bran' was found and 159 is the index of the first letter of this word in a string 'prologue'. "
   ]
  },
  {
   "cell_type": "code",
   "execution_count": 75,
   "metadata": {},
   "outputs": [
    {
     "name": "stdout",
     "output_type": "stream",
     "text": [
      "Bran rode among them, nervous with excitement. This was the first time he had been deemed\n",
      "old enough to go with his lord father and his brothers to see the king’s justice done. It was\n",
      "the ninth year of summer, and the seventh of Bran’s life\n"
     ]
    }
   ],
   "source": [
    "print(prologue[prologue.find('Bran'):]) # prints the whole string starting from 'Bran'"
   ]
  },
  {
   "cell_type": "code",
   "execution_count": 76,
   "metadata": {},
   "outputs": [
    {
     "name": "stdout",
     "output_type": "stream",
     "text": [
      "Bran\n"
     ]
    }
   ],
   "source": [
    "print(prologue[prologue.find('Bran'):prologue.find(' rode')]) #slicing"
   ]
  },
  {
   "cell_type": "markdown",
   "metadata": {},
   "source": [
    "Let's make a simple version of sentiment analysis from scratch. If the review contains the word 'bad', then we will write that this is a negative review."
   ]
  },
  {
   "cell_type": "code",
   "execution_count": 77,
   "metadata": {},
   "outputs": [
    {
     "name": "stdout",
     "output_type": "stream",
     "text": [
      "This place was bad enough.\n",
      "Feedback is negative\n"
     ]
    }
   ],
   "source": [
    "feedback = 'This place was bad enough.'\n",
    "\n",
    "print(feedback)\n",
    "if feedback.find('bad') == -1: # if 'bad' not found\n",
    "    print('Feedback is not negative')\n",
    "else:\n",
    "    print('Feedback is negative')"
   ]
  },
  {
   "cell_type": "code",
   "execution_count": 78,
   "metadata": {},
   "outputs": [
    {
     "data": {
      "text/plain": [
       "'I take you, Rachel, to be my wife.I promise to be true to you in good times and in bad, in sickness and in health.I will love you and honour you all the days of my life.'"
      ]
     },
     "execution_count": 78,
     "metadata": {},
     "output_type": "execute_result"
    }
   ],
   "source": [
    "# replace\n",
    "statement = '''I take you, Monica, to be my wife.\\\n",
    "I promise to be true to you in good times and in bad, in sickness and in health.\\\n",
    "I will love you and honour you all the days of my life.'''\n",
    "\n",
    "statement.replace('Monica', 'Rachel')"
   ]
  },
  {
   "cell_type": "markdown",
   "metadata": {},
   "source": [
    "### Tuples\n",
    "\n",
    "https://www.w3schools.com/python/python_tuples.asp"
   ]
  },
  {
   "cell_type": "code",
   "execution_count": 79,
   "metadata": {},
   "outputs": [
    {
     "data": {
      "text/plain": [
       "tuple"
      ]
     },
     "execution_count": 79,
     "metadata": {},
     "output_type": "execute_result"
    }
   ],
   "source": [
    "info = ('Sherlock Holmes', 'Baker Street 221b', 'Deduction', 'Elementary', 'Dr. Watson')\n",
    "type(info)"
   ]
  },
  {
   "cell_type": "code",
   "execution_count": 80,
   "metadata": {},
   "outputs": [
    {
     "data": {
      "text/plain": [
       "'Elementary'"
      ]
     },
     "execution_count": 80,
     "metadata": {},
     "output_type": "execute_result"
    }
   ],
   "source": [
    "# access item\n",
    "info[3]"
   ]
  },
  {
   "cell_type": "code",
   "execution_count": 81,
   "metadata": {},
   "outputs": [
    {
     "data": {
      "text/plain": [
       "'Dr. Watson'"
      ]
     },
     "execution_count": 81,
     "metadata": {},
     "output_type": "execute_result"
    }
   ],
   "source": [
    "info[-1]"
   ]
  },
  {
   "cell_type": "code",
   "execution_count": 82,
   "metadata": {},
   "outputs": [
    {
     "data": {
      "text/plain": [
       "('Deduction', 'Elementary', 'Dr. Watson')"
      ]
     },
     "execution_count": 82,
     "metadata": {},
     "output_type": "execute_result"
    }
   ],
   "source": [
    "# slicing\n",
    "info[2:5]"
   ]
  },
  {
   "cell_type": "code",
   "execution_count": 83,
   "metadata": {},
   "outputs": [
    {
     "data": {
      "text/plain": [
       "('Deduction', 'Elementary', 'Dr. Watson')"
      ]
     },
     "execution_count": 83,
     "metadata": {},
     "output_type": "execute_result"
    }
   ],
   "source": [
    "info[2:100000000] # the upper bound of index in slicing is unlimited(the same for lists and strings)"
   ]
  },
  {
   "cell_type": "code",
   "execution_count": 84,
   "metadata": {},
   "outputs": [
    {
     "ename": "TypeError",
     "evalue": "'tuple' object does not support item assignment",
     "output_type": "error",
     "traceback": [
      "\u001b[0;31m---------------------------------------------------------------------------\u001b[0m",
      "\u001b[0;31mTypeError\u001b[0m                                 Traceback (most recent call last)",
      "\u001b[0;32m<ipython-input-84-4b10d4bfe5cd>\u001b[0m in \u001b[0;36m<module>\u001b[0;34m\u001b[0m\n\u001b[1;32m      1\u001b[0m \u001b[0;31m# replacement doesn't work because tuples are immutable\u001b[0m\u001b[0;34m\u001b[0m\u001b[0;34m\u001b[0m\u001b[0;34m\u001b[0m\u001b[0m\n\u001b[0;32m----> 2\u001b[0;31m \u001b[0minfo\u001b[0m\u001b[0;34m[\u001b[0m\u001b[0;36m2\u001b[0m\u001b[0;34m]\u001b[0m \u001b[0;34m=\u001b[0m \u001b[0;34m'Induction'\u001b[0m\u001b[0;34m\u001b[0m\u001b[0;34m\u001b[0m\u001b[0m\n\u001b[0m\u001b[1;32m      3\u001b[0m \u001b[0minfo\u001b[0m\u001b[0;34m\u001b[0m\u001b[0;34m\u001b[0m\u001b[0m\n",
      "\u001b[0;31mTypeError\u001b[0m: 'tuple' object does not support item assignment"
     ]
    }
   ],
   "source": [
    "# replacement doesn't work because tuples are immutable\n",
    "info[2] = 'Induction'\n",
    "info"
   ]
  },
  {
   "cell_type": "markdown",
   "metadata": {},
   "source": [
    "However, you can convert your tuple into list, make change and convert it back. "
   ]
  },
  {
   "cell_type": "code",
   "execution_count": 85,
   "metadata": {},
   "outputs": [
    {
     "data": {
      "text/plain": [
       "['Sherlock Holmes',\n",
       " 'Baker Street 221b',\n",
       " 'Deduction',\n",
       " 'Elementary',\n",
       " 'Dr. Watson']"
      ]
     },
     "execution_count": 85,
     "metadata": {},
     "output_type": "execute_result"
    }
   ],
   "source": [
    "info = list(info)\n",
    "info"
   ]
  },
  {
   "cell_type": "code",
   "execution_count": 86,
   "metadata": {},
   "outputs": [
    {
     "data": {
      "text/plain": [
       "('Sherlock Holmes',\n",
       " 'Baker Street 221b',\n",
       " 'Induction',\n",
       " 'Elementary',\n",
       " 'Dr. Watson')"
      ]
     },
     "execution_count": 86,
     "metadata": {},
     "output_type": "execute_result"
    }
   ],
   "source": [
    "info[2] = 'Induction'\n",
    "info = tuple(info)\n",
    "info"
   ]
  },
  {
   "cell_type": "markdown",
   "metadata": {},
   "source": [
    "**Once a tuple is created, you cannot add and remove items in it**. Tuples are unchangeable, but you can use the trick with list and convert it back."
   ]
  },
  {
   "cell_type": "markdown",
   "metadata": {},
   "source": [
    "### Dictionaries"
   ]
  },
  {
   "cell_type": "markdown",
   "metadata": {},
   "source": [
    "A dictionary is an unordered structure, it consists of keys and values. We cannot refer to the object by index, but we can refer to the key."
   ]
  },
  {
   "cell_type": "code",
   "execution_count": 87,
   "metadata": {},
   "outputs": [],
   "source": [
    "car = {\n",
    "  \"brand\": \"Ford\",\n",
    "  \"model\": \"Mustang\",\n",
    "  \"year\": 1964\n",
    "}"
   ]
  },
  {
   "cell_type": "markdown",
   "metadata": {},
   "source": [
    "We cannot refer to the object by index, but we can refer to the key:"
   ]
  },
  {
   "cell_type": "code",
   "execution_count": 88,
   "metadata": {
    "scrolled": true
   },
   "outputs": [
    {
     "ename": "KeyError",
     "evalue": "0",
     "output_type": "error",
     "traceback": [
      "\u001b[0;31m---------------------------------------------------------------------------\u001b[0m",
      "\u001b[0;31mKeyError\u001b[0m                                  Traceback (most recent call last)",
      "\u001b[0;32m<ipython-input-88-c2aa19db5d85>\u001b[0m in \u001b[0;36m<module>\u001b[0;34m\u001b[0m\n\u001b[0;32m----> 1\u001b[0;31m \u001b[0mcar\u001b[0m\u001b[0;34m[\u001b[0m\u001b[0;36m0\u001b[0m\u001b[0;34m]\u001b[0m\u001b[0;34m\u001b[0m\u001b[0;34m\u001b[0m\u001b[0m\n\u001b[0m",
      "\u001b[0;31mKeyError\u001b[0m: 0"
     ]
    }
   ],
   "source": [
    "car[0]"
   ]
  },
  {
   "cell_type": "code",
   "execution_count": 89,
   "metadata": {},
   "outputs": [
    {
     "data": {
      "text/plain": [
       "'Mustang'"
      ]
     },
     "execution_count": 89,
     "metadata": {},
     "output_type": "execute_result"
    }
   ],
   "source": [
    "car['model']"
   ]
  },
  {
   "cell_type": "markdown",
   "metadata": {},
   "source": [
    "To find out what keys or values are in the dictionary, you can use the corresponding methods."
   ]
  },
  {
   "cell_type": "code",
   "execution_count": 90,
   "metadata": {},
   "outputs": [
    {
     "data": {
      "text/plain": [
       "dict_keys(['brand', 'model', 'year'])"
      ]
     },
     "execution_count": 90,
     "metadata": {},
     "output_type": "execute_result"
    }
   ],
   "source": [
    "car.keys()"
   ]
  },
  {
   "cell_type": "code",
   "execution_count": 91,
   "metadata": {},
   "outputs": [
    {
     "data": {
      "text/plain": [
       "dict_values(['Ford', 'Mustang', 1964])"
      ]
     },
     "execution_count": 91,
     "metadata": {},
     "output_type": "execute_result"
    }
   ],
   "source": [
    "car.values()"
   ]
  },
  {
   "cell_type": "code",
   "execution_count": 92,
   "metadata": {},
   "outputs": [
    {
     "data": {
      "text/plain": [
       "dict_items([('brand', 'Ford'), ('model', 'Mustang'), ('year', 1964)])"
      ]
     },
     "execution_count": 92,
     "metadata": {},
     "output_type": "execute_result"
    }
   ],
   "source": [
    "car.items()"
   ]
  },
  {
   "cell_type": "code",
   "execution_count": 93,
   "metadata": {},
   "outputs": [
    {
     "name": "stdout",
     "output_type": "stream",
     "text": [
      "key: brand - value: Ford\n",
      "key: model - value: Mustang\n",
      "key: year - value: 1964\n"
     ]
    }
   ],
   "source": [
    "for key, value in car.items():\n",
    "    print('key:', key, '- value:', value)"
   ]
  },
  {
   "cell_type": "code",
   "execution_count": 94,
   "metadata": {},
   "outputs": [
    {
     "name": "stdout",
     "output_type": "stream",
     "text": [
      "brand\n",
      "model\n",
      "year\n"
     ]
    }
   ],
   "source": [
    "for key in car:\n",
    "    print(key)"
   ]
  },
  {
   "cell_type": "markdown",
   "metadata": {},
   "source": [
    "Adding key-value pairs to a dictionary is very simple, like replacing a value by index in lists. The deletion is done using the ```del``` function. We can also check the presence of the key in the dictionary."
   ]
  },
  {
   "cell_type": "code",
   "execution_count": 95,
   "metadata": {},
   "outputs": [
    {
     "name": "stdout",
     "output_type": "stream",
     "text": [
      "{'brand': 'Ford', 'model': 'Mustang', 'year': '1967', 'colour': 'red', 'layout': 'front-engine'}\n"
     ]
    }
   ],
   "source": [
    "car['colour'] = 'red' # new key and value\n",
    "car['layout'] = 'front-engine'\n",
    "car['year'] = '1967'  # overwrite the value in existing key\n",
    "print(car)"
   ]
  },
  {
   "cell_type": "code",
   "execution_count": 96,
   "metadata": {},
   "outputs": [
    {
     "name": "stdout",
     "output_type": "stream",
     "text": [
      "{'brand': 'Ford', 'model': 'Mustang', 'year': '1967', 'colour': 'red'}\n"
     ]
    }
   ],
   "source": [
    "del car['layout']\n",
    "print(car)"
   ]
  },
  {
   "cell_type": "code",
   "execution_count": 97,
   "metadata": {},
   "outputs": [
    {
     "data": {
      "text/plain": [
       "True"
      ]
     },
     "execution_count": 97,
     "metadata": {},
     "output_type": "execute_result"
    }
   ],
   "source": [
    "'brand' in car # is 'brand' among keys?"
   ]
  },
  {
   "cell_type": "markdown",
   "metadata": {},
   "source": [
    "### Sets"
   ]
  },
  {
   "cell_type": "markdown",
   "metadata": {},
   "source": [
    "<img src=\"https://www.learnbyexample.org/wp-content/uploads/python/Python-Set-Operatioons.png\" height=300 width=300>"
   ]
  },
  {
   "cell_type": "markdown",
   "metadata": {},
   "source": [
    "Some names are only used for girls, some are only used for both, but some are used for both (unisex)."
   ]
  },
  {
   "cell_type": "code",
   "execution_count": 98,
   "metadata": {},
   "outputs": [
    {
     "name": "stdout",
     "output_type": "stream",
     "text": [
      "{'Maria', 'Clara', 'Sophia', 'Polina', 'Alexis', 'Benjamin', 'James', 'Taylor', 'Emma', 'Ann', 'Gale', 'Oliver', 'Valeria'}\n",
      "{'Alexis', 'Gale'}\n",
      "{'Taylor', 'Oliver', 'Benjamin', 'James'}\n",
      "{'Maria', 'Clara', 'Sophia', 'Polina', 'James', 'Emma', 'Benjamin', 'Taylor', 'Ann', 'Oliver', 'Valeria'}\n"
     ]
    }
   ],
   "source": [
    "boys_names = {'James', 'Alexis', 'Oliver', 'Gale', 'Taylor', 'Benjamin'}\n",
    "girls_names = {'Maria', 'Alexis', 'Ann', 'Gale', 'Clara', 'Emma', 'Sophia', 'Valeria', 'Polina'}\n",
    "\n",
    "print(boys_names | girls_names)  # union of sets -- we join all unique names from two sets together\n",
    "print(boys_names & girls_names)  # intersection -- keep the elements that are in both sets\n",
    "print(boys_names - girls_names)  # difference -- elements in the first set, but not in the second\n",
    "print(boys_names ^ girls_names)  # symmetric difference -- elements from A | B, but not from A & B"
   ]
  },
  {
   "cell_type": "markdown",
   "metadata": {},
   "source": [
    "Instead of signs as operators you can use methods:"
   ]
  },
  {
   "cell_type": "code",
   "execution_count": 99,
   "metadata": {},
   "outputs": [
    {
     "name": "stdout",
     "output_type": "stream",
     "text": [
      "{'Maria', 'Clara', 'Sophia', 'Polina', 'Alexis', 'Benjamin', 'James', 'Taylor', 'Emma', 'Ann', 'Gale', 'Oliver', 'Valeria'}\n",
      "{'Alexis', 'Gale'}\n",
      "{'Taylor', 'Oliver', 'Benjamin', 'James'}\n",
      "{'Maria', 'Clara', 'Sophia', 'Polina', 'James', 'Emma', 'Benjamin', 'Taylor', 'Ann', 'Oliver', 'Valeria'}\n"
     ]
    }
   ],
   "source": [
    "print(boys_names.union(girls_names))\n",
    "print(boys_names.intersection(girls_names))\n",
    "print(boys_names.difference(girls_names))\n",
    "print(boys_names.symmetric_difference(girls_names))"
   ]
  },
  {
   "cell_type": "code",
   "execution_count": null,
   "metadata": {},
   "outputs": [],
   "source": []
  }
 ],
 "metadata": {
  "kernelspec": {
   "display_name": "Python 3",
   "language": "python",
   "name": "python3"
  },
  "language_info": {
   "codemirror_mode": {
    "name": "ipython",
    "version": 3
   },
   "file_extension": ".py",
   "mimetype": "text/x-python",
   "name": "python",
   "nbconvert_exporter": "python",
   "pygments_lexer": "ipython3",
   "version": "3.6.12"
  }
 },
 "nbformat": 4,
 "nbformat_minor": 2
}
