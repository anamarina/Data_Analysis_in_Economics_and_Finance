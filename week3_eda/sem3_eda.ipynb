{
 "cells": [
  {
   "cell_type": "markdown",
   "metadata": {},
   "source": [
    "![ ](https://www.pon-cat.com/application/files/7915/8400/2602/home-banner.jpg)"
   ]
  },
  {
   "cell_type": "markdown",
   "metadata": {},
   "source": [
    "# <center> **Data Visualization and Exploratory Data Analysis** </center>"
   ]
  },
  {
   "cell_type": "markdown",
   "metadata": {},
   "source": [
    "Visualization is an important part of data analysis. By presenting information in a graphical form, you facilitate the process of its perception, which makes it possible to highlight additional patterns, evaluate the ratios of quantities, and quickly communicate key aspects in the data.\n",
    "\n",
    "Let's start with a little \"memo\" that should always be kept in mind when creating any graphs."
   ]
  },
  {
   "cell_type": "markdown",
   "metadata": {},
   "source": [
    "### <center> How to visualize data and make everyone hate you </center>\n",
    "\n",
    "1. Chart titles are unnecessary. It is always clear from the graph what data it describes.\n",
    "2. Do not label under any circumstances both axes of the graph. Let the others check their intuition!\n",
    "3. Units are optional. What difference does it make if the quantity was measured, in people or in liters!\n",
    "4. The smaller the text on the graph, the sharper the viewer's eyesight.\n",
    "5. You should try to fit all the information that you have in the dataset in one chart. With full titles, transcripts, footnotes. The more text, the more informative!\n",
    "6. Whenever possible, use 3D and special effects. There will be less visual distortion."
   ]
  },
  {
   "cell_type": "markdown",
   "metadata": {},
   "source": [
    "As an example, consider the pandemic case. Let's use a dataset with promptly updated statistics on coronavirus (COVID-19), which is publicly available on Kaggle: https://www.kaggle.com/imdevskp/corona-virus-report?select=covid_19_clean_complete.csv"
   ]
  },
  {
   "cell_type": "markdown",
   "metadata": {},
   "source": [
    "The main libraries for visualization in Python that we need today are **matplotlib, seaborn, plotly**. "
   ]
  },
  {
   "cell_type": "code",
   "execution_count": null,
   "metadata": {
    "scrolled": true
   },
   "outputs": [],
   "source": [
    "# Download required binded packages\n",
    "!pip install plotly-express\n",
    "!pip install nbformat==4.2.0\n",
    "!pip install plotly"
   ]
  },
  {
   "cell_type": "code",
   "execution_count": null,
   "metadata": {},
   "outputs": [],
   "source": [
    "import pandas as pd\n",
    "import numpy as np\n",
    "import pickle\n",
    "\n",
    "import matplotlib.pyplot as plt\n",
    "%matplotlib inline\n",
    "\n",
    "import seaborn as sns\n",
    "import plotly\n",
    "import plotly_express as px\n",
    "import plotly.graph_objects as go\n",
    "from plotly.subplots import make_subplots\n",
    "from plotly.offline import init_notebook_mode\n",
    "init_notebook_mode(connected=True)\n",
    "\n",
    "%config InlineBackend.figure_format = 'svg' #  graphs in svg looks sharper\n",
    "\n",
    "# Change the default plot size\n",
    "from pylab import rcParams\n",
    "rcParams['figure.figsize'] = 7, 5\n",
    "\n",
    "import warnings\n",
    "warnings.filterwarnings('ignore')"
   ]
  },
  {
   "cell_type": "markdown",
   "metadata": {},
   "source": [
    "We read the data and look at the number of countries in the dataset and what time period it covers."
   ]
  },
  {
   "cell_type": "code",
   "execution_count": null,
   "metadata": {},
   "outputs": [],
   "source": [
    "data = pd.read_csv('./data/covid_19_clean.csv')"
   ]
  },
  {
   "cell_type": "code",
   "execution_count": null,
   "metadata": {},
   "outputs": [],
   "source": [
    "data.head(10)"
   ]
  },
  {
   "cell_type": "code",
   "execution_count": null,
   "metadata": {},
   "outputs": [],
   "source": [
    "data['Country/Region'].nunique()"
   ]
  },
  {
   "cell_type": "code",
   "execution_count": null,
   "metadata": {},
   "outputs": [],
   "source": [
    "data.tail(3)"
   ]
  },
  {
   "cell_type": "code",
   "execution_count": null,
   "metadata": {},
   "outputs": [],
   "source": [
    "data.shape"
   ]
  },
  {
   "cell_type": "code",
   "execution_count": null,
   "metadata": {},
   "outputs": [],
   "source": [
    "data.dtypes"
   ]
  },
  {
   "cell_type": "code",
   "execution_count": null,
   "metadata": {},
   "outputs": [],
   "source": [
    "data.describe()"
   ]
  },
  {
   "cell_type": "code",
   "execution_count": null,
   "metadata": {},
   "outputs": [],
   "source": [
    "data.describe(include=['object'])"
   ]
  },
  {
   "cell_type": "markdown",
   "metadata": {},
   "source": [
    "Metrics of centrality:"
   ]
  },
  {
   "cell_type": "code",
   "execution_count": null,
   "metadata": {},
   "outputs": [],
   "source": [
    "data['Confirmed'].mode()"
   ]
  },
  {
   "cell_type": "code",
   "execution_count": null,
   "metadata": {},
   "outputs": [],
   "source": [
    "data['Confirmed'].median()"
   ]
  },
  {
   "cell_type": "code",
   "execution_count": null,
   "metadata": {},
   "outputs": [],
   "source": [
    "data['Confirmed'].mean()"
   ]
  },
  {
   "cell_type": "code",
   "execution_count": null,
   "metadata": {
    "scrolled": true
   },
   "outputs": [],
   "source": [
    "data.groupby('Country/Region')['Confirmed'].max().sort_values(ascending=False)"
   ]
  },
  {
   "cell_type": "markdown",
   "metadata": {},
   "source": [
    "More info on groupby: https://pandas.pydata.org/pandas-docs/stable/reference/api/pandas.DataFrame.groupby.html\n",
    "\n",
    "* **mean()**: Compute mean of groups\n",
    "\n",
    "* **sum()**: Compute sum of group values\n",
    "\n",
    "* **size()**: Compute group sizes\n",
    "\n",
    "* **count()**: Compute count of group\n",
    "\n",
    "* **std()**: Standard deviation of groups\n",
    "\n",
    "* **var()**: Compute variance of groups\n",
    "\n",
    "* **sem()**: Standard error of the mean of groups\n",
    "\n",
    "* **describe()**: Generates descriptive statistics\n",
    "\n",
    "* **first()**: Compute first of group values\n",
    "\n",
    "* **last()**: Compute last of group values\n",
    "\n",
    "* **nth()** : Take nth value, or a subset if n is a list\n",
    "\n",
    "* **min()**: Compute min of group values\n",
    "\n",
    "* **max()**: Compute max of group values"
   ]
  },
  {
   "cell_type": "markdown",
   "metadata": {},
   "source": [
    "You can see several characteristics at once (mean, median, prod, sum, std,\n",
    "var) - both in DataFrame and Series:"
   ]
  },
  {
   "cell_type": "code",
   "execution_count": null,
   "metadata": {
    "scrolled": true
   },
   "outputs": [],
   "source": [
    "data.groupby('Country/Region')['Confirmed'].agg(['mean', 'median', 'std'])"
   ]
  },
  {
   "cell_type": "code",
   "execution_count": null,
   "metadata": {
    "scrolled": true
   },
   "outputs": [],
   "source": [
    "data.pivot_table(columns='WHO Region', index='Date', values='Confirmed', aggfunc='sum')"
   ]
  },
  {
   "cell_type": "code",
   "execution_count": null,
   "metadata": {},
   "outputs": [],
   "source": [
    "data['WHO Region'].unique()"
   ]
  },
  {
   "cell_type": "code",
   "execution_count": null,
   "metadata": {},
   "outputs": [],
   "source": [
    "data['Country/Region'].nunique()"
   ]
  },
  {
   "cell_type": "code",
   "execution_count": null,
   "metadata": {
    "scrolled": true
   },
   "outputs": [],
   "source": [
    "data['Active'] > 0"
   ]
  },
  {
   "cell_type": "code",
   "execution_count": null,
   "metadata": {},
   "outputs": [],
   "source": [
    "data[ data['WHO Region'] == 'Western Pacific']['Country/Region'].unique()"
   ]
  },
  {
   "cell_type": "code",
   "execution_count": null,
   "metadata": {
    "scrolled": true
   },
   "outputs": [],
   "source": [
    "data[(data['WHO Region'] == 'Western Pacific') & (data['Confirmed'] > data.Confirmed.mean())]"
   ]
  },
  {
   "cell_type": "code",
   "execution_count": null,
   "metadata": {},
   "outputs": [],
   "source": [
    "data[(data['WHO Region'] == 'Western Pacific') & (data['Confirmed'] > data.Confirmed.mean())]['Country/Region'].unique()"
   ]
  },
  {
   "cell_type": "code",
   "execution_count": null,
   "metadata": {},
   "outputs": [],
   "source": [
    "some_countries = ['China', 'Singapore', 'Philippines', 'Japan']"
   ]
  },
  {
   "cell_type": "code",
   "execution_count": null,
   "metadata": {},
   "outputs": [],
   "source": [
    "data[data['Country/Region'].isin(some_countries)].head(10)"
   ]
  },
  {
   "cell_type": "code",
   "execution_count": null,
   "metadata": {
    "scrolled": false
   },
   "outputs": [],
   "source": [
    "data = pd.read_csv('./data/covid_19_clean.csv')\n",
    "\n",
    "print(\"Number of countries: \", data['Country/Region'].nunique())\n",
    "print(\"Day from {} till {}, overall {} days.\".format(min(data['Date']), \n",
    "                                          max(data['Date']), \n",
    "                                          data['Date'].nunique()))\n",
    "\n",
    "data['Date'] = pd.to_datetime(data['Date'], format = '%Y-%m-%d')\n",
    "\n",
    "\n",
    "display(data[data['Country/Region'] == 'Russia'].tail())"
   ]
  },
  {
   "cell_type": "markdown",
   "metadata": {},
   "source": [
    "The coronavirus pandemic is a clear example of an exponential distribution. To demonstrate this, let's build a graph of the total number of infected and dead. We will use a linear chart type (** Line Chart **), which can reflect the dynamics of one or several indicators. It is convenient to use it to see how a value changes over time."
   ]
  },
  {
   "cell_type": "code",
   "execution_count": null,
   "metadata": {
    "scrolled": false
   },
   "outputs": [],
   "source": [
    "# Line chart\n",
    "\n",
    "ax = data[['Confirmed', 'Deaths', 'Date']].groupby('Date').sum().plot(title='Title')\n",
    "ax.set_xlabel(\"X axes\")\n",
    "ax.set_ylabel(\"Y axes\");\n",
    " \n",
    "# TODO\n",
    "# Change the title and axes names"
   ]
  },
  {
   "cell_type": "markdown",
   "metadata": {},
   "source": [
    "The graph above shows us general information around the world. Let's select the 10 most affected countries (based on the results of the last day from the dataset) and on one **Line Chart** show data for each of them according to the number of registered cases of the disease. This time, let's try using the **plotly** library."
   ]
  },
  {
   "cell_type": "code",
   "execution_count": null,
   "metadata": {},
   "outputs": [],
   "source": [
    "# Extract the top 10 countries by the number of confirmed cases\n",
    "df_top = data[data['Date'] == max(data.Date)]\n",
    "df_top = df_top.groupby('Country/Region', as_index=False)['Confirmed'].sum()\n",
    "df_top = df_top.nlargest(10,'Confirmed')\n",
    "\n",
    "# Extract trend across time\n",
    "df_trend = data.groupby(['Date','Country/Region'], as_index=False)['Confirmed'].sum()\n",
    "df_trend = df_trend.merge(df_top, on='Country/Region')\n",
    "df_trend.rename(columns={'Country/Region' : 'Countries', \n",
    "                         'Confirmed_x':'Cases',\n",
    "                         'Date' : 'Dates'}, \n",
    "                inplace=True)\n",
    "\n",
    "# px stands for plotly_express\n",
    "px.line(df_trend, \n",
    "        title='Increased number of cases of COVID-19',\n",
    "        x='Dates', \n",
    "        y='Cases', \n",
    "        color='Countries')"
   ]
  },
  {
   "cell_type": "markdown",
   "metadata": {},
   "source": [
    "Let's put a logarithm on this column. "
   ]
  },
  {
   "cell_type": "code",
   "execution_count": null,
   "metadata": {},
   "outputs": [],
   "source": [
    "# Add a column to visualize the logarithmic\n",
    "df_trend['ln(Cases)'] = np.log(df_trend['Cases'] + 1) # Add 1 for log (0) case\n",
    "\n",
    "px.line(df_trend, \n",
    "        x='Dates', \n",
    "        y='ln(Cases)', \n",
    "        color='Countries', \n",
    "        title='COVID19 Total Cases growth for top 10 worst affected countries(Logarithmic Scale)')"
   ]
  },
  {
   "cell_type": "markdown",
   "metadata": {},
   "source": [
    "What interesting conclusions can you draw from this graph?"
   ]
  },
  {
   "cell_type": "markdown",
   "metadata": {},
   "source": [
    "Try to do similar graphs for the deaths and active cases."
   ]
  },
  {
   "cell_type": "code",
   "execution_count": null,
   "metadata": {},
   "outputs": [],
   "source": [
    "# TODO"
   ]
  },
  {
   "cell_type": "markdown",
   "metadata": {},
   "source": [
    "Another popular chart is the **Pie chart**. Most often, this graph is used to visualize the relationship between parts (ratios)."
   ]
  },
  {
   "cell_type": "code",
   "execution_count": null,
   "metadata": {},
   "outputs": [],
   "source": [
    "# Pie chart\n",
    "\n",
    "fig = make_subplots(rows=1, cols=2, specs=[[{'type':'domain'}, {'type':'domain'}]])\n",
    "labels_donut = [country for country in df_top['Country/Region']]\n",
    "fig.add_trace(go.Pie(labels=labels_donut, hole=.4, hoverinfo=\"label+percent+name\", \n",
    "                     values=[cases for cases in df_top.Confirmed], \n",
    "                     name=\"Ratio\", ), 1, 1)\n",
    "labels_pie = [country for country in df_top['Country/Region']]\n",
    "fig.add_trace(go.Pie(labels=labels_pie, pull=[0, 0, 0.2, 0], \n",
    "                     values=[cases for cases in df_top.Confirmed], \n",
    "                     name=\"Ratio\"), 1, 2)\n",
    "\n",
    "fig.update_layout(\n",
    "    title_text=\"Donut & Pie Chart: Distribution of COVID-19 cases among the top-10 affected countries\",\n",
    "    # Add annotations in the center of the donut pies.\n",
    "    annotations=[dict(text=' ', x=0.5, y=0.5, font_size=16, showarrow=False)],\n",
    "    colorway=['rgb(69, 135, 24)', 'rgb(136, 204, 41)', 'rgb(204, 204, 41)', \n",
    "              'rgb(235, 210, 26)', 'rgb(209, 156, 42)', 'rgb(209, 86, 42)', 'rgb(209, 42, 42)', ])\n",
    "fig.show()"
   ]
  },
  {
   "cell_type": "markdown",
   "metadata": {},
   "source": [
    "In the line graphs above, we have visualized aggregate country information by the number of cases detected. Now, let's try to plot a daily trend chart by calculating the difference between the current value and the previous day's value.\n",
    "For this purpose, we will use a histogram (**Histogram**). Also, let's add pointers to key events, for example, lockdown dates in Wuhan province in China, Italy and the UK."
   ]
  },
  {
   "cell_type": "code",
   "execution_count": null,
   "metadata": {},
   "outputs": [],
   "source": [
    "# Histogram\n",
    "\n",
    "def add_daily_diffs(df):\n",
    "    # 0 because the previous value is unknown\n",
    "    df.loc[0,'Cases_daily'] = 0\n",
    "    df.loc[0,'Deaths_daily'] = 0\n",
    "    for i in range(1, len(df)):\n",
    "        df.loc[i,'Cases_daily'] = df.loc[i,'Confirmed'] - df.loc[i - 1,'Confirmed']\n",
    "        df.loc[i,'Deaths_daily'] = df.loc[i,'Deaths'] - df.loc[i - 1,'Deaths']\n",
    "    return df\n",
    "\n",
    "df_world = data.groupby('Date', as_index=False)['Deaths', 'Confirmed'].sum()\n",
    "df_world = add_daily_diffs(df_world)\n",
    "\n",
    "fig = go.Figure(data=[\n",
    "    go.Bar(name='The number of cases',\n",
    "           marker={'color': 'rgb(0,100,153)'},\n",
    "           x=df_world.Date, \n",
    "           y=df_world.Cases_daily),\n",
    "    go.Bar(name='The number of cases', x=df_world.Date, y=df_world.Deaths_daily)\n",
    "])\n",
    "\n",
    "fig.update_layout(barmode='overlay', title='Statistics on the number of Confirmed and Deaths from COVID-19 across the world',\n",
    "                 annotations=[dict(x='2020-01-23', y=1797, text=\"Lockdown (Wuhan)\", \n",
    "                                   showarrow=True, arrowhead=1, ax=-100, ay=-200),\n",
    "                              dict(x='2020-03-09', y=1797, text=\"Lockdown (Italy)\", \n",
    "                                   showarrow=True, arrowhead=1, ax=-100, ay=-200),\n",
    "                              dict(x='2020-03-23', y=19000, text=\"Lockdown (UK)\", \n",
    "                                   showarrow=True, arrowhead=1, ax=-100, ay=-200)])\n",
    "fig.show()"
   ]
  },
  {
   "cell_type": "code",
   "execution_count": null,
   "metadata": {},
   "outputs": [],
   "source": [
    "# Save \n",
    "plotly.offline.plot(fig, filename='my_beautiful_histogram.html', show_link=False)"
   ]
  },
  {
   "cell_type": "markdown",
   "metadata": {},
   "source": [
    "A histogram is often mistaken for a bar chart due to its visual similarity, but these charts have different purposes. The bar graph shows how the data is distributed over a continuous interval or a specific period of time. Frequency is located along the vertical axis of the histogram, intervals or some time period along the horizontal axis.\n",
    "\n",
    "Let's build the **Bar Chart** now. It can be vertical and horizontal, let's choose the second option.\n",
    "Let's build a graph only for the top 20 countries in mortality. We will calculate this statistics as the ratio of the number of deaths to the number of confirmed cases for each country.\n",
    "\n",
    "For some countries in the dataset, statistics are presented for each region (for example, for all US states). For such countries, we will leave only one (maximum) value. Alternatively, one could calculate the average for the regions and leave it as an indicator for the country."
   ]
  },
  {
   "cell_type": "code",
   "execution_count": null,
   "metadata": {},
   "outputs": [],
   "source": [
    "# Bar chart\n",
    "\n",
    "df_mortality = data.query('(Date == \"2020-07-17\") & (Confirmed > 100)') \n",
    "df_mortality['mortality'] = df_mortality['Deaths'] / df_mortality['Confirmed']\n",
    "df_mortality['mortality'] = df_mortality['mortality'].apply(lambda x: round(x, 3))\n",
    "df_mortality.sort_values('mortality', ascending=False, inplace=True)\n",
    "# Keep the maximum mortality rate for countries for which statistics are provided for each region.\n",
    "df_mortality.drop_duplicates(subset=['Country/Region'], keep='first', inplace=True)\n",
    "\n",
    "fig = px.bar(df_mortality[:20].iloc[::-1],\n",
    "             x='mortality', \n",
    "             y='Country/Region',\n",
    "             labels={'mortality': 'Death rate', 'Country\\Region': 'Country'},\n",
    "             title=f'Death rate: top-20 affected countries on 2020-07-17', \n",
    "             text='mortality', \n",
    "             height=800, \n",
    "             orientation='h') # горизонтальный\n",
    "fig.show()\n",
    "\n",
    "# TODO: раскрасить столбцы по тепловой карте (используя уровень смерности)\n",
    "# Для этого добавьте аргументы color = 'mortality'"
   ]
  },
  {
   "cell_type": "markdown",
   "metadata": {},
   "source": [
    "**Heat Maps** quite useful for additional visualization of correlation matrices between features. When there are a lot of features, with the help of such a graph you can more quickly assess which features are highly correlated or do not have a linear relationship."
   ]
  },
  {
   "cell_type": "code",
   "execution_count": null,
   "metadata": {
    "scrolled": false
   },
   "outputs": [],
   "source": [
    "# Heat map\n",
    "sns.heatmap(data.corr(), annot=True, fmt='.2f', cmap='cividis'); # try another color, e.g.'RdBu'"
   ]
  },
  {
   "cell_type": "markdown",
   "metadata": {},
   "source": [
    "The scatter plot helps to find the relationship between the two indicators. To do this, you can use pairplot, which will immediately display a histogram for each variable and a scatter plot for two variables (along different plot axes)."
   ]
  },
  {
   "cell_type": "code",
   "execution_count": null,
   "metadata": {},
   "outputs": [],
   "source": [
    "# Pairplot\n",
    "sns_plot = sns.pairplot(data[['Deaths', 'Confirmed']])\n",
    "sns_plot.savefig('pairplot.png') # save"
   ]
  },
  {
   "cell_type": "markdown",
   "metadata": {},
   "source": [
    "**Pivot table** can automatically sort and aggregate your data."
   ]
  },
  {
   "cell_type": "code",
   "execution_count": null,
   "metadata": {},
   "outputs": [],
   "source": [
    "# Pivot table\n",
    "\n",
    "plt.figure(figsize=(12, 4))\n",
    "df_new = df_mortality.iloc[:10]\n",
    "df_new['Confirmed'] = df_new['Confirmed'].astype(np.int)\n",
    "df_new['binned_fatalities'] = pd.cut(df_new['Deaths'], 3)\n",
    "platform_genre_sales = df_new.pivot_table(\n",
    "                        index='binned_fatalities', \n",
    "                        columns='Country/Region', \n",
    "                        values='Confirmed', \n",
    "                        aggfunc=sum).fillna(int(0)).applymap(np.int)\n",
    "sns.heatmap(platform_genre_sales, annot=True, fmt=\".1f\", linewidths=0.7, cmap=\"viridis\");"
   ]
  },
  {
   "cell_type": "code",
   "execution_count": null,
   "metadata": {},
   "outputs": [],
   "source": [
    "# Geo\n",
    "\n",
    "# file with abbreviations \n",
    "with open('./data/countries_codes.pkl', 'rb') as file:\n",
    "    countries_codes = pickle.load(file)\n",
    "    \n",
    "df_map = data.copy()\n",
    "df_map['Date'] = data['Date'].astype(str)\n",
    "df_map = df_map.groupby(['Date','Country/Region'], as_index=False)['Confirmed','Deaths'].sum()\n",
    "df_map['iso_alpha'] = df_map['Country/Region'].map(countries_codes)\n",
    "df_map['ln(Confirmed)'] = np.log(df_map.Confirmed + 1)\n",
    "df_map['ln(Deaths)'] = np.log(df_map.Deaths + 1)\n",
    "\n",
    "px.choropleth(df_map, \n",
    "              locations=\"iso_alpha\", \n",
    "              color=\"ln(Confirmed)\", \n",
    "              hover_name=\"Country/Region\",\n",
    "              hover_data=[\"Confirmed\"],\n",
    "              animation_frame=\"Date\",\n",
    "              color_continuous_scale=px.colors.sequential.OrRd,\n",
    "              title = 'Total Confirmed Cases growth (Logarithmic Scale)')"
   ]
  },
  {
   "cell_type": "markdown",
   "metadata": {},
   "source": [
    "What important information did the new graph provide (visualization by time and geolocation)? Is it possible to answer the questions according to the schedule:\n",
    "* Which country did the spread of the coronavirus start from?\n",
    "* Which countries are most affected by the pandemic?\n",
    "* What part of the hemisphere accounts for the majority of cases? What hypotheses can be formulated regarding the temperature and rate of spread of the virus?\n",
    "\n",
    "What other observations can you make from the graph?"
   ]
  },
  {
   "cell_type": "markdown",
   "metadata": {},
   "source": [
    "### **Recommended materials**\n",
    "\n",
    "1. Matplotlib documentation https://matplotlib.org/3.2.1/tutorials/index.html \n",
    "2. Seaborn documentation https://seaborn.pydata.org/tutorial.html\n",
    "3. Plotly https://plotly.com/python/ \n",
    "4. [Kaggle COVID19-Explained through Visualizations](https://www.kaggle.com/anshuls235/covid19-explained-through-visualizations/#data)\n",
    "5. Open Data Science lecture on these topics:\n",
    "https://www.youtube.com/watch?v=fwWCw_cE5aI&list=PLVlY_7IJCMJeRfZ68eVfEcu-UcN9BbwiX&index=2\n",
    "\n",
    "https://www.youtube.com/watch?v=WNoQTNOME5g&list=PLVlY_7IJCMJeRfZ68eVfEcu-UcN9BbwiX&index=3\n",
    "\n",
    "### **Additional libraries**:\n",
    "* Bokeh\n",
    "* ggplot\n",
    "* geoplotlib\n",
    "* pygal\n"
   ]
  },
  {
   "cell_type": "code",
   "execution_count": null,
   "metadata": {},
   "outputs": [],
   "source": []
  }
 ],
 "metadata": {
  "kernelspec": {
   "display_name": "Python 3",
   "language": "python",
   "name": "python3"
  },
  "language_info": {
   "codemirror_mode": {
    "name": "ipython",
    "version": 3
   },
   "file_extension": ".py",
   "mimetype": "text/x-python",
   "name": "python",
   "nbconvert_exporter": "python",
   "pygments_lexer": "ipython3",
   "version": "3.6.12"
  }
 },
 "nbformat": 4,
 "nbformat_minor": 2
}
