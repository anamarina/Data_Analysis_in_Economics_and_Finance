{
 "cells": [
  {
   "cell_type": "markdown",
   "metadata": {},
   "source": [
    "\n",
    "# <center> Markowitz Portfolio Theory and Python</center> \n",
    "## Modeling the stock portfolio performance and evaluation"
   ]
  },
  {
   "cell_type": "markdown",
   "metadata": {},
   "source": [
    "**Elimination of illiteracy (likbez)**:\n",
    "\n",
    "* A **portfolio** is a collection of financial investments like stocks, bonds, commodities, cash, and cash equivalents, including closed-end funds and exchange-traded funds (ETFs). People generally believe that stocks, bonds, and cash comprise the core of a portfolio.\n",
    "\n",
    "One of the key concepts in portfolio management is the diversification in order to reduce risk.  It aims to maximize returns by investing in different areas that would each react differently to the same event.\n",
    "\n",
    "* **Modern portfolio theory (MPT)** is a theory on how risk-averse investors can construct portfolios to maximize expected return based on a given level of market risk. "
   ]
  },
  {
   "cell_type": "markdown",
   "metadata": {},
   "source": [
    "### Why it's interesting?\n",
    "\n",
    "Most of people assume \"higher risk = higher reward\" when it comes to investing. That is typically the case when looking at investing through the paradigm of individual stocks only. If you take into consideration the correlation coefficient between stocks, it's actually possible to receive a higher return and an equal (or lower) risk through diversification."
   ]
  },
  {
   "cell_type": "markdown",
   "metadata": {},
   "source": [
    "# Markowitz Portfolio Theory Application\n",
    "\n",
    "Harry Markowitz, 'Portfolio Selection', 1952. \n",
    "\n",
    "Modern portfolio theory is very useful for investors trying to construct efficient portfolios.\n",
    "\n",
    "1. Valuing the securities that might be included in the portfolio. \n",
    "2. Calculating the desired asset allocation (or a mix of assets).\n",
    "3. Performing calculations to optimize the portfolio to get the maximum amount of return for the minimum amount of risk.\n",
    "4. Using financial analysis to monitor the portfolio to see if it meets expectations, and then making changes to the individual securities or asset mix when market conditions warrant a change.\n",
    "\n",
    "However, investors who are more concerned with downside risk than variance might prefer post-modern portfolio theory (PMPT) to MPT.\n",
    "\n",
    "Based on statistical measures such as variance and correlation, an individual investment's performance is less important than how it impacts the entire portfolio.\n",
    "\n",
    "MPT assumes that investors are risk-averse, meaning they prefer a less risky portfolio to a riskier one for a given level of return. "
   ]
  },
  {
   "cell_type": "markdown",
   "metadata": {},
   "source": [
    "**Assumptions**:\n",
    "\n",
    "1. Investors attempt to maximize returns given their unique situation.<br>\n",
    "2. Asset returns are normally distributed.<br>\n",
    "3. Investors are rational and avoid unnecessary risk.<br>\n",
    "4. All investors have access to the same information.<br>\n",
    "5. Investors have the same views on expected returns.<br>\n",
    "6. Taxes and trading costs are not considered.<br>\n",
    "7. Single investors are not sizable enough to influence market prices.<br>\n",
    "8. Unlimited amounts of capital can be borrowed at the risk-free rate.<br>\n",
    "\n",
    "Some of these assumptions may never hold, yet MPT is still very useful."
   ]
  },
  {
   "cell_type": "code",
   "execution_count": 1,
   "metadata": {},
   "outputs": [],
   "source": [
    "asset_1_investments = 800000\n",
    "asset_2_investments = 200000\n",
    "expected_return_asset_1 = 5 # percent of the total sum\n",
    "expected_return_asset_2 = 10 # percent of the total sum"
   ]
  },
  {
   "cell_type": "code",
   "execution_count": 2,
   "metadata": {},
   "outputs": [
    {
     "data": {
      "text/plain": [
       "1000000"
      ]
     },
     "execution_count": 2,
     "metadata": {},
     "output_type": "execute_result"
    }
   ],
   "source": [
    "# What is the total investment amount?\n",
    "total = asset_1_investments + asset_2_investments #YOUR CODE HERE\n",
    "total"
   ]
  },
  {
   "cell_type": "code",
   "execution_count": 3,
   "metadata": {},
   "outputs": [
    {
     "data": {
      "text/plain": [
       "4.0"
      ]
     },
     "execution_count": 3,
     "metadata": {},
     "output_type": "execute_result"
    }
   ],
   "source": [
    "# What is the expected return on asset 1? (in percent)\n",
    "asset_1_investments / total * expected_return_asset_1"
   ]
  },
  {
   "cell_type": "code",
   "execution_count": 4,
   "metadata": {},
   "outputs": [
    {
     "data": {
      "text/plain": [
       "32000.0"
      ]
     },
     "execution_count": 4,
     "metadata": {},
     "output_type": "execute_result"
    }
   ],
   "source": [
    "# In money?\n",
    "asset_1_investments * 4 / 100"
   ]
  },
  {
   "cell_type": "markdown",
   "metadata": {},
   "source": [
    "The expected return of the portfolio is calculated as a weighted sum of the individual assets' returns. If a portfolio contained two equally weighted assets with expected returns of 5 and 10%, the portfolio's expected return would be:"
   ]
  },
  {
   "cell_type": "code",
   "execution_count": 5,
   "metadata": {},
   "outputs": [],
   "source": [
    "# What is the portfolio expected return? (in percent)\n",
    "portfolio_expected_return = (asset_1_investments / total * expected_return_asset_1) + \\\n",
    "(asset_2_investments / total * expected_return_asset_2)"
   ]
  },
  {
   "cell_type": "code",
   "execution_count": 6,
   "metadata": {},
   "outputs": [
    {
     "data": {
      "text/plain": [
       "6.0"
      ]
     },
     "execution_count": 6,
     "metadata": {},
     "output_type": "execute_result"
    }
   ],
   "source": [
    "portfolio_expected_return"
   ]
  },
  {
   "cell_type": "markdown",
   "metadata": {},
   "source": [
    "$\\text{Portfolio expected return} = \\frac{\\$800,000}{\\$1,000,000} \\cdot 5\\% + \n",
    "\\frac{\\$200,000}{$1,000,000} \\cdot 10\\% = 4\\% + 2\\% = 6\\%$"
   ]
  },
  {
   "cell_type": "code",
   "execution_count": 7,
   "metadata": {},
   "outputs": [
    {
     "data": {
      "text/plain": [
       "60000.0"
      ]
     },
     "execution_count": 7,
     "metadata": {},
     "output_type": "execute_result"
    }
   ],
   "source": [
    "# In money\n",
    "total * 0.06"
   ]
  },
  {
   "cell_type": "markdown",
   "metadata": {},
   "source": [
    "If the investor wants to ratchet up the expected return of the portfolio to 7.5%, all the investor needs to do is shift the appropriate amount of capital from Asset X to Asset Y. In this case, the appropriate weights are 50% in each asset:"
   ]
  },
  {
   "cell_type": "code",
   "execution_count": 1,
   "metadata": {
    "scrolled": true
   },
   "outputs": [
    {
     "data": {
      "text/plain": [
       "7.5"
      ]
     },
     "execution_count": 1,
     "metadata": {},
     "output_type": "execute_result"
    }
   ],
   "source": [
    "# What is the portfolio expected return now? \n",
    "weight = 50 # 50%\n",
    "asset_1_investments = 5\n",
    "asset_2_investments = 10\n",
    "\n",
    "(weight * asset_1_investments)/100 + (weight * asset_2_investments)/100"
   ]
  },
  {
   "cell_type": "markdown",
   "metadata": {},
   "source": [
    "$\\text{Portfolio expected return} = \\frac{50\\% \\cdot 5\\%}{100\\%} + \\frac{50\\% \\cdot 10\\%}{100\\%} = 2.5\\% + 5\\% = 7.5\\%$\n",
    "\n",
    "This same idea applies to risk.\n",
    "\n",
    "The portfolio's risk is a complicated function of the variances of each asset and the correlations of each pair of assets. To calculate the risk of a four-asset portfolio, an investor needs each of the **four assets' variances and six correlation values**, since there are six possible two-asset combinations with four assets. Because of the asset correlations, the **total portfolio risk, or standard deviation**, is lower than what would be calculated by a weighted sum. "
   ]
  },
  {
   "cell_type": "code",
   "execution_count": 9,
   "metadata": {},
   "outputs": [],
   "source": [
    "microsoft = 250000 # our investments in shares ($)\n",
    "tesla = 250000\n",
    "facebook = 250000\n",
    "amazon = 250000\n",
    "\n",
    "microsoft_beta = 1 # beta is the risk weight\n",
    "tesla_beta = 1.6\n",
    "facebook_beta = 0.75\n",
    "amazon_beta = 0.5"
   ]
  },
  {
   "cell_type": "code",
   "execution_count": 10,
   "metadata": {},
   "outputs": [
    {
     "data": {
      "text/plain": [
       "0.9625"
      ]
     },
     "execution_count": 10,
     "metadata": {},
     "output_type": "execute_result"
    }
   ],
   "source": [
    "# What is the portfolio expected risk (beta)?\n",
    "assets_cnt = 4\n",
    "weight = 1 / assets_cnt\n",
    "\n",
    "weight * microsoft_beta + weight * tesla_beta + weight * facebook_beta + weight * amazon_beta"
   ]
  },
  {
   "cell_type": "markdown",
   "metadata": {},
   "source": [
    "$\\text{Expected beta} = 25\\% \\cdot 1+  25\\% \\cdot 1.6 + 25\\% \\cdot 0.75 + 25\\% \\cdot 0.5 = 0.96$"
   ]
  },
  {
   "cell_type": "markdown",
   "metadata": {},
   "source": [
    "The 0.96 beta means the portfolio is taking on about as much systematic risk as the market in general (because it almost equals to 1). Assume that an investor wants to take on more risk, hoping to achieve more return, and decides a beta of 1.2 is ideal. MPT implies that by adjusting the weights of these assets in the portfolio, the desired beta can be achieved. This can be done in many ways, but here is an example that demonstrates the desired result:"
   ]
  },
  {
   "cell_type": "code",
   "execution_count": 12,
   "metadata": {},
   "outputs": [
    {
     "data": {
      "text/plain": [
       "1.2"
      ]
     },
     "execution_count": 12,
     "metadata": {},
     "output_type": "execute_result"
    }
   ],
   "source": [
    "# Calculate new beta for shift 5% away from Microsoft and 10% from Facebook and Amazon\n",
    "# Invest this capital to Tesla\n",
    "\n",
    "new_beta = 0.2 * 1 +  0.5 * 1.6 + 0.15 * 0.75 + 0.15 * 0.5 #YOUR CODE HERE\n",
    "\n",
    "round(new_beta, 1)"
   ]
  },
  {
   "cell_type": "markdown",
   "metadata": {},
   "source": [
    "# Portfolio returns, covariance matrix, mean-variance analysis. The efficient frontier.\n",
    "\n",
    "**Covariance** measures how much TWO stocks vary together. A negative covarience means returns have inverse relationship. A postive covarience means returns are correlated.\n",
    "\n",
    "**Variance** measures how much variation is in ONE stock."
   ]
  },
  {
   "cell_type": "code",
   "execution_count": 17,
   "metadata": {
    "collapsed": true
   },
   "outputs": [
    {
     "name": "stdout",
     "output_type": "stream",
     "text": [
      "Collecting pandas_datareader\n",
      "  Downloading pandas_datareader-0.9.0-py3-none-any.whl (107 kB)\n",
      "\u001b[K     |████████████████████████████████| 107 kB 2.1 MB/s eta 0:00:01\n",
      "\u001b[?25hRequirement already satisfied: lxml in /opt/anaconda3/lib/python3.8/site-packages (from pandas_datareader) (4.5.2)\n",
      "Requirement already satisfied: pandas>=0.23 in /opt/anaconda3/lib/python3.8/site-packages (from pandas_datareader) (1.1.3)\n",
      "Requirement already satisfied: requests>=2.19.0 in /opt/anaconda3/lib/python3.8/site-packages (from pandas_datareader) (2.24.0)\n",
      "Requirement already satisfied: python-dateutil>=2.7.3 in /opt/anaconda3/lib/python3.8/site-packages (from pandas>=0.23->pandas_datareader) (2.8.1)\n",
      "Requirement already satisfied: pytz>=2017.2 in /opt/anaconda3/lib/python3.8/site-packages (from pandas>=0.23->pandas_datareader) (2020.1)\n",
      "Requirement already satisfied: numpy>=1.15.4 in /opt/anaconda3/lib/python3.8/site-packages (from pandas>=0.23->pandas_datareader) (1.19.1)\n",
      "Requirement already satisfied: certifi>=2017.4.17 in /opt/anaconda3/lib/python3.8/site-packages (from requests>=2.19.0->pandas_datareader) (2020.6.20)\n",
      "Requirement already satisfied: idna<3,>=2.5 in /opt/anaconda3/lib/python3.8/site-packages (from requests>=2.19.0->pandas_datareader) (2.10)\n",
      "Requirement already satisfied: chardet<4,>=3.0.2 in /opt/anaconda3/lib/python3.8/site-packages (from requests>=2.19.0->pandas_datareader) (3.0.4)\n",
      "Requirement already satisfied: urllib3!=1.25.0,!=1.25.1,<1.26,>=1.21.1 in /opt/anaconda3/lib/python3.8/site-packages (from requests>=2.19.0->pandas_datareader) (1.25.10)\n",
      "Requirement already satisfied: six>=1.5 in /opt/anaconda3/lib/python3.8/site-packages (from python-dateutil>=2.7.3->pandas>=0.23->pandas_datareader) (1.15.0)\n",
      "Installing collected packages: pandas-datareader\n",
      "Successfully installed pandas-datareader-0.9.0\n"
     ]
    }
   ],
   "source": [
    "!pip install pandas_datareader"
   ]
  },
  {
   "cell_type": "code",
   "execution_count": 2,
   "metadata": {},
   "outputs": [],
   "source": [
    "import pandas as pd\n",
    "import numpy as np\n",
    "import pandas_datareader as wb\n",
    "import matplotlib.pyplot as plt\n",
    "%matplotlib inline"
   ]
  },
  {
   "cell_type": "markdown",
   "metadata": {},
   "source": [
    "# FAANG ANALYSIS"
   ]
  },
  {
   "cell_type": "markdown",
   "metadata": {},
   "source": [
    "In finance world, “FAANG” refers to the stocks of five giant American technology companies: Facebook (FB), Amazon (AMZN), Apple (AAPL), Netflix (NFLX); and Alphabet (GOOG). In addition, the five FAANG stocks are among the largest companies in the world, with a combined market capitalization of over $4.1 trillion as of January 2020.(Fernando, 2017)\n",
    "\n",
    "We will implement Markowitz Portfolio Theory to construct an efficient frontier of optimal portfolios.\n",
    "\n",
    "Assume we have a portfolio of FAANG shares. \n",
    "\n"
   ]
  },
  {
   "cell_type": "code",
   "execution_count": 3,
   "metadata": {},
   "outputs": [],
   "source": [
    "assets = ['FB','AMZN','AAPL','NFLX','GOOG']\n",
    "pf_data = pd.DataFrame()\n",
    "for each in assets:\n",
    "    pf_data[each] = wb.DataReader(each, data_source=\"yahoo\", start=\"2012-05-18\")[\"Adj Close\"]"
   ]
  },
  {
   "cell_type": "code",
   "execution_count": 4,
   "metadata": {},
   "outputs": [
    {
     "data": {
      "text/html": [
       "<div>\n",
       "<style scoped>\n",
       "    .dataframe tbody tr th:only-of-type {\n",
       "        vertical-align: middle;\n",
       "    }\n",
       "\n",
       "    .dataframe tbody tr th {\n",
       "        vertical-align: top;\n",
       "    }\n",
       "\n",
       "    .dataframe thead th {\n",
       "        text-align: right;\n",
       "    }\n",
       "</style>\n",
       "<table border=\"1\" class=\"dataframe\">\n",
       "  <thead>\n",
       "    <tr style=\"text-align: right;\">\n",
       "      <th></th>\n",
       "      <th>FB</th>\n",
       "      <th>AMZN</th>\n",
       "      <th>AAPL</th>\n",
       "      <th>NFLX</th>\n",
       "      <th>GOOG</th>\n",
       "    </tr>\n",
       "    <tr>\n",
       "      <th>Date</th>\n",
       "      <th></th>\n",
       "      <th></th>\n",
       "      <th></th>\n",
       "      <th></th>\n",
       "      <th></th>\n",
       "    </tr>\n",
       "  </thead>\n",
       "  <tbody>\n",
       "    <tr>\n",
       "      <th>2012-05-18</th>\n",
       "      <td>38.230000</td>\n",
       "      <td>213.850006</td>\n",
       "      <td>16.368652</td>\n",
       "      <td>9.994286</td>\n",
       "      <td>299.078979</td>\n",
       "    </tr>\n",
       "    <tr>\n",
       "      <th>2012-05-21</th>\n",
       "      <td>34.029999</td>\n",
       "      <td>218.110001</td>\n",
       "      <td>17.322281</td>\n",
       "      <td>10.248571</td>\n",
       "      <td>305.908386</td>\n",
       "    </tr>\n",
       "    <tr>\n",
       "      <th>2012-05-22</th>\n",
       "      <td>31.000000</td>\n",
       "      <td>215.330002</td>\n",
       "      <td>17.189274</td>\n",
       "      <td>9.672857</td>\n",
       "      <td>299.278229</td>\n",
       "    </tr>\n",
       "    <tr>\n",
       "      <th>2012-05-23</th>\n",
       "      <td>32.000000</td>\n",
       "      <td>217.279999</td>\n",
       "      <td>17.608683</td>\n",
       "      <td>10.272857</td>\n",
       "      <td>303.592072</td>\n",
       "    </tr>\n",
       "    <tr>\n",
       "      <th>2012-05-24</th>\n",
       "      <td>33.029999</td>\n",
       "      <td>215.240005</td>\n",
       "      <td>17.446974</td>\n",
       "      <td>10.038571</td>\n",
       "      <td>300.702881</td>\n",
       "    </tr>\n",
       "  </tbody>\n",
       "</table>\n",
       "</div>"
      ],
      "text/plain": [
       "                   FB        AMZN       AAPL       NFLX        GOOG\n",
       "Date                                                               \n",
       "2012-05-18  38.230000  213.850006  16.368652   9.994286  299.078979\n",
       "2012-05-21  34.029999  218.110001  17.322281  10.248571  305.908386\n",
       "2012-05-22  31.000000  215.330002  17.189274   9.672857  299.278229\n",
       "2012-05-23  32.000000  217.279999  17.608683  10.272857  303.592072\n",
       "2012-05-24  33.029999  215.240005  17.446974  10.038571  300.702881"
      ]
     },
     "execution_count": 4,
     "metadata": {},
     "output_type": "execute_result"
    }
   ],
   "source": [
    "pf_data.head()"
   ]
  },
  {
   "cell_type": "markdown",
   "metadata": {},
   "source": [
    "Let's pretend we had the following allocations for our total portfolio:\n",
    "\n",
    "* 30% in Facebook\n",
    "* 10% in Amazon\n",
    "* 15% in Apple\n",
    "* 20% in Netflix\n",
    "* 25% in Google"
   ]
  },
  {
   "cell_type": "code",
   "execution_count": 5,
   "metadata": {},
   "outputs": [],
   "source": [
    "portfolio_example = pf_data.copy()"
   ]
  },
  {
   "cell_type": "code",
   "execution_count": 6,
   "metadata": {},
   "outputs": [],
   "source": [
    "for each in ('FB', 'AMZN', 'AAPL', 'NFLX', 'GOOG'):\n",
    "    portfolio_example['Normed_return_' + each] = portfolio_example[each] / portfolio_example.iloc[0][each]"
   ]
  },
  {
   "cell_type": "code",
   "execution_count": 8,
   "metadata": {},
   "outputs": [
    {
     "data": {
      "text/html": [
       "<div>\n",
       "<style scoped>\n",
       "    .dataframe tbody tr th:only-of-type {\n",
       "        vertical-align: middle;\n",
       "    }\n",
       "\n",
       "    .dataframe tbody tr th {\n",
       "        vertical-align: top;\n",
       "    }\n",
       "\n",
       "    .dataframe thead th {\n",
       "        text-align: right;\n",
       "    }\n",
       "</style>\n",
       "<table border=\"1\" class=\"dataframe\">\n",
       "  <thead>\n",
       "    <tr style=\"text-align: right;\">\n",
       "      <th></th>\n",
       "      <th>FB</th>\n",
       "      <th>AMZN</th>\n",
       "      <th>AAPL</th>\n",
       "      <th>NFLX</th>\n",
       "      <th>GOOG</th>\n",
       "      <th>Normed_return_FB</th>\n",
       "      <th>Normed_return_AMZN</th>\n",
       "      <th>Normed_return_AAPL</th>\n",
       "      <th>Normed_return_NFLX</th>\n",
       "      <th>Normed_return_GOOG</th>\n",
       "    </tr>\n",
       "    <tr>\n",
       "      <th>Date</th>\n",
       "      <th></th>\n",
       "      <th></th>\n",
       "      <th></th>\n",
       "      <th></th>\n",
       "      <th></th>\n",
       "      <th></th>\n",
       "      <th></th>\n",
       "      <th></th>\n",
       "      <th></th>\n",
       "      <th></th>\n",
       "    </tr>\n",
       "  </thead>\n",
       "  <tbody>\n",
       "    <tr>\n",
       "      <th>2020-10-12</th>\n",
       "      <td>275.750000</td>\n",
       "      <td>3442.929932</td>\n",
       "      <td>124.400002</td>\n",
       "      <td>539.809998</td>\n",
       "      <td>1569.150024</td>\n",
       "      <td>7.212922</td>\n",
       "      <td>16.099742</td>\n",
       "      <td>7.599893</td>\n",
       "      <td>54.011864</td>\n",
       "      <td>5.246608</td>\n",
       "    </tr>\n",
       "    <tr>\n",
       "      <th>2020-10-13</th>\n",
       "      <td>276.140015</td>\n",
       "      <td>3443.629883</td>\n",
       "      <td>121.099998</td>\n",
       "      <td>554.090027</td>\n",
       "      <td>1571.680054</td>\n",
       "      <td>7.223124</td>\n",
       "      <td>16.103015</td>\n",
       "      <td>7.398288</td>\n",
       "      <td>55.440684</td>\n",
       "      <td>5.255067</td>\n",
       "    </tr>\n",
       "    <tr>\n",
       "      <th>2020-10-14</th>\n",
       "      <td>271.820007</td>\n",
       "      <td>3363.709961</td>\n",
       "      <td>121.190002</td>\n",
       "      <td>541.450012</td>\n",
       "      <td>1568.079956</td>\n",
       "      <td>7.110123</td>\n",
       "      <td>15.729296</td>\n",
       "      <td>7.403786</td>\n",
       "      <td>54.175960</td>\n",
       "      <td>5.243030</td>\n",
       "    </tr>\n",
       "    <tr>\n",
       "      <th>2020-10-15</th>\n",
       "      <td>266.720001</td>\n",
       "      <td>3338.649902</td>\n",
       "      <td>120.709999</td>\n",
       "      <td>541.940002</td>\n",
       "      <td>1559.130005</td>\n",
       "      <td>6.976720</td>\n",
       "      <td>15.612110</td>\n",
       "      <td>7.374462</td>\n",
       "      <td>54.224987</td>\n",
       "      <td>5.213105</td>\n",
       "    </tr>\n",
       "    <tr>\n",
       "      <th>2020-10-16</th>\n",
       "      <td>265.929993</td>\n",
       "      <td>3272.709961</td>\n",
       "      <td>119.019997</td>\n",
       "      <td>530.789978</td>\n",
       "      <td>1573.010010</td>\n",
       "      <td>6.956055</td>\n",
       "      <td>15.303764</td>\n",
       "      <td>7.271215</td>\n",
       "      <td>53.109347</td>\n",
       "      <td>5.259514</td>\n",
       "    </tr>\n",
       "  </tbody>\n",
       "</table>\n",
       "</div>"
      ],
      "text/plain": [
       "                    FB         AMZN        AAPL        NFLX         GOOG  \\\n",
       "Date                                                                       \n",
       "2020-10-12  275.750000  3442.929932  124.400002  539.809998  1569.150024   \n",
       "2020-10-13  276.140015  3443.629883  121.099998  554.090027  1571.680054   \n",
       "2020-10-14  271.820007  3363.709961  121.190002  541.450012  1568.079956   \n",
       "2020-10-15  266.720001  3338.649902  120.709999  541.940002  1559.130005   \n",
       "2020-10-16  265.929993  3272.709961  119.019997  530.789978  1573.010010   \n",
       "\n",
       "            Normed_return_FB  Normed_return_AMZN  Normed_return_AAPL  \\\n",
       "Date                                                                   \n",
       "2020-10-12          7.212922           16.099742            7.599893   \n",
       "2020-10-13          7.223124           16.103015            7.398288   \n",
       "2020-10-14          7.110123           15.729296            7.403786   \n",
       "2020-10-15          6.976720           15.612110            7.374462   \n",
       "2020-10-16          6.956055           15.303764            7.271215   \n",
       "\n",
       "            Normed_return_NFLX  Normed_return_GOOG  \n",
       "Date                                                \n",
       "2020-10-12           54.011864            5.246608  \n",
       "2020-10-13           55.440684            5.255067  \n",
       "2020-10-14           54.175960            5.243030  \n",
       "2020-10-15           54.224987            5.213105  \n",
       "2020-10-16           53.109347            5.259514  "
      ]
     },
     "execution_count": 8,
     "metadata": {},
     "output_type": "execute_result"
    }
   ],
   "source": [
    "portfolio_example.tail()"
   ]
  },
  {
   "cell_type": "code",
   "execution_count": 11,
   "metadata": {},
   "outputs": [
    {
     "data": {
      "text/html": [
       "<div>\n",
       "<style scoped>\n",
       "    .dataframe tbody tr th:only-of-type {\n",
       "        vertical-align: middle;\n",
       "    }\n",
       "\n",
       "    .dataframe tbody tr th {\n",
       "        vertical-align: top;\n",
       "    }\n",
       "\n",
       "    .dataframe thead th {\n",
       "        text-align: right;\n",
       "    }\n",
       "</style>\n",
       "<table border=\"1\" class=\"dataframe\">\n",
       "  <thead>\n",
       "    <tr style=\"text-align: right;\">\n",
       "      <th></th>\n",
       "      <th>FB</th>\n",
       "      <th>AMZN</th>\n",
       "      <th>AAPL</th>\n",
       "      <th>NFLX</th>\n",
       "      <th>GOOG</th>\n",
       "      <th>Normed_return_FB</th>\n",
       "      <th>Normed_return_AMZN</th>\n",
       "      <th>Normed_return_AAPL</th>\n",
       "      <th>Normed_return_NFLX</th>\n",
       "      <th>Normed_return_GOOG</th>\n",
       "      <th>FB_allocation</th>\n",
       "      <th>AMZN_allocation</th>\n",
       "      <th>AAPL_allocation</th>\n",
       "      <th>NFLX_allocation</th>\n",
       "      <th>GOOG_allocation</th>\n",
       "    </tr>\n",
       "    <tr>\n",
       "      <th>Date</th>\n",
       "      <th></th>\n",
       "      <th></th>\n",
       "      <th></th>\n",
       "      <th></th>\n",
       "      <th></th>\n",
       "      <th></th>\n",
       "      <th></th>\n",
       "      <th></th>\n",
       "      <th></th>\n",
       "      <th></th>\n",
       "      <th></th>\n",
       "      <th></th>\n",
       "      <th></th>\n",
       "      <th></th>\n",
       "      <th></th>\n",
       "    </tr>\n",
       "  </thead>\n",
       "  <tbody>\n",
       "    <tr>\n",
       "      <th>2012-05-18</th>\n",
       "      <td>38.230000</td>\n",
       "      <td>213.850006</td>\n",
       "      <td>16.368652</td>\n",
       "      <td>9.994286</td>\n",
       "      <td>299.078979</td>\n",
       "      <td>1.000000</td>\n",
       "      <td>1.000000</td>\n",
       "      <td>1.000000</td>\n",
       "      <td>1.000000</td>\n",
       "      <td>1.000000</td>\n",
       "      <td>0.300000</td>\n",
       "      <td>0.100000</td>\n",
       "      <td>0.150000</td>\n",
       "      <td>0.200000</td>\n",
       "      <td>0.250000</td>\n",
       "    </tr>\n",
       "    <tr>\n",
       "      <th>2012-05-21</th>\n",
       "      <td>34.029999</td>\n",
       "      <td>218.110001</td>\n",
       "      <td>17.322281</td>\n",
       "      <td>10.248571</td>\n",
       "      <td>305.908386</td>\n",
       "      <td>0.890139</td>\n",
       "      <td>1.019920</td>\n",
       "      <td>1.058259</td>\n",
       "      <td>1.025443</td>\n",
       "      <td>1.022835</td>\n",
       "      <td>0.267042</td>\n",
       "      <td>0.101992</td>\n",
       "      <td>0.158739</td>\n",
       "      <td>0.205089</td>\n",
       "      <td>0.255709</td>\n",
       "    </tr>\n",
       "    <tr>\n",
       "      <th>2012-05-22</th>\n",
       "      <td>31.000000</td>\n",
       "      <td>215.330002</td>\n",
       "      <td>17.189274</td>\n",
       "      <td>9.672857</td>\n",
       "      <td>299.278229</td>\n",
       "      <td>0.810882</td>\n",
       "      <td>1.006921</td>\n",
       "      <td>1.050134</td>\n",
       "      <td>0.967839</td>\n",
       "      <td>1.000666</td>\n",
       "      <td>0.243264</td>\n",
       "      <td>0.100692</td>\n",
       "      <td>0.157520</td>\n",
       "      <td>0.193568</td>\n",
       "      <td>0.250167</td>\n",
       "    </tr>\n",
       "    <tr>\n",
       "      <th>2012-05-23</th>\n",
       "      <td>32.000000</td>\n",
       "      <td>217.279999</td>\n",
       "      <td>17.608683</td>\n",
       "      <td>10.272857</td>\n",
       "      <td>303.592072</td>\n",
       "      <td>0.837039</td>\n",
       "      <td>1.016039</td>\n",
       "      <td>1.075756</td>\n",
       "      <td>1.027873</td>\n",
       "      <td>1.015090</td>\n",
       "      <td>0.251112</td>\n",
       "      <td>0.101604</td>\n",
       "      <td>0.161363</td>\n",
       "      <td>0.205575</td>\n",
       "      <td>0.253772</td>\n",
       "    </tr>\n",
       "    <tr>\n",
       "      <th>2012-05-24</th>\n",
       "      <td>33.029999</td>\n",
       "      <td>215.240005</td>\n",
       "      <td>17.446974</td>\n",
       "      <td>10.038571</td>\n",
       "      <td>300.702881</td>\n",
       "      <td>0.863981</td>\n",
       "      <td>1.006500</td>\n",
       "      <td>1.065877</td>\n",
       "      <td>1.004431</td>\n",
       "      <td>1.005430</td>\n",
       "      <td>0.259194</td>\n",
       "      <td>0.100650</td>\n",
       "      <td>0.159882</td>\n",
       "      <td>0.200886</td>\n",
       "      <td>0.251357</td>\n",
       "    </tr>\n",
       "  </tbody>\n",
       "</table>\n",
       "</div>"
      ],
      "text/plain": [
       "                   FB        AMZN       AAPL       NFLX        GOOG  \\\n",
       "Date                                                                  \n",
       "2012-05-18  38.230000  213.850006  16.368652   9.994286  299.078979   \n",
       "2012-05-21  34.029999  218.110001  17.322281  10.248571  305.908386   \n",
       "2012-05-22  31.000000  215.330002  17.189274   9.672857  299.278229   \n",
       "2012-05-23  32.000000  217.279999  17.608683  10.272857  303.592072   \n",
       "2012-05-24  33.029999  215.240005  17.446974  10.038571  300.702881   \n",
       "\n",
       "            Normed_return_FB  Normed_return_AMZN  Normed_return_AAPL  \\\n",
       "Date                                                                   \n",
       "2012-05-18          1.000000            1.000000            1.000000   \n",
       "2012-05-21          0.890139            1.019920            1.058259   \n",
       "2012-05-22          0.810882            1.006921            1.050134   \n",
       "2012-05-23          0.837039            1.016039            1.075756   \n",
       "2012-05-24          0.863981            1.006500            1.065877   \n",
       "\n",
       "            Normed_return_NFLX  Normed_return_GOOG  FB_allocation  \\\n",
       "Date                                                                \n",
       "2012-05-18            1.000000            1.000000       0.300000   \n",
       "2012-05-21            1.025443            1.022835       0.267042   \n",
       "2012-05-22            0.967839            1.000666       0.243264   \n",
       "2012-05-23            1.027873            1.015090       0.251112   \n",
       "2012-05-24            1.004431            1.005430       0.259194   \n",
       "\n",
       "            AMZN_allocation  AAPL_allocation  NFLX_allocation  GOOG_allocation  \n",
       "Date                                                                            \n",
       "2012-05-18         0.100000         0.150000         0.200000         0.250000  \n",
       "2012-05-21         0.101992         0.158739         0.205089         0.255709  \n",
       "2012-05-22         0.100692         0.157520         0.193568         0.250167  \n",
       "2012-05-23         0.101604         0.161363         0.205575         0.253772  \n",
       "2012-05-24         0.100650         0.159882         0.200886         0.251357  "
      ]
     },
     "execution_count": 11,
     "metadata": {},
     "output_type": "execute_result"
    }
   ],
   "source": [
    "for stock, allocate in zip(['FB', 'AMZN', 'AAPL', 'NFLX', 'GOOG'],[.3,.1,.15,.2,.25]):\n",
    "    portfolio_example[str(stock) + '_allocation'] = portfolio_example['Normed_return_' + stock] * allocate\n",
    "    \n",
    "portfolio_example.head()"
   ]
  },
  {
   "cell_type": "code",
   "execution_count": 12,
   "metadata": {},
   "outputs": [
    {
     "data": {
      "text/plain": [
       "FB_allocation      0.417363\n",
       "AMZN_allocation    0.306075\n",
       "AAPL_allocation    0.218136\n",
       "NFLX_allocation    2.124374\n",
       "GOOG_allocation    0.262976\n",
       "Name: 2020-10-16 00:00:00, dtype: float64"
      ]
     },
     "execution_count": 12,
     "metadata": {},
     "output_type": "execute_result"
    }
   ],
   "source": [
    "portfolio_example.iloc[-1][-5:] / 5"
   ]
  },
  {
   "cell_type": "markdown",
   "metadata": {},
   "source": [
    "Let's pretend we invested 500'000 dollars in this portfolio:"
   ]
  },
  {
   "cell_type": "code",
   "execution_count": 13,
   "metadata": {},
   "outputs": [
    {
     "data": {
      "text/html": [
       "<div>\n",
       "<style scoped>\n",
       "    .dataframe tbody tr th:only-of-type {\n",
       "        vertical-align: middle;\n",
       "    }\n",
       "\n",
       "    .dataframe tbody tr th {\n",
       "        vertical-align: top;\n",
       "    }\n",
       "\n",
       "    .dataframe thead th {\n",
       "        text-align: right;\n",
       "    }\n",
       "</style>\n",
       "<table border=\"1\" class=\"dataframe\">\n",
       "  <thead>\n",
       "    <tr style=\"text-align: right;\">\n",
       "      <th></th>\n",
       "      <th>FB</th>\n",
       "      <th>AMZN</th>\n",
       "      <th>AAPL</th>\n",
       "      <th>NFLX</th>\n",
       "      <th>GOOG</th>\n",
       "      <th>Normed_return_FB</th>\n",
       "      <th>Normed_return_AMZN</th>\n",
       "      <th>Normed_return_AAPL</th>\n",
       "      <th>Normed_return_NFLX</th>\n",
       "      <th>Normed_return_GOOG</th>\n",
       "      <th>...</th>\n",
       "      <th>FB_stocks_num</th>\n",
       "      <th>FB_stocks_$</th>\n",
       "      <th>AMZN_stocks_num</th>\n",
       "      <th>AMZN_stocks_$</th>\n",
       "      <th>AAPL_stocks_num</th>\n",
       "      <th>AAPL_stocks_$</th>\n",
       "      <th>NFLX_stocks_num</th>\n",
       "      <th>NFLX_stocks_$</th>\n",
       "      <th>GOOG_stocks_num</th>\n",
       "      <th>GOOG_stocks_$</th>\n",
       "    </tr>\n",
       "    <tr>\n",
       "      <th>Date</th>\n",
       "      <th></th>\n",
       "      <th></th>\n",
       "      <th></th>\n",
       "      <th></th>\n",
       "      <th></th>\n",
       "      <th></th>\n",
       "      <th></th>\n",
       "      <th></th>\n",
       "      <th></th>\n",
       "      <th></th>\n",
       "      <th></th>\n",
       "      <th></th>\n",
       "      <th></th>\n",
       "      <th></th>\n",
       "      <th></th>\n",
       "      <th></th>\n",
       "      <th></th>\n",
       "      <th></th>\n",
       "      <th></th>\n",
       "      <th></th>\n",
       "      <th></th>\n",
       "    </tr>\n",
       "  </thead>\n",
       "  <tbody>\n",
       "    <tr>\n",
       "      <th>2012-05-18</th>\n",
       "      <td>38.230000</td>\n",
       "      <td>213.850006</td>\n",
       "      <td>16.368652</td>\n",
       "      <td>9.994286</td>\n",
       "      <td>299.078979</td>\n",
       "      <td>1.000000</td>\n",
       "      <td>1.000000</td>\n",
       "      <td>1.000000</td>\n",
       "      <td>1.000000</td>\n",
       "      <td>1.000000</td>\n",
       "      <td>...</td>\n",
       "      <td>3923.620241</td>\n",
       "      <td>150000.000000</td>\n",
       "      <td>233.808738</td>\n",
       "      <td>50000.000000</td>\n",
       "      <td>4581.928825</td>\n",
       "      <td>75000.000000</td>\n",
       "      <td>10005.717684</td>\n",
       "      <td>100000.000000</td>\n",
       "      <td>417.949801</td>\n",
       "      <td>125000.000000</td>\n",
       "    </tr>\n",
       "    <tr>\n",
       "      <th>2012-05-21</th>\n",
       "      <td>34.029999</td>\n",
       "      <td>218.110001</td>\n",
       "      <td>17.322281</td>\n",
       "      <td>10.248571</td>\n",
       "      <td>305.908386</td>\n",
       "      <td>0.890139</td>\n",
       "      <td>1.019920</td>\n",
       "      <td>1.058259</td>\n",
       "      <td>1.025443</td>\n",
       "      <td>1.022835</td>\n",
       "      <td>...</td>\n",
       "      <td>3923.620241</td>\n",
       "      <td>133520.791996</td>\n",
       "      <td>233.808738</td>\n",
       "      <td>50996.023939</td>\n",
       "      <td>4581.928825</td>\n",
       "      <td>79369.458096</td>\n",
       "      <td>10005.717684</td>\n",
       "      <td>102544.312050</td>\n",
       "      <td>417.949801</td>\n",
       "      <td>127854.349188</td>\n",
       "    </tr>\n",
       "    <tr>\n",
       "      <th>2012-05-22</th>\n",
       "      <td>31.000000</td>\n",
       "      <td>215.330002</td>\n",
       "      <td>17.189274</td>\n",
       "      <td>9.672857</td>\n",
       "      <td>299.278229</td>\n",
       "      <td>0.810882</td>\n",
       "      <td>1.006921</td>\n",
       "      <td>1.050134</td>\n",
       "      <td>0.967839</td>\n",
       "      <td>1.000666</td>\n",
       "      <td>...</td>\n",
       "      <td>3923.620241</td>\n",
       "      <td>121632.227457</td>\n",
       "      <td>233.808738</td>\n",
       "      <td>50346.035933</td>\n",
       "      <td>4581.928825</td>\n",
       "      <td>78760.029262</td>\n",
       "      <td>10005.717684</td>\n",
       "      <td>96783.879185</td>\n",
       "      <td>417.949801</td>\n",
       "      <td>125083.276192</td>\n",
       "    </tr>\n",
       "    <tr>\n",
       "      <th>2012-05-23</th>\n",
       "      <td>32.000000</td>\n",
       "      <td>217.279999</td>\n",
       "      <td>17.608683</td>\n",
       "      <td>10.272857</td>\n",
       "      <td>303.592072</td>\n",
       "      <td>0.837039</td>\n",
       "      <td>1.016039</td>\n",
       "      <td>1.075756</td>\n",
       "      <td>1.027873</td>\n",
       "      <td>1.015090</td>\n",
       "      <td>...</td>\n",
       "      <td>3923.620241</td>\n",
       "      <td>125555.847697</td>\n",
       "      <td>233.808738</td>\n",
       "      <td>50801.962258</td>\n",
       "      <td>4581.928825</td>\n",
       "      <td>80681.730524</td>\n",
       "      <td>10005.717684</td>\n",
       "      <td>102787.304070</td>\n",
       "      <td>417.949801</td>\n",
       "      <td>126886.245921</td>\n",
       "    </tr>\n",
       "    <tr>\n",
       "      <th>2012-05-24</th>\n",
       "      <td>33.029999</td>\n",
       "      <td>215.240005</td>\n",
       "      <td>17.446974</td>\n",
       "      <td>10.038571</td>\n",
       "      <td>300.702881</td>\n",
       "      <td>0.863981</td>\n",
       "      <td>1.006500</td>\n",
       "      <td>1.065877</td>\n",
       "      <td>1.004431</td>\n",
       "      <td>1.005430</td>\n",
       "      <td>...</td>\n",
       "      <td>3923.620241</td>\n",
       "      <td>129597.171756</td>\n",
       "      <td>233.808738</td>\n",
       "      <td>50324.994003</td>\n",
       "      <td>4581.928825</td>\n",
       "      <td>79940.792166</td>\n",
       "      <td>10005.717684</td>\n",
       "      <td>100443.110954</td>\n",
       "      <td>417.949801</td>\n",
       "      <td>125678.709253</td>\n",
       "    </tr>\n",
       "  </tbody>\n",
       "</table>\n",
       "<p>5 rows × 25 columns</p>\n",
       "</div>"
      ],
      "text/plain": [
       "                   FB        AMZN       AAPL       NFLX        GOOG  \\\n",
       "Date                                                                  \n",
       "2012-05-18  38.230000  213.850006  16.368652   9.994286  299.078979   \n",
       "2012-05-21  34.029999  218.110001  17.322281  10.248571  305.908386   \n",
       "2012-05-22  31.000000  215.330002  17.189274   9.672857  299.278229   \n",
       "2012-05-23  32.000000  217.279999  17.608683  10.272857  303.592072   \n",
       "2012-05-24  33.029999  215.240005  17.446974  10.038571  300.702881   \n",
       "\n",
       "            Normed_return_FB  Normed_return_AMZN  Normed_return_AAPL  \\\n",
       "Date                                                                   \n",
       "2012-05-18          1.000000            1.000000            1.000000   \n",
       "2012-05-21          0.890139            1.019920            1.058259   \n",
       "2012-05-22          0.810882            1.006921            1.050134   \n",
       "2012-05-23          0.837039            1.016039            1.075756   \n",
       "2012-05-24          0.863981            1.006500            1.065877   \n",
       "\n",
       "            Normed_return_NFLX  Normed_return_GOOG  ...  FB_stocks_num  \\\n",
       "Date                                                ...                  \n",
       "2012-05-18            1.000000            1.000000  ...    3923.620241   \n",
       "2012-05-21            1.025443            1.022835  ...    3923.620241   \n",
       "2012-05-22            0.967839            1.000666  ...    3923.620241   \n",
       "2012-05-23            1.027873            1.015090  ...    3923.620241   \n",
       "2012-05-24            1.004431            1.005430  ...    3923.620241   \n",
       "\n",
       "              FB_stocks_$  AMZN_stocks_num  AMZN_stocks_$  AAPL_stocks_num  \\\n",
       "Date                                                                         \n",
       "2012-05-18  150000.000000       233.808738   50000.000000      4581.928825   \n",
       "2012-05-21  133520.791996       233.808738   50996.023939      4581.928825   \n",
       "2012-05-22  121632.227457       233.808738   50346.035933      4581.928825   \n",
       "2012-05-23  125555.847697       233.808738   50801.962258      4581.928825   \n",
       "2012-05-24  129597.171756       233.808738   50324.994003      4581.928825   \n",
       "\n",
       "            AAPL_stocks_$  NFLX_stocks_num  NFLX_stocks_$  GOOG_stocks_num  \\\n",
       "Date                                                                         \n",
       "2012-05-18   75000.000000     10005.717684  100000.000000       417.949801   \n",
       "2012-05-21   79369.458096     10005.717684  102544.312050       417.949801   \n",
       "2012-05-22   78760.029262     10005.717684   96783.879185       417.949801   \n",
       "2012-05-23   80681.730524     10005.717684  102787.304070       417.949801   \n",
       "2012-05-24   79940.792166     10005.717684  100443.110954       417.949801   \n",
       "\n",
       "            GOOG_stocks_$  \n",
       "Date                       \n",
       "2012-05-18  125000.000000  \n",
       "2012-05-21  127854.349188  \n",
       "2012-05-22  125083.276192  \n",
       "2012-05-23  126886.245921  \n",
       "2012-05-24  125678.709253  \n",
       "\n",
       "[5 rows x 25 columns]"
      ]
     },
     "execution_count": 13,
     "metadata": {},
     "output_type": "execute_result"
    }
   ],
   "source": [
    "for each in ['FB', 'AMZN', 'AAPL', 'NFLX', 'GOOG']:\n",
    "    portfolio_example[each + '_stocks_num'] = 500000 * portfolio_example[each + '_allocation'].iloc[0] / portfolio_example[each].iloc[0]\n",
    "    portfolio_example[each + '_stocks_$'] = portfolio_example[each] * portfolio_example[each + '_stocks_num']\n",
    "    \n",
    "portfolio_example.head()"
   ]
  },
  {
   "cell_type": "code",
   "execution_count": 52,
   "metadata": {},
   "outputs": [
    {
     "data": {
      "text/plain": [
       "149999.9999791092"
      ]
     },
     "execution_count": 52,
     "metadata": {},
     "output_type": "execute_result"
    }
   ],
   "source": [
    "portfolio_example['FB'].iloc[0] * 3923.62024"
   ]
  },
  {
   "cell_type": "code",
   "execution_count": 14,
   "metadata": {},
   "outputs": [
    {
     "data": {
      "text/html": [
       "<div>\n",
       "<style scoped>\n",
       "    .dataframe tbody tr th:only-of-type {\n",
       "        vertical-align: middle;\n",
       "    }\n",
       "\n",
       "    .dataframe tbody tr th {\n",
       "        vertical-align: top;\n",
       "    }\n",
       "\n",
       "    .dataframe thead th {\n",
       "        text-align: right;\n",
       "    }\n",
       "</style>\n",
       "<table border=\"1\" class=\"dataframe\">\n",
       "  <thead>\n",
       "    <tr style=\"text-align: right;\">\n",
       "      <th></th>\n",
       "      <th>FB</th>\n",
       "      <th>AMZN</th>\n",
       "      <th>AAPL</th>\n",
       "      <th>NFLX</th>\n",
       "      <th>GOOG</th>\n",
       "      <th>Normed_return_FB</th>\n",
       "      <th>Normed_return_AMZN</th>\n",
       "      <th>Normed_return_AAPL</th>\n",
       "      <th>Normed_return_NFLX</th>\n",
       "      <th>Normed_return_GOOG</th>\n",
       "      <th>...</th>\n",
       "      <th>FB_stocks_num</th>\n",
       "      <th>FB_stocks_$</th>\n",
       "      <th>AMZN_stocks_num</th>\n",
       "      <th>AMZN_stocks_$</th>\n",
       "      <th>AAPL_stocks_num</th>\n",
       "      <th>AAPL_stocks_$</th>\n",
       "      <th>NFLX_stocks_num</th>\n",
       "      <th>NFLX_stocks_$</th>\n",
       "      <th>GOOG_stocks_num</th>\n",
       "      <th>GOOG_stocks_$</th>\n",
       "    </tr>\n",
       "    <tr>\n",
       "      <th>Date</th>\n",
       "      <th></th>\n",
       "      <th></th>\n",
       "      <th></th>\n",
       "      <th></th>\n",
       "      <th></th>\n",
       "      <th></th>\n",
       "      <th></th>\n",
       "      <th></th>\n",
       "      <th></th>\n",
       "      <th></th>\n",
       "      <th></th>\n",
       "      <th></th>\n",
       "      <th></th>\n",
       "      <th></th>\n",
       "      <th></th>\n",
       "      <th></th>\n",
       "      <th></th>\n",
       "      <th></th>\n",
       "      <th></th>\n",
       "      <th></th>\n",
       "      <th></th>\n",
       "    </tr>\n",
       "  </thead>\n",
       "  <tbody>\n",
       "    <tr>\n",
       "      <th>2020-10-16</th>\n",
       "      <td>265.929993</td>\n",
       "      <td>3272.709961</td>\n",
       "      <td>119.019997</td>\n",
       "      <td>530.789978</td>\n",
       "      <td>1573.01001</td>\n",
       "      <td>6.956055</td>\n",
       "      <td>15.303764</td>\n",
       "      <td>7.271215</td>\n",
       "      <td>53.109347</td>\n",
       "      <td>5.259514</td>\n",
       "      <td>...</td>\n",
       "      <td>3923.620241</td>\n",
       "      <td>1.043408e+06</td>\n",
       "      <td>233.808738</td>\n",
       "      <td>765188.185067</td>\n",
       "      <td>4581.928825</td>\n",
       "      <td>545341.153369</td>\n",
       "      <td>10005.717684</td>\n",
       "      <td>5.310935e+06</td>\n",
       "      <td>417.949801</td>\n",
       "      <td>657439.220752</td>\n",
       "    </tr>\n",
       "  </tbody>\n",
       "</table>\n",
       "<p>1 rows × 25 columns</p>\n",
       "</div>"
      ],
      "text/plain": [
       "                    FB         AMZN        AAPL        NFLX        GOOG  \\\n",
       "Date                                                                      \n",
       "2020-10-16  265.929993  3272.709961  119.019997  530.789978  1573.01001   \n",
       "\n",
       "            Normed_return_FB  Normed_return_AMZN  Normed_return_AAPL  \\\n",
       "Date                                                                   \n",
       "2020-10-16          6.956055           15.303764            7.271215   \n",
       "\n",
       "            Normed_return_NFLX  Normed_return_GOOG  ...  FB_stocks_num  \\\n",
       "Date                                                ...                  \n",
       "2020-10-16           53.109347            5.259514  ...    3923.620241   \n",
       "\n",
       "             FB_stocks_$  AMZN_stocks_num  AMZN_stocks_$  AAPL_stocks_num  \\\n",
       "Date                                                                        \n",
       "2020-10-16  1.043408e+06       233.808738  765188.185067      4581.928825   \n",
       "\n",
       "            AAPL_stocks_$  NFLX_stocks_num  NFLX_stocks_$  GOOG_stocks_num  \\\n",
       "Date                                                                         \n",
       "2020-10-16  545341.153369     10005.717684   5.310935e+06       417.949801   \n",
       "\n",
       "            GOOG_stocks_$  \n",
       "Date                       \n",
       "2020-10-16  657439.220752  \n",
       "\n",
       "[1 rows x 25 columns]"
      ]
     },
     "execution_count": 14,
     "metadata": {},
     "output_type": "execute_result"
    }
   ],
   "source": [
    "portfolio_example.tail(1)"
   ]
  },
  {
   "cell_type": "code",
   "execution_count": 15,
   "metadata": {},
   "outputs": [],
   "source": [
    "portfolio_example['Total sum'] = portfolio_example['FB_stocks_$'] + portfolio_example['AMZN_stocks_$'] \n",
    "portfolio_example['Total sum'] += portfolio_example['AAPL_stocks_$'] + portfolio_example['NFLX_stocks_$']\n",
    "portfolio_example['Total sum'] += portfolio_example['GOOG_stocks_$']"
   ]
  },
  {
   "cell_type": "code",
   "execution_count": 16,
   "metadata": {},
   "outputs": [
    {
     "data": {
      "text/plain": [
       "494284.9352684568"
      ]
     },
     "execution_count": 16,
     "metadata": {},
     "output_type": "execute_result"
    }
   ],
   "source": [
    "# initial money\n",
    "portfolio_example[['FB_stocks_$', 'AMZN_stocks_$', 'AAPL_stocks_$', 'NFLX_stocks_$', 'GOOG_stocks_$']].iloc[1].sum()"
   ]
  },
  {
   "cell_type": "code",
   "execution_count": 17,
   "metadata": {},
   "outputs": [
    {
     "data": {
      "text/plain": [
       "8322311.530564762"
      ]
     },
     "execution_count": 17,
     "metadata": {},
     "output_type": "execute_result"
    }
   ],
   "source": [
    "# portfolio on October 16, 2020\n",
    "portfolio_example[['FB_stocks_$', 'AMZN_stocks_$', 'AAPL_stocks_$', 'NFLX_stocks_$', 'GOOG_stocks_$']].iloc[-1].sum()"
   ]
  },
  {
   "cell_type": "code",
   "execution_count": 75,
   "metadata": {},
   "outputs": [
    {
     "data": {
      "image/png": "[encoded data removed]",
      "text/plain": [
       "<Figure size 720x576 with 1 Axes>"
      ]
     },
     "metadata": {
      "needs_background": "light"
     },
     "output_type": "display_data"
    }
   ],
   "source": [
    "portfolio_example['Total sum'].plot(figsize=(10,8))\n",
    "plt.yticks(np.arange(500000, 9000000, step=1000000))\n",
    "plt.title('Total Portfolio Value');"
   ]
  },
  {
   "cell_type": "code",
   "execution_count": 76,
   "metadata": {},
   "outputs": [
    {
     "data": {
      "text/html": [
       "<div>\n",
       "<style scoped>\n",
       "    .dataframe tbody tr th:only-of-type {\n",
       "        vertical-align: middle;\n",
       "    }\n",
       "\n",
       "    .dataframe tbody tr th {\n",
       "        vertical-align: top;\n",
       "    }\n",
       "\n",
       "    .dataframe thead th {\n",
       "        text-align: right;\n",
       "    }\n",
       "</style>\n",
       "<table border=\"1\" class=\"dataframe\">\n",
       "  <thead>\n",
       "    <tr style=\"text-align: right;\">\n",
       "      <th></th>\n",
       "      <th>FB</th>\n",
       "      <th>AMZN</th>\n",
       "      <th>AAPL</th>\n",
       "      <th>NFLX</th>\n",
       "      <th>GOOG</th>\n",
       "    </tr>\n",
       "    <tr>\n",
       "      <th>Date</th>\n",
       "      <th></th>\n",
       "      <th></th>\n",
       "      <th></th>\n",
       "      <th></th>\n",
       "      <th></th>\n",
       "    </tr>\n",
       "  </thead>\n",
       "  <tbody>\n",
       "    <tr>\n",
       "      <th>2012-05-18</th>\n",
       "      <td>38.230000</td>\n",
       "      <td>213.850006</td>\n",
       "      <td>16.368652</td>\n",
       "      <td>9.994286</td>\n",
       "      <td>299.078979</td>\n",
       "    </tr>\n",
       "    <tr>\n",
       "      <th>2012-05-21</th>\n",
       "      <td>34.029999</td>\n",
       "      <td>218.110001</td>\n",
       "      <td>17.322281</td>\n",
       "      <td>10.248571</td>\n",
       "      <td>305.908386</td>\n",
       "    </tr>\n",
       "    <tr>\n",
       "      <th>2012-05-22</th>\n",
       "      <td>31.000000</td>\n",
       "      <td>215.330002</td>\n",
       "      <td>17.189274</td>\n",
       "      <td>9.672857</td>\n",
       "      <td>299.278229</td>\n",
       "    </tr>\n",
       "    <tr>\n",
       "      <th>2012-05-23</th>\n",
       "      <td>32.000000</td>\n",
       "      <td>217.279999</td>\n",
       "      <td>17.608683</td>\n",
       "      <td>10.272857</td>\n",
       "      <td>303.592072</td>\n",
       "    </tr>\n",
       "    <tr>\n",
       "      <th>2012-05-24</th>\n",
       "      <td>33.029999</td>\n",
       "      <td>215.240005</td>\n",
       "      <td>17.446974</td>\n",
       "      <td>10.038571</td>\n",
       "      <td>300.702881</td>\n",
       "    </tr>\n",
       "  </tbody>\n",
       "</table>\n",
       "</div>"
      ],
      "text/plain": [
       "                   FB        AMZN       AAPL       NFLX        GOOG\n",
       "Date                                                               \n",
       "2012-05-18  38.230000  213.850006  16.368652   9.994286  299.078979\n",
       "2012-05-21  34.029999  218.110001  17.322281  10.248571  305.908386\n",
       "2012-05-22  31.000000  215.330002  17.189274   9.672857  299.278229\n",
       "2012-05-23  32.000000  217.279999  17.608683  10.272857  303.592072\n",
       "2012-05-24  33.029999  215.240005  17.446974  10.038571  300.702881"
      ]
     },
     "execution_count": 76,
     "metadata": {},
     "output_type": "execute_result"
    }
   ],
   "source": [
    "# initial data set\n",
    "pf_data.head()"
   ]
  },
  {
   "cell_type": "markdown",
   "metadata": {},
   "source": [
    "The normalized value for each stock after the base date/time is the percent of the base price expressed as a whole number. Here, 100 times actual price (any given date) divided by actual base price (initail date). We indiate initail date with iloc[0]. This indicator shows the percentage move in price relative to some fixed starting point (\"Normalized price\" 2015).\n",
    "\n",
    "To illustrate, if we want to calculate the normalized price of Facebook(\"FB\") for 5th day, we will devide 5th day (2012-05-18) price which is 33.029999 by base price (2012-05-24) of 38.230000 times 100."
   ]
  },
  {
   "cell_type": "code",
   "execution_count": 21,
   "metadata": {},
   "outputs": [
    {
     "data": {
      "text/html": [
       "<div>\n",
       "<style scoped>\n",
       "    .dataframe tbody tr th:only-of-type {\n",
       "        vertical-align: middle;\n",
       "    }\n",
       "\n",
       "    .dataframe tbody tr th {\n",
       "        vertical-align: top;\n",
       "    }\n",
       "\n",
       "    .dataframe thead th {\n",
       "        text-align: right;\n",
       "    }\n",
       "</style>\n",
       "<table border=\"1\" class=\"dataframe\">\n",
       "  <thead>\n",
       "    <tr style=\"text-align: right;\">\n",
       "      <th></th>\n",
       "      <th>FB</th>\n",
       "      <th>AMZN</th>\n",
       "      <th>AAPL</th>\n",
       "      <th>NFLX</th>\n",
       "      <th>GOOG</th>\n",
       "    </tr>\n",
       "    <tr>\n",
       "      <th>Date</th>\n",
       "      <th></th>\n",
       "      <th></th>\n",
       "      <th></th>\n",
       "      <th></th>\n",
       "      <th></th>\n",
       "    </tr>\n",
       "  </thead>\n",
       "  <tbody>\n",
       "    <tr>\n",
       "      <th>2012-05-18</th>\n",
       "      <td>100.000000</td>\n",
       "      <td>100.000000</td>\n",
       "      <td>100.000000</td>\n",
       "      <td>100.000000</td>\n",
       "      <td>100.000000</td>\n",
       "    </tr>\n",
       "    <tr>\n",
       "      <th>2012-05-21</th>\n",
       "      <td>89.013861</td>\n",
       "      <td>101.992048</td>\n",
       "      <td>105.825944</td>\n",
       "      <td>102.544312</td>\n",
       "      <td>102.283479</td>\n",
       "    </tr>\n",
       "    <tr>\n",
       "      <th>2012-05-22</th>\n",
       "      <td>81.088152</td>\n",
       "      <td>100.692072</td>\n",
       "      <td>105.013372</td>\n",
       "      <td>96.783879</td>\n",
       "      <td>100.066621</td>\n",
       "    </tr>\n",
       "    <tr>\n",
       "      <th>2012-05-23</th>\n",
       "      <td>83.703898</td>\n",
       "      <td>101.603925</td>\n",
       "      <td>107.575641</td>\n",
       "      <td>102.787304</td>\n",
       "      <td>101.508997</td>\n",
       "    </tr>\n",
       "    <tr>\n",
       "      <th>2012-05-24</th>\n",
       "      <td>86.398115</td>\n",
       "      <td>100.649988</td>\n",
       "      <td>106.587723</td>\n",
       "      <td>100.443111</td>\n",
       "      <td>100.542967</td>\n",
       "    </tr>\n",
       "  </tbody>\n",
       "</table>\n",
       "</div>"
      ],
      "text/plain": [
       "                    FB        AMZN        AAPL        NFLX        GOOG\n",
       "Date                                                                  \n",
       "2012-05-18  100.000000  100.000000  100.000000  100.000000  100.000000\n",
       "2012-05-21   89.013861  101.992048  105.825944  102.544312  102.283479\n",
       "2012-05-22   81.088152  100.692072  105.013372   96.783879  100.066621\n",
       "2012-05-23   83.703898  101.603925  107.575641  102.787304  101.508997\n",
       "2012-05-24   86.398115  100.649988  106.587723  100.443111  100.542967"
      ]
     },
     "execution_count": 21,
     "metadata": {},
     "output_type": "execute_result"
    }
   ],
   "source": [
    "normalized_price.head()"
   ]
  },
  {
   "cell_type": "code",
   "execution_count": 18,
   "metadata": {},
   "outputs": [
    {
     "data": {
      "image/png": "[encoded data removed]",
      "text/plain": [
       "<Figure size 936x360 with 1 Axes>"
      ]
     },
     "metadata": {
      "needs_background": "light"
     },
     "output_type": "display_data"
    }
   ],
   "source": [
    "# Normalizing stock prices\n",
    "normalized_price = pf_data / pf_data.iloc[0] * 100\n",
    "normalized_price.plot(figsize=(13,5));"
   ]
  },
  {
   "cell_type": "markdown",
   "metadata": {},
   "source": [
    "### Simple Returns\n",
    "\n",
    "The simple return of a portfolio is the weighted sum of the simple returns of the constituents of the portfolio. If simple returns are used than the portfolio return is the weighted average of assets in that portfolio. So one of the advantages of simple return is that it can be used where portfolios are formed and portfolio returns have to be calculated because of its asset-additive property.\n",
    "\n",
    "$ Return = (\\text{Ending Price} - \\text{Starting Price}) / \\text{Starting Price}$\n",
    "\n",
    "Please note that, we will use simple returns for calculating FAANG portfolio.\n",
    "\n",
    "### Log Returns\n",
    "\n",
    "The log return for a time period is the sum of the log returns of partitions of the time period. For example, the log return for a year is the sum of the log returns of the days within the year. Log returns are time-additive, not asset-additive. The weighted average of log returns of individual stocks is not equal to the portfolio return. In fact, log returns are not a linear function of asset weights.\n",
    "\n",
    "$ Return = log(\\text{Ending Price} - \\text{Starting Price})$"
   ]
  },
  {
   "cell_type": "code",
   "execution_count": 27,
   "metadata": {},
   "outputs": [
    {
     "data": {
      "text/html": [
       "<div>\n",
       "<style scoped>\n",
       "    .dataframe tbody tr th:only-of-type {\n",
       "        vertical-align: middle;\n",
       "    }\n",
       "\n",
       "    .dataframe tbody tr th {\n",
       "        vertical-align: top;\n",
       "    }\n",
       "\n",
       "    .dataframe thead th {\n",
       "        text-align: right;\n",
       "    }\n",
       "</style>\n",
       "<table border=\"1\" class=\"dataframe\">\n",
       "  <thead>\n",
       "    <tr style=\"text-align: right;\">\n",
       "      <th></th>\n",
       "      <th>FB</th>\n",
       "      <th>AMZN</th>\n",
       "      <th>AAPL</th>\n",
       "      <th>NFLX</th>\n",
       "      <th>GOOG</th>\n",
       "    </tr>\n",
       "    <tr>\n",
       "      <th>Date</th>\n",
       "      <th></th>\n",
       "      <th></th>\n",
       "      <th></th>\n",
       "      <th></th>\n",
       "      <th></th>\n",
       "    </tr>\n",
       "  </thead>\n",
       "  <tbody>\n",
       "    <tr>\n",
       "      <th>2020-10-12</th>\n",
       "      <td>0.041842</td>\n",
       "      <td>0.046454</td>\n",
       "      <td>0.061585</td>\n",
       "      <td>0.000686</td>\n",
       "      <td>0.034973</td>\n",
       "    </tr>\n",
       "    <tr>\n",
       "      <th>2020-10-13</th>\n",
       "      <td>0.001413</td>\n",
       "      <td>0.000203</td>\n",
       "      <td>-0.026886</td>\n",
       "      <td>0.026110</td>\n",
       "      <td>0.001611</td>\n",
       "    </tr>\n",
       "    <tr>\n",
       "      <th>2020-10-14</th>\n",
       "      <td>-0.015768</td>\n",
       "      <td>-0.023482</td>\n",
       "      <td>0.000743</td>\n",
       "      <td>-0.023076</td>\n",
       "      <td>-0.002293</td>\n",
       "    </tr>\n",
       "    <tr>\n",
       "      <th>2020-10-15</th>\n",
       "      <td>-0.018941</td>\n",
       "      <td>-0.007478</td>\n",
       "      <td>-0.003969</td>\n",
       "      <td>0.000905</td>\n",
       "      <td>-0.005724</td>\n",
       "    </tr>\n",
       "    <tr>\n",
       "      <th>2020-10-16</th>\n",
       "      <td>-0.002966</td>\n",
       "      <td>-0.019948</td>\n",
       "      <td>-0.014099</td>\n",
       "      <td>-0.020789</td>\n",
       "      <td>0.008863</td>\n",
       "    </tr>\n",
       "  </tbody>\n",
       "</table>\n",
       "</div>"
      ],
      "text/plain": [
       "                  FB      AMZN      AAPL      NFLX      GOOG\n",
       "Date                                                        \n",
       "2020-10-12  0.041842  0.046454  0.061585  0.000686  0.034973\n",
       "2020-10-13  0.001413  0.000203 -0.026886  0.026110  0.001611\n",
       "2020-10-14 -0.015768 -0.023482  0.000743 -0.023076 -0.002293\n",
       "2020-10-15 -0.018941 -0.007478 -0.003969  0.000905 -0.005724\n",
       "2020-10-16 -0.002966 -0.019948 -0.014099 -0.020789  0.008863"
      ]
     },
     "execution_count": 27,
     "metadata": {},
     "output_type": "execute_result"
    }
   ],
   "source": [
    "# Calculating log returns just for the record\n",
    "log_returns = np.log(pf_data/pf_data.shift(1))\n",
    "log_returns.tail()"
   ]
  },
  {
   "cell_type": "code",
   "execution_count": 28,
   "metadata": {
    "scrolled": true
   },
   "outputs": [
    {
     "data": {
      "text/html": [
       "<div>\n",
       "<style scoped>\n",
       "    .dataframe tbody tr th:only-of-type {\n",
       "        vertical-align: middle;\n",
       "    }\n",
       "\n",
       "    .dataframe tbody tr th {\n",
       "        vertical-align: top;\n",
       "    }\n",
       "\n",
       "    .dataframe thead th {\n",
       "        text-align: right;\n",
       "    }\n",
       "</style>\n",
       "<table border=\"1\" class=\"dataframe\">\n",
       "  <thead>\n",
       "    <tr style=\"text-align: right;\">\n",
       "      <th></th>\n",
       "      <th>FB</th>\n",
       "      <th>AMZN</th>\n",
       "      <th>AAPL</th>\n",
       "      <th>NFLX</th>\n",
       "      <th>GOOG</th>\n",
       "    </tr>\n",
       "    <tr>\n",
       "      <th>Date</th>\n",
       "      <th></th>\n",
       "      <th></th>\n",
       "      <th></th>\n",
       "      <th></th>\n",
       "      <th></th>\n",
       "    </tr>\n",
       "  </thead>\n",
       "  <tbody>\n",
       "    <tr>\n",
       "      <th>2012-05-18</th>\n",
       "      <td>NaN</td>\n",
       "      <td>NaN</td>\n",
       "      <td>NaN</td>\n",
       "      <td>NaN</td>\n",
       "      <td>NaN</td>\n",
       "    </tr>\n",
       "    <tr>\n",
       "      <th>2012-05-21</th>\n",
       "      <td>-0.109861</td>\n",
       "      <td>0.019920</td>\n",
       "      <td>0.058259</td>\n",
       "      <td>0.025443</td>\n",
       "      <td>0.022835</td>\n",
       "    </tr>\n",
       "    <tr>\n",
       "      <th>2012-05-22</th>\n",
       "      <td>-0.089039</td>\n",
       "      <td>-0.012746</td>\n",
       "      <td>-0.007678</td>\n",
       "      <td>-0.056175</td>\n",
       "      <td>-0.021674</td>\n",
       "    </tr>\n",
       "    <tr>\n",
       "      <th>2012-05-23</th>\n",
       "      <td>0.032258</td>\n",
       "      <td>0.009056</td>\n",
       "      <td>0.024399</td>\n",
       "      <td>0.062029</td>\n",
       "      <td>0.014414</td>\n",
       "    </tr>\n",
       "    <tr>\n",
       "      <th>2012-05-24</th>\n",
       "      <td>0.032187</td>\n",
       "      <td>-0.009389</td>\n",
       "      <td>-0.009183</td>\n",
       "      <td>-0.022806</td>\n",
       "      <td>-0.009517</td>\n",
       "    </tr>\n",
       "  </tbody>\n",
       "</table>\n",
       "</div>"
      ],
      "text/plain": [
       "                  FB      AMZN      AAPL      NFLX      GOOG\n",
       "Date                                                        \n",
       "2012-05-18       NaN       NaN       NaN       NaN       NaN\n",
       "2012-05-21 -0.109861  0.019920  0.058259  0.025443  0.022835\n",
       "2012-05-22 -0.089039 -0.012746 -0.007678 -0.056175 -0.021674\n",
       "2012-05-23  0.032258  0.009056  0.024399  0.062029  0.014414\n",
       "2012-05-24  0.032187 -0.009389 -0.009183 -0.022806 -0.009517"
      ]
     },
     "execution_count": 28,
     "metadata": {},
     "output_type": "execute_result"
    }
   ],
   "source": [
    "# Calculating simple returns of FAANG portfolio\n",
    "simple_returns = (pf_data / pf_data.shift(1)) - 1\n",
    "simple_returns.head()"
   ]
  },
  {
   "cell_type": "code",
   "execution_count": 29,
   "metadata": {},
   "outputs": [
    {
     "data": {
      "image/png": "[encoded data removed]",
      "text/plain": [
       "<Figure size 864x432 with 6 Axes>"
      ]
     },
     "metadata": {
      "needs_background": "light"
     },
     "output_type": "display_data"
    }
   ],
   "source": [
    "simple_returns.hist(bins=100, figsize=(12,6))\n",
    "plt.tight_layout()"
   ]
  },
  {
   "cell_type": "code",
   "execution_count": 30,
   "metadata": {},
   "outputs": [
    {
     "data": {
      "text/plain": [
       "FB      0.297669\n",
       "AMZN    0.367877\n",
       "AAPL    0.274847\n",
       "NFLX    0.580942\n",
       "GOOG    0.227767\n",
       "dtype: float64"
      ]
     },
     "execution_count": 30,
     "metadata": {},
     "output_type": "execute_result"
    }
   ],
   "source": [
    "# Calculating annual simple return from daily simple returns of FAANG portfolio\n",
    "annual_return = simple_returns.mean() * 250\n",
    "annual_return"
   ]
  },
  {
   "cell_type": "code",
   "execution_count": 31,
   "metadata": {},
   "outputs": [
    {
     "data": {
      "text/html": [
       "<div>\n",
       "<style scoped>\n",
       "    .dataframe tbody tr th:only-of-type {\n",
       "        vertical-align: middle;\n",
       "    }\n",
       "\n",
       "    .dataframe tbody tr th {\n",
       "        vertical-align: top;\n",
       "    }\n",
       "\n",
       "    .dataframe thead th {\n",
       "        text-align: right;\n",
       "    }\n",
       "</style>\n",
       "<table border=\"1\" class=\"dataframe\">\n",
       "  <thead>\n",
       "    <tr style=\"text-align: right;\">\n",
       "      <th></th>\n",
       "      <th>FB</th>\n",
       "      <th>AMZN</th>\n",
       "      <th>AAPL</th>\n",
       "      <th>NFLX</th>\n",
       "      <th>GOOG</th>\n",
       "    </tr>\n",
       "  </thead>\n",
       "  <tbody>\n",
       "    <tr>\n",
       "      <th>FB</th>\n",
       "      <td>0.138637</td>\n",
       "      <td>0.049843</td>\n",
       "      <td>0.040729</td>\n",
       "      <td>0.050572</td>\n",
       "      <td>0.046172</td>\n",
       "    </tr>\n",
       "    <tr>\n",
       "      <th>AMZN</th>\n",
       "      <td>0.049843</td>\n",
       "      <td>0.091528</td>\n",
       "      <td>0.038020</td>\n",
       "      <td>0.062452</td>\n",
       "      <td>0.046188</td>\n",
       "    </tr>\n",
       "    <tr>\n",
       "      <th>AAPL</th>\n",
       "      <td>0.040729</td>\n",
       "      <td>0.038020</td>\n",
       "      <td>0.080710</td>\n",
       "      <td>0.034498</td>\n",
       "      <td>0.037433</td>\n",
       "    </tr>\n",
       "    <tr>\n",
       "      <th>NFLX</th>\n",
       "      <td>0.050572</td>\n",
       "      <td>0.062452</td>\n",
       "      <td>0.034498</td>\n",
       "      <td>0.228805</td>\n",
       "      <td>0.048302</td>\n",
       "    </tr>\n",
       "    <tr>\n",
       "      <th>GOOG</th>\n",
       "      <td>0.046172</td>\n",
       "      <td>0.046188</td>\n",
       "      <td>0.037433</td>\n",
       "      <td>0.048302</td>\n",
       "      <td>0.063749</td>\n",
       "    </tr>\n",
       "  </tbody>\n",
       "</table>\n",
       "</div>"
      ],
      "text/plain": [
       "            FB      AMZN      AAPL      NFLX      GOOG\n",
       "FB    0.138637  0.049843  0.040729  0.050572  0.046172\n",
       "AMZN  0.049843  0.091528  0.038020  0.062452  0.046188\n",
       "AAPL  0.040729  0.038020  0.080710  0.034498  0.037433\n",
       "NFLX  0.050572  0.062452  0.034498  0.228805  0.048302\n",
       "GOOG  0.046172  0.046188  0.037433  0.048302  0.063749"
      ]
     },
     "execution_count": 31,
     "metadata": {},
     "output_type": "execute_result"
    }
   ],
   "source": [
    "# Calculating annual covariance from daily simple returns of FAANG portfolio\n",
    "simple_returns.cov() * 250 # assuming 250 market-days"
   ]
  },
  {
   "cell_type": "code",
   "execution_count": 32,
   "metadata": {},
   "outputs": [
    {
     "data": {
      "text/html": [
       "<div>\n",
       "<style scoped>\n",
       "    .dataframe tbody tr th:only-of-type {\n",
       "        vertical-align: middle;\n",
       "    }\n",
       "\n",
       "    .dataframe tbody tr th {\n",
       "        vertical-align: top;\n",
       "    }\n",
       "\n",
       "    .dataframe thead th {\n",
       "        text-align: right;\n",
       "    }\n",
       "</style>\n",
       "<table border=\"1\" class=\"dataframe\">\n",
       "  <thead>\n",
       "    <tr style=\"text-align: right;\">\n",
       "      <th></th>\n",
       "      <th>FB</th>\n",
       "      <th>AMZN</th>\n",
       "      <th>AAPL</th>\n",
       "      <th>NFLX</th>\n",
       "      <th>GOOG</th>\n",
       "    </tr>\n",
       "  </thead>\n",
       "  <tbody>\n",
       "    <tr>\n",
       "      <th>FB</th>\n",
       "      <td>1.000000</td>\n",
       "      <td>0.442475</td>\n",
       "      <td>0.385040</td>\n",
       "      <td>0.283947</td>\n",
       "      <td>0.491131</td>\n",
       "    </tr>\n",
       "    <tr>\n",
       "      <th>AMZN</th>\n",
       "      <td>0.442475</td>\n",
       "      <td>1.000000</td>\n",
       "      <td>0.442357</td>\n",
       "      <td>0.431555</td>\n",
       "      <td>0.604662</td>\n",
       "    </tr>\n",
       "    <tr>\n",
       "      <th>AAPL</th>\n",
       "      <td>0.385040</td>\n",
       "      <td>0.442357</td>\n",
       "      <td>1.000000</td>\n",
       "      <td>0.253862</td>\n",
       "      <td>0.521862</td>\n",
       "    </tr>\n",
       "    <tr>\n",
       "      <th>NFLX</th>\n",
       "      <td>0.283947</td>\n",
       "      <td>0.431555</td>\n",
       "      <td>0.253862</td>\n",
       "      <td>1.000000</td>\n",
       "      <td>0.399935</td>\n",
       "    </tr>\n",
       "    <tr>\n",
       "      <th>GOOG</th>\n",
       "      <td>0.491131</td>\n",
       "      <td>0.604662</td>\n",
       "      <td>0.521862</td>\n",
       "      <td>0.399935</td>\n",
       "      <td>1.000000</td>\n",
       "    </tr>\n",
       "  </tbody>\n",
       "</table>\n",
       "</div>"
      ],
      "text/plain": [
       "            FB      AMZN      AAPL      NFLX      GOOG\n",
       "FB    1.000000  0.442475  0.385040  0.283947  0.491131\n",
       "AMZN  0.442475  1.000000  0.442357  0.431555  0.604662\n",
       "AAPL  0.385040  0.442357  1.000000  0.253862  0.521862\n",
       "NFLX  0.283947  0.431555  0.253862  1.000000  0.399935\n",
       "GOOG  0.491131  0.604662  0.521862  0.399935  1.000000"
      ]
     },
     "execution_count": 32,
     "metadata": {},
     "output_type": "execute_result"
    }
   ],
   "source": [
    "simple_returns.corr()"
   ]
  },
  {
   "cell_type": "code",
   "execution_count": 33,
   "metadata": {},
   "outputs": [
    {
     "data": {
      "text/plain": [
       "5"
      ]
     },
     "execution_count": 33,
     "metadata": {},
     "output_type": "execute_result"
    }
   ],
   "source": [
    "num_assets = len(assets)\n",
    "num_assets"
   ]
  },
  {
   "cell_type": "code",
   "execution_count": 34,
   "metadata": {},
   "outputs": [
    {
     "data": {
      "text/plain": [
       "array([0.2456221 , 0.06123907, 0.19962106, 0.22211627, 0.2714015 ])"
      ]
     },
     "execution_count": 34,
     "metadata": {},
     "output_type": "execute_result"
    }
   ],
   "source": [
    "# Generationg random weights as per number of assets in FAANG Portfolio\n",
    "weights = np.random.random(num_assets)\n",
    "weights = weights / np.sum(weights)\n",
    "# or weights /= np.sum(weights)\n",
    "weights"
   ]
  },
  {
   "cell_type": "code",
   "execution_count": 35,
   "metadata": {},
   "outputs": [
    {
     "data": {
      "text/plain": [
       "1.0"
      ]
     },
     "execution_count": 35,
     "metadata": {},
     "output_type": "execute_result"
    }
   ],
   "source": [
    "weights[0] + weights[1] + weights[2] + weights[3] + weights[4]"
   ]
  },
  {
   "cell_type": "markdown",
   "metadata": {},
   "source": [
    "### Expected Portfolio Return\n",
    "\n",
    "Expected portfolio return is the weighted average of the expected return of each of its stocks. The basic expected return formula involves multiplying each asset's weight in the portfolio by its expected return, then adding all those figures together.\n",
    "\n",
    "$ \\text{Expected  Portfolio  Return} = \\sum_{i=1}^{n}w_i \\cdot r_i $"
   ]
  },
  {
   "cell_type": "code",
   "execution_count": 36,
   "metadata": {},
   "outputs": [
    {
     "data": {
      "text/plain": [
       "0.3413610273822441"
      ]
     },
     "execution_count": 36,
     "metadata": {},
     "output_type": "execute_result"
    }
   ],
   "source": [
    "# Expected Portfolio Return\n",
    "annual_pfolio_retrun = np.sum(weights*simple_returns.mean()) * 250\n",
    "annual_pfolio_retrun"
   ]
  },
  {
   "cell_type": "markdown",
   "metadata": {},
   "source": [
    "### Expected Portfolio Variance\n",
    "\n",
    "Portfolio variance is a measurement of risk, of how the aggregate actual returns of a set of securities making up a portfolio fluctuate over time. This portfolio variance statistic is calculated using the standard deviations of each security in the portfolio as well as the correlations of each security pair in the portfolio. Our target is to minimize expeted portfolio variance while maximizing portfolio returns.\n",
    "\n",
    "To calculate the portfolio variance of securities in a portfolio, multiply the squared weight of each security by the corresponding variance of the security and add two multiplied by the weighted average of the securities multiplied by the covariance between the securities.\n",
    "\n",
    "$ \\text{Expected Portfolio Variance} = \\sum_{i=1}^{n}(w_i^2)Var(r_i) + 2 \\cdot \\sum_{i=1}^{n}\\sum_{j=1}^{n}(w_i)(w_j)Cov(r_i,r_j) $\n",
    "\n",
    "We will use following notation for matrix calculation, $ (w.V)^2 = w^TV.w$\n",
    "\n",
    "Something like:\n",
    "\n",
    "$ (w.V)^2 = [w_1 \\dots w_n]\n",
    "\\begin{bmatrix} \n",
    "\\sigma_{1}^2 & \\sigma_{1,2} \\dots \\sigma_{1,n}\\\\\n",
    "\\sigma_{2,1} & \\sigma_{2}^2 \\dots \\sigma_{2,n}\\\\\n",
    "\\vdots&\\vdots\\ddots\\\\\n",
    "\\sigma_{n,1} & \\sigma_{n,2} \\dots \\sigma_{n}^2\\\\\n",
    "\\end{bmatrix} \\begin{bmatrix} w_1 \\\\\\vdots\\\\ w_n\\end{bmatrix} $\n"
   ]
  },
  {
   "cell_type": "code",
   "execution_count": 37,
   "metadata": {},
   "outputs": [
    {
     "data": {
      "text/plain": [
       "0.06217730814116325"
      ]
     },
     "execution_count": 37,
     "metadata": {},
     "output_type": "execute_result"
    }
   ],
   "source": [
    "# Expected Portfolio Variance\n",
    "\n",
    "# Calculating annual portfolio variance\n",
    "annual_pfolio_variance = np.dot(weights.T, np.dot(simple_returns.cov()*250,weights))\n",
    "annual_pfolio_variance"
   ]
  },
  {
   "cell_type": "code",
   "execution_count": 38,
   "metadata": {},
   "outputs": [
    {
     "data": {
      "text/plain": [
       "0.24935378108455314"
      ]
     },
     "execution_count": 38,
     "metadata": {},
     "output_type": "execute_result"
    }
   ],
   "source": [
    "np.sqrt(np.dot(weights.T, np.dot(simple_returns.cov()*250, weights)))"
   ]
  },
  {
   "cell_type": "code",
   "execution_count": 39,
   "metadata": {},
   "outputs": [
    {
     "data": {
      "text/plain": [
       "0.24935378108455314"
      ]
     },
     "execution_count": 39,
     "metadata": {},
     "output_type": "execute_result"
    }
   ],
   "source": [
    "# Calculating annual portfolio standard deviation or volatility\n",
    "annual_pfolio_volatility = np.sqrt(np.dot(weights.T, np.dot(simple_returns.cov()*250, weights)))\n",
    "annual_pfolio_volatility"
   ]
  },
  {
   "cell_type": "code",
   "execution_count": 40,
   "metadata": {},
   "outputs": [],
   "source": [
    "# creating empty arrays\n",
    "pfolio_returns = []\n",
    "pfolio_volatilities = []\n",
    "\n",
    "# Creating loop for appending  portfolio returns and volatilities in arrays\n",
    "for x in range (1000):\n",
    "    weights = np.random.random(num_assets)\n",
    "    weights /= np.sum(weights)\n",
    "    pfolio_returns.append(np.sum(weights * simple_returns.mean()) * 250)\n",
    "    pfolio_volatilities.append(np.sqrt(np.dot(weights.T,np.dot(simple_returns.cov() * 250, weights))))\n",
    "    \n",
    "pfolio_returns = np.array(pfolio_returns)\n",
    "pfolio_volatilities = np.array(pfolio_volatilities)"
   ]
  },
  {
   "cell_type": "code",
   "execution_count": 41,
   "metadata": {},
   "outputs": [],
   "source": [
    "# Converting portfolio returns and portfolio volatilities arrays to a DataFrame\n",
    "portfolios = pd.DataFrame({'Return': pfolio_returns, 'Volatility': pfolio_volatilities})"
   ]
  },
  {
   "cell_type": "code",
   "execution_count": 42,
   "metadata": {},
   "outputs": [
    {
     "data": {
      "text/html": [
       "<div>\n",
       "<style scoped>\n",
       "    .dataframe tbody tr th:only-of-type {\n",
       "        vertical-align: middle;\n",
       "    }\n",
       "\n",
       "    .dataframe tbody tr th {\n",
       "        vertical-align: top;\n",
       "    }\n",
       "\n",
       "    .dataframe thead th {\n",
       "        text-align: right;\n",
       "    }\n",
       "</style>\n",
       "<table border=\"1\" class=\"dataframe\">\n",
       "  <thead>\n",
       "    <tr style=\"text-align: right;\">\n",
       "      <th></th>\n",
       "      <th>Return</th>\n",
       "      <th>Volatility</th>\n",
       "    </tr>\n",
       "  </thead>\n",
       "  <tbody>\n",
       "    <tr>\n",
       "      <th>995</th>\n",
       "      <td>0.340330</td>\n",
       "      <td>0.237443</td>\n",
       "    </tr>\n",
       "    <tr>\n",
       "      <th>996</th>\n",
       "      <td>0.400187</td>\n",
       "      <td>0.278883</td>\n",
       "    </tr>\n",
       "    <tr>\n",
       "      <th>997</th>\n",
       "      <td>0.330155</td>\n",
       "      <td>0.253871</td>\n",
       "    </tr>\n",
       "    <tr>\n",
       "      <th>998</th>\n",
       "      <td>0.324525</td>\n",
       "      <td>0.235160</td>\n",
       "    </tr>\n",
       "    <tr>\n",
       "      <th>999</th>\n",
       "      <td>0.339046</td>\n",
       "      <td>0.245086</td>\n",
       "    </tr>\n",
       "  </tbody>\n",
       "</table>\n",
       "</div>"
      ],
      "text/plain": [
       "       Return  Volatility\n",
       "995  0.340330    0.237443\n",
       "996  0.400187    0.278883\n",
       "997  0.330155    0.253871\n",
       "998  0.324525    0.235160\n",
       "999  0.339046    0.245086"
      ]
     },
     "execution_count": 42,
     "metadata": {},
     "output_type": "execute_result"
    }
   ],
   "source": [
    "portfolios.tail()"
   ]
  },
  {
   "cell_type": "markdown",
   "metadata": {},
   "source": [
    "## Efficient Frontier\n",
    "The efficient frontier is the set of optimal portfolios that offer the highest expected return for a defined level of risk or the lowest risk for a given level of expected return. Portfolios that lie below the efficient frontier are sub-optimal because they do not provide enough return for the level of risk."
   ]
  },
  {
   "cell_type": "code",
   "execution_count": 99,
   "metadata": {},
   "outputs": [
    {
     "data": {
      "image/png": "[encoded data removed]",
      "text/plain": [
       "<Figure size 720x432 with 1 Axes>"
      ]
     },
     "metadata": {
      "needs_background": "light"
     },
     "output_type": "display_data"
    }
   ],
   "source": [
    "# Efficient frontier\n",
    "\n",
    "# Ploting Efficient Frontier of FAANG portfolio\n",
    "plt.figure(figsize=(10, 6))\n",
    "plt.scatter(x=portfolios['Volatility'], y=portfolios['Return'], cmap='Spectral')\n",
    "plt.xlabel('Expected Volatility')\n",
    "plt.ylabel('Expected Return')\n",
    "plt.title('Efficient Frontier of FAANG Portfolio')\n",
    "plt.scatter(0.24, 0.35, marker='^',color='r', s=200)\n",
    "plt.scatter(0.225, 0.29, marker='<',color='g', s=200)\n",
    "plt.show()"
   ]
  },
  {
   "cell_type": "markdown",
   "metadata": {},
   "source": [
    "## Sharpe Ratio\n",
    "\n",
    "The Sharpe ratio was developed by Nobel laureate William F. Sharpe and is used to help investors understand the return of an investment compared to its risk. The ratio is the average return earned in excess of the risk-free rate per unit of volatility or total risk. \n",
    "\n",
    "$$ Sharpe Ratio = \\frac{r_p - r_f}{ \\sigma_p}$$\n",
    "\n",
    "Sharpe ratio = (Mean portfolio return − Risk-free rate)/Standard deviation of portfolio return\n",
    "\n",
    "Annualized Sharpe Ratio = K-value * SR\n",
    "\n",
    "K-values for various sampling rates:\n",
    "\n",
    "* Daily = sqrt(252) \n",
    "* Weekly = sqrt(52)\n",
    "* Monthly = sqrt(12)"
   ]
  },
  {
   "cell_type": "code",
   "execution_count": 95,
   "metadata": {},
   "outputs": [
    {
     "data": {
      "text/plain": [
       "1.3856353398897123"
      ]
     },
     "execution_count": 95,
     "metadata": {},
     "output_type": "execute_result"
    }
   ],
   "source": [
    "# Calculation Sharpe Ratio\n",
    "# Considering risk free rate (10 Year Treasury Rate of October 17, 2020) is 0.76%. \n",
    "# For more info, refer to 'https://ycharts.com/indicators/10_year_treasury_rate'\n",
    "\n",
    "risk_free_rate = 0.0082\n",
    "sharpe_ratio = (annual_pfolio_retrun - risk_free_rate) / annual_pfolio_volatility\n",
    "sharpe_ratio"
   ]
  },
  {
   "cell_type": "markdown",
   "metadata": {},
   "source": [
    "It is possible to draw an upward sloping curve to connect all of the most efficient portfolios. This curve is called **the efficient frontier**. Investing in a portfolio underneath the curve is not desirable because it does not maximize returns for a given level of risk."
   ]
  },
  {
   "cell_type": "markdown",
   "metadata": {},
   "source": [
    "![](https://raw.githubusercontent.com/ceastIU/Quantitative-Finance-Algorithmic-Trading-in-Python/2c72b82577b3681b7b77f04ce55589e2082854c0/jupyter/images/efficientfrontier.png)"
   ]
  },
  {
   "cell_type": "markdown",
   "metadata": {},
   "source": [
    "**Benefits of MPT**\n",
    "\n",
    "MPT is a useful tool for investors trying to build **diversified** portfolios. In fact, the growth of exchange traded funds (ETFs) made MPT more relevant by giving investors **easier access to different asset classes**. Stock investors can use MPT to **reduce risk by putting a small portion of their portfolios in government bond ETFs**. The variance of the portfolio will be significantly lower because government bonds have a negative correlation with stocks. \n",
    "MPT can be used to **reduce the volatility of a U.S. Treasury portfolio by putting 10% in a small-cap value index fund or ETF** to get through the losses from inflation . \n",
    "\n",
    "**Critisism of MPT**\n",
    "\n",
    "Perhaps the most serious criticism of MPT is that it evaluates portfolios based on variance rather than downside risk. Two portfolios that have the same level of variance and returns are considered equally desirable under modern portfolio theory. One portfolio may have that variance because of frequent small losses. In contrast, the other could have that variance because of rare spectacular declines. Most investors would prefer frequent small losses, which would be easier to endure. Post-modern portfolio theory (PMPT) attempts to improve on modern portfolio theory by minimizing downside risk instead of variance. "
   ]
  },
  {
   "cell_type": "markdown",
   "metadata": {},
   "source": [
    "**Sources**:\n",
    "\n",
    "0. Markowitz, H. (1952). Portfolio Selection. In: Journal of Finance 7.1, S. 77–91.\n",
    "1. [Investopedia. Modern Portfolio Theory (MPT)](https://www.investopedia.com/terms/m/modernportfoliotheory.asp)\n",
    "2. [Investopedia. Example of Applying Modern Portfolio Theory (MPS)](https://www.investopedia.com/articles/company-insights/083016/example-applying-modern-portfolio-theory-mps.asp)\n",
    "3. [John M. Kulik. A Practical Application of Modern Portfolio Theory to Capital\n",
    "Allocation](http://docshare02.docshare.tips/files/10897/108973379.pdf)\n",
    "4. [JÖNKÖPING INTERNATIONAL BUSINESS SCHOOL. Practical Application of\n",
    "Modern Portfolio Theory](https://www.diva-portal.org/smash/get/diva2:4384/fulltext01.pdf)\n",
    "5. [What is Wrong with Modern Portfolio Theory](https://www.youtube.com/watch?v=PyCjybwEXpI&ab_channel=MoneyFortheRestofUs)\n",
    "\n",
    "Recommendations:\n",
    "\n",
    "[Python library investpy](https://pypi.org/project/investpy/)"
   ]
  },
  {
   "cell_type": "code",
   "execution_count": null,
   "metadata": {},
   "outputs": [],
   "source": []
  }
 ],
 "metadata": {
  "kernelspec": {
   "display_name": "Python 3",
   "language": "python",
   "name": "python3"
  },
  "language_info": {
   "codemirror_mode": {
    "name": "ipython",
    "version": 3
   },
   "file_extension": ".py",
   "mimetype": "text/x-python",
   "name": "python",
   "nbconvert_exporter": "python",
   "pygments_lexer": "ipython3",
   "version": "3.8.3"
  }
 },
 "nbformat": 4,
 "nbformat_minor": 2
}
