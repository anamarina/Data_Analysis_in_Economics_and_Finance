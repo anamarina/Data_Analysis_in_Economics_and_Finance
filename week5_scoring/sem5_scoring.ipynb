{
 "cells": [
  {
   "cell_type": "markdown",
   "metadata": {},
   "source": [
    "# <center> Credit scoring, default prediction </center>"
   ]
  },
  {
   "cell_type": "markdown",
   "metadata": {},
   "source": [
    "The problem of **credit scoring** arises in banks and different credit institutions when making decisions on issuing loans. The task is to make a decision on the basis of some information about the applicant - whether it is worth it to issue a loan, and if so, under what conditions.\n",
    "\n",
    "![](https://www.theloadedpig.com/wp-content/uploads/2020/09/Credit-Score-Meme-Personal-Finance-101-The-Loaded-Pig.jpeg)"
   ]
  },
  {
   "cell_type": "markdown",
   "metadata": {},
   "source": [
    "This time, we are going to work with a data set on default payments, demographic factors, credit data, history of payment, and bill statements of credit card clients in Taiwan from April 2005 to September 2005.\n",
    "\n",
    "Source: [Kaggle Data. Default of Credit Card Clients Dataset](https://www.kaggle.com/uciml/default-of-credit-card-clients-dataset)"
   ]
  },
  {
   "cell_type": "code",
   "execution_count": 1,
   "metadata": {},
   "outputs": [],
   "source": [
    "import pandas as pd\n",
    "import matplotlib.pyplot as plt\n",
    "%matplotlib inline\n",
    "import seaborn as sns"
   ]
  },
  {
   "cell_type": "code",
   "execution_count": 2,
   "metadata": {
    "scrolled": true
   },
   "outputs": [],
   "source": [
    "data = pd.read_csv('UCI_Credit_Card.csv')"
   ]
  },
  {
   "cell_type": "markdown",
   "metadata": {},
   "source": [
    "According to the description from Kaggle, here are 25 variables:\n",
    "\n",
    "* **ID**: ID of each client\n",
    "* **LIMIT_BAL**: Amount of given credit in NT dollars (includes individual and family/supplementary credit)\n",
    "* **SEX**: Gender (1=male, 2=female)\n",
    "* **EDUCATION**: (1=graduate school, 2=university, 3=high school, 4=others, 5=unknown, 6=unknown)\n",
    "* **MARRIAGE**: Marital status (1=married, 2=single, 3=others)\n",
    "* **AGE**: Age in years\n",
    "* **PAY_0**: Repayment status in September, 2005 (-1=pay duly, 1=payment delay for one month, 2=payment delay for two months, ... 8=payment delay for eight months, 9=payment delay for nine months and above)\n",
    "* **PAY_2**: Repayment status in August, 2005 (scale same as above)\n",
    "* **PAY_3**: Repayment status in July, 2005 (scale same as above)\n",
    "* **PAY_4**: Repayment status in June, 2005 (scale same as above)\n",
    "* **PAY_5**: Repayment status in May, 2005 (scale same as above)\n",
    "* **PAY_6**: Repayment status in April, 2005 (scale same as above)\n",
    "* **BILL_AMT1**: Amount of bill statement in September, 2005 (NT dollar)\n",
    "* **BILL_AMT2**: Amount of bill statement in August, 2005 (NT dollar)\n",
    "* **BILL_AMT3**: Amount of bill statement in July, 2005 (NT dollar)\n",
    "* **BILL_AMT4**: Amount of bill statement in June, 2005 (NT dollar)\n",
    "* **BILL_AMT5**: Amount of bill statement in May, 2005 (NT dollar)\n",
    "* **BILL_AMT6**: Amount of bill statement in April, 2005 (NT dollar)\n",
    "* **PAY_AMT1**: Amount of previous payment in September, 2005 (NT dollar)\n",
    "* **PAY_AMT2**: Amount of previous payment in August, 2005 (NT dollar)\n",
    "* **PAY_AMT3**: Amount of previous payment in July, 2005 (NT dollar)\n",
    "* **PAY_AMT4**: Amount of previous payment in June, 2005 (NT dollar)\n",
    "* **PAY_AMT5**: Amount of previous payment in May, 2005 (NT dollar)\n",
    "* **PAY_AMT6**: Amount of previous payment in April, 2005 (NT dollar)\n",
    "* **default.payment.next.month**: Default payment (1=yes, 0=no)"
   ]
  },
  {
   "cell_type": "markdown",
   "metadata": {},
   "source": [
    "# Part 1. Exploratory data analysis"
   ]
  },
  {
   "cell_type": "markdown",
   "metadata": {},
   "source": [
    "We see this data set for the first time, let's inspect it first. "
   ]
  },
  {
   "cell_type": "markdown",
   "metadata": {},
   "source": [
    "1. What are the types of columns in this data set? Is there any text information or it contains only numbers? "
   ]
  },
  {
   "cell_type": "code",
   "execution_count": 3,
   "metadata": {},
   "outputs": [],
   "source": [
    "# Your code here"
   ]
  },
  {
   "cell_type": "markdown",
   "metadata": {},
   "source": [
    "2. Are there any missing values?"
   ]
  },
  {
   "cell_type": "code",
   "execution_count": 4,
   "metadata": {},
   "outputs": [],
   "source": [
    "# Your code here"
   ]
  },
  {
   "cell_type": "markdown",
   "metadata": {},
   "source": [
    "2. How many clients are in this data set? Provide at least two ways to get the answer. **Tip:** 1 row = 1 client."
   ]
  },
  {
   "cell_type": "code",
   "execution_count": 5,
   "metadata": {},
   "outputs": [],
   "source": [
    "# Your code here"
   ]
  },
  {
   "cell_type": "code",
   "execution_count": 6,
   "metadata": {},
   "outputs": [],
   "source": [
    "# Your code here"
   ]
  },
  {
   "cell_type": "markdown",
   "metadata": {},
   "source": [
    "3. Is there any imbalance in the number of women and men among clients? What are the ratios? "
   ]
  },
  {
   "cell_type": "code",
   "execution_count": 7,
   "metadata": {},
   "outputs": [],
   "source": [
    "# Your code here"
   ]
  },
  {
   "cell_type": "markdown",
   "metadata": {},
   "source": [
    "Are the clients well educated?"
   ]
  },
  {
   "cell_type": "code",
   "execution_count": 8,
   "metadata": {},
   "outputs": [],
   "source": [
    "# Your code here"
   ]
  },
  {
   "cell_type": "markdown",
   "metadata": {},
   "source": [
    "Do most of them have a spouse?"
   ]
  },
  {
   "cell_type": "code",
   "execution_count": 9,
   "metadata": {},
   "outputs": [],
   "source": [
    "# Your code here"
   ]
  },
  {
   "cell_type": "markdown",
   "metadata": {},
   "source": [
    "4. Analyze the minimal and the maximal values in the column with age. According to this information, decide how many bins (categories) it is reasonable to make. "
   ]
  },
  {
   "cell_type": "code",
   "execution_count": 10,
   "metadata": {},
   "outputs": [],
   "source": [
    "# Your code here"
   ]
  },
  {
   "cell_type": "markdown",
   "metadata": {},
   "source": [
    "5. Plot a histogram using age categories. What is the most frequent bin (age range) in this data set? Most of the client are young? "
   ]
  },
  {
   "cell_type": "code",
   "execution_count": 11,
   "metadata": {},
   "outputs": [
    {
     "data": {
      "image/png": "[encoded data removed]",
      "text/plain": [
       "<Figure size 1080x360 with 1 Axes>"
      ]
     },
     "metadata": {
      "needs_background": "light"
     },
     "output_type": "display_data"
    }
   ],
   "source": [
    "data['AGE'].value_counts().plot(kind='bar', figsize=(15,5));"
   ]
  },
  {
   "cell_type": "code",
   "execution_count": 12,
   "metadata": {},
   "outputs": [
    {
     "data": {
      "image/png": "[encoded data removed]",
      "text/plain": [
       "<Figure size 432x288 with 1 Axes>"
      ]
     },
     "metadata": {
      "needs_background": "light"
     },
     "output_type": "display_data"
    }
   ],
   "source": [
    "pd.cut(data['AGE'], bins=6).value_counts().plot(kind='bar');"
   ]
  },
  {
   "cell_type": "markdown",
   "metadata": {},
   "source": [
    "6. What is the average value for the amount of credit card limit? The standard deviation? Is there anything unusual?"
   ]
  },
  {
   "cell_type": "code",
   "execution_count": 13,
   "metadata": {},
   "outputs": [],
   "source": [
    "# Your code here"
   ]
  },
  {
   "cell_type": "markdown",
   "metadata": {},
   "source": [
    "The last columns in our data set ```default.payment.next.month``` takes the value 0 for default payment ('not default'), and value 1 means 'default', the mean of 0.221 states that there are 22.1% of credit card contracts that will default next month. This will be the target value, which we need to predict for clients. "
   ]
  },
  {
   "cell_type": "code",
   "execution_count": 14,
   "metadata": {},
   "outputs": [
    {
     "data": {
      "text/plain": [
       "count    30000.000000\n",
       "mean         0.221200\n",
       "std          0.415062\n",
       "min          0.000000\n",
       "25%          0.000000\n",
       "50%          0.000000\n",
       "75%          0.000000\n",
       "max          1.000000\n",
       "Name: default.payment.next.month, dtype: float64"
      ]
     },
     "execution_count": 14,
     "metadata": {},
     "output_type": "execute_result"
    }
   ],
   "source": [
    "data['default.payment.next.month'].describe()"
   ]
  },
  {
   "cell_type": "markdown",
   "metadata": {},
   "source": [
    "Let's visualize this imbalance."
   ]
  },
  {
   "cell_type": "code",
   "execution_count": 15,
   "metadata": {},
   "outputs": [
    {
     "data": {
      "text/plain": [
       "0    23364\n",
       "1     6636\n",
       "Name: default.payment.next.month, dtype: int64"
      ]
     },
     "execution_count": 15,
     "metadata": {},
     "output_type": "execute_result"
    }
   ],
   "source": [
    "counts = data[\"default.payment.next.month\"].value_counts()\n",
    "counts"
   ]
  },
  {
   "cell_type": "code",
   "execution_count": 16,
   "metadata": {},
   "outputs": [
    {
     "data": {
      "text/html": [
       "<div>\n",
       "<style scoped>\n",
       "    .dataframe tbody tr th:only-of-type {\n",
       "        vertical-align: middle;\n",
       "    }\n",
       "\n",
       "    .dataframe tbody tr th {\n",
       "        vertical-align: top;\n",
       "    }\n",
       "\n",
       "    .dataframe thead th {\n",
       "        text-align: right;\n",
       "    }\n",
       "</style>\n",
       "<table border=\"1\" class=\"dataframe\">\n",
       "  <thead>\n",
       "    <tr style=\"text-align: right;\">\n",
       "      <th></th>\n",
       "      <th>default.payment.next.month</th>\n",
       "      <th>values</th>\n",
       "    </tr>\n",
       "  </thead>\n",
       "  <tbody>\n",
       "    <tr>\n",
       "      <th>0</th>\n",
       "      <td>0</td>\n",
       "      <td>23364</td>\n",
       "    </tr>\n",
       "    <tr>\n",
       "      <th>1</th>\n",
       "      <td>1</td>\n",
       "      <td>6636</td>\n",
       "    </tr>\n",
       "  </tbody>\n",
       "</table>\n",
       "</div>"
      ],
      "text/plain": [
       "   default.payment.next.month  values\n",
       "0                           0   23364\n",
       "1                           1    6636"
      ]
     },
     "execution_count": 16,
     "metadata": {},
     "output_type": "execute_result"
    }
   ],
   "source": [
    "pd.DataFrame({'default.payment.next.month': counts.index,'values': counts.values})"
   ]
  },
  {
   "cell_type": "code",
   "execution_count": 17,
   "metadata": {},
   "outputs": [
    {
     "data": {
      "image/png": "[encoded data removed]",
      "text/plain": [
       "<Figure size 432x288 with 1 Axes>"
      ]
     },
     "metadata": {
      "needs_background": "light"
     },
     "output_type": "display_data"
    }
   ],
   "source": [
    "df_for_graph = pd.DataFrame({'default.payment.next.month': counts.index,'values': counts.values})\n",
    "plt.title('Default payment imbalance \\n (No default = 0, Default payment = 1)')\n",
    "sns.barplot(x='default.payment.next.month', \n",
    "            y='values', \n",
    "            data=df_for_graph);"
   ]
  },
  {
   "cell_type": "markdown",
   "metadata": {},
   "source": [
    "A number of **6,636** out of **30,000** (or **22%**) of clients will default next month. The data has not a large disbalance with respect of the target value (default.payment.next.month), however, it is significant.\n",
    "\n",
    "A density plot is a representation of the distribution of a numeric variable. It uses a kernel density estimate to show the probability density function of the variable (see more). It is a smoothed version of the histogram and is used in the same concept."
   ]
  },
  {
   "cell_type": "code",
   "execution_count": 18,
   "metadata": {},
   "outputs": [
    {
     "data": {
      "image/png": "[encoded data removed]",
      "text/plain": [
       "<Figure size 864x360 with 1 Axes>"
      ]
     },
     "metadata": {
      "needs_background": "light"
     },
     "output_type": "display_data"
    }
   ],
   "source": [
    "plt.figure(figsize = (12,5))\n",
    "plt.title('Amount of credit limit - Density Plot')\n",
    "plt.ticklabel_format(style='plain', axis='both')\n",
    "sns.distplot(data['LIMIT_BAL'], kde=True, bins=100, color=\"blue\");"
   ]
  },
  {
   "cell_type": "code",
   "execution_count": 19,
   "metadata": {},
   "outputs": [
    {
     "data": {
      "text/plain": [
       "50000.0      3365\n",
       "20000.0      1976\n",
       "30000.0      1610\n",
       "80000.0      1567\n",
       "200000.0     1528\n",
       "             ... \n",
       "780000.0        2\n",
       "690000.0        1\n",
       "1000000.0       1\n",
       "760000.0        1\n",
       "327680.0        1\n",
       "Name: LIMIT_BAL, Length: 81, dtype: int64"
      ]
     },
     "execution_count": 19,
     "metadata": {},
     "output_type": "execute_result"
    }
   ],
   "source": [
    "data['LIMIT_BAL'].value_counts()"
   ]
  },
  {
   "cell_type": "markdown",
   "metadata": {},
   "source": [
    "There are 81 distinct values for amount of credit limit. Largest group of amount of credit limit is apparently for amount of 50K. "
   ]
  },
  {
   "cell_type": "code",
   "execution_count": 21,
   "metadata": {},
   "outputs": [
    {
     "data": {
      "image/png": "[encoded data removed]",
      "text/plain": [
       "<Figure size 1008x432 with 1 Axes>"
      ]
     },
     "metadata": {
      "needs_background": "light"
     },
     "output_type": "display_data"
    }
   ],
   "source": [
    "class_0 = data.loc[data['default.payment.next.month'] == 0][\"LIMIT_BAL\"]\n",
    "class_1 = data.loc[data['default.payment.next.month'] == 1][\"LIMIT_BAL\"]\n",
    "\n",
    "plt.figure(figsize = (14,6))\n",
    "plt.title('Default amount of credit limit  - grouped by Payment Next Month (Density Plot)')\n",
    "plt.ticklabel_format(style='plain', axis='both')\n",
    "sns.distplot(class_1, kde=True, bins=81, color=\"red\")\n",
    "sns.distplot(class_0, kde=True, bins=81, color=\"green\");"
   ]
  },
  {
   "cell_type": "code",
   "execution_count": 22,
   "metadata": {},
   "outputs": [
    {
     "data": {
      "text/plain": [
       "50000.0     885\n",
       "20000.0     698\n",
       "30000.0     568\n",
       "80000.0     363\n",
       "100000.0    272\n",
       "           ... \n",
       "710000.0      1\n",
       "560000.0      1\n",
       "580000.0      1\n",
       "740000.0      1\n",
       "327680.0      1\n",
       "Name: LIMIT_BAL, Length: 65, dtype: int64"
      ]
     },
     "execution_count": 22,
     "metadata": {},
     "output_type": "execute_result"
    }
   ],
   "source": [
    "class_1.value_counts()"
   ]
  },
  {
   "cell_type": "markdown",
   "metadata": {},
   "source": [
    "According to the plot, try to answer these questions:\n",
    "* Are there any credit limit amounts that are likely to result in payment delays?\n",
    "* Is it more risky to issue large credit limits?"
   ]
  },
  {
   "cell_type": "code",
   "execution_count": 24,
   "metadata": {},
   "outputs": [],
   "source": [
    "class_1_dict = dict(class_1.value_counts())\n",
    "class_0_dict = dict(class_0.value_counts())"
   ]
  },
  {
   "cell_type": "code",
   "execution_count": 25,
   "metadata": {
    "scrolled": true
   },
   "outputs": [
    {
     "data": {
      "text/plain": [
       "65"
      ]
     },
     "execution_count": 25,
     "metadata": {},
     "output_type": "execute_result"
    }
   ],
   "source": [
    "len(class_1_dict.keys())"
   ]
  },
  {
   "cell_type": "code",
   "execution_count": 26,
   "metadata": {},
   "outputs": [
    {
     "data": {
      "text/plain": [
       "80"
      ]
     },
     "execution_count": 26,
     "metadata": {},
     "output_type": "execute_result"
    }
   ],
   "source": [
    "len(class_0_dict.keys())"
   ]
  },
  {
   "cell_type": "markdown",
   "metadata": {},
   "source": [
    "There were no default payments with these credit limit amounts:"
   ]
  },
  {
   "cell_type": "code",
   "execution_count": 27,
   "metadata": {
    "scrolled": true
   },
   "outputs": [
    {
     "data": {
      "text/plain": [
       "{16000.0,\n",
       " 540000.0,\n",
       " 570000.0,\n",
       " 610000.0,\n",
       " 640000.0,\n",
       " 650000.0,\n",
       " 660000.0,\n",
       " 670000.0,\n",
       " 690000.0,\n",
       " 700000.0,\n",
       " 730000.0,\n",
       " 750000.0,\n",
       " 760000.0,\n",
       " 780000.0,\n",
       " 800000.0,\n",
       " 1000000.0}"
      ]
     },
     "execution_count": 27,
     "metadata": {},
     "output_type": "execute_result"
    }
   ],
   "source": [
    "set(class_0_dict.keys()) - set(class_1_dict.keys())"
   ]
  },
  {
   "cell_type": "markdown",
   "metadata": {},
   "source": [
    "In all cases in a data set, when this credit limit was taken, it ended with a default:"
   ]
  },
  {
   "cell_type": "code",
   "execution_count": 28,
   "metadata": {},
   "outputs": [
    {
     "data": {
      "text/plain": [
       "{327680.0}"
      ]
     },
     "execution_count": 28,
     "metadata": {},
     "output_type": "execute_result"
    }
   ],
   "source": [
    "set(class_1_dict.keys()) - set(class_0_dict.keys())"
   ]
  },
  {
   "cell_type": "markdown",
   "metadata": {},
   "source": [
    "How many cases there were?"
   ]
  },
  {
   "cell_type": "code",
   "execution_count": 29,
   "metadata": {},
   "outputs": [
    {
     "data": {
      "text/plain": [
       "1"
      ]
     },
     "execution_count": 29,
     "metadata": {},
     "output_type": "execute_result"
    }
   ],
   "source": [
    "class_1_dict[327680.0]"
   ]
  },
  {
   "cell_type": "markdown",
   "metadata": {},
   "source": [
    "Only one case! We cannot draw any general conclusions for further cases."
   ]
  },
  {
   "cell_type": "code",
   "execution_count": 30,
   "metadata": {},
   "outputs": [
    {
     "data": {
      "text/plain": [
       "{16000.0,\n",
       " 540000.0,\n",
       " 570000.0,\n",
       " 610000.0,\n",
       " 640000.0,\n",
       " 650000.0,\n",
       " 660000.0,\n",
       " 670000.0,\n",
       " 690000.0,\n",
       " 700000.0,\n",
       " 730000.0,\n",
       " 750000.0,\n",
       " 760000.0,\n",
       " 780000.0,\n",
       " 800000.0,\n",
       " 1000000.0}"
      ]
     },
     "execution_count": 30,
     "metadata": {},
     "output_type": "execute_result"
    }
   ],
   "source": [
    "set(class_0_dict.keys()) - set(class_1_dict.keys())"
   ]
  },
  {
   "cell_type": "code",
   "execution_count": 32,
   "metadata": {
    "scrolled": true
   },
   "outputs": [
    {
     "data": {
      "text/plain": [
       "[(50000.0, {'ratio': 0.35685483870967744, 'total_cases': 3365}),\n",
       " (20000.0, {'ratio': 0.5461658841940532, 'total_cases': 1976}),\n",
       " (30000.0, {'ratio': 0.54510556621881, 'total_cases': 1610}),\n",
       " (80000.0, {'ratio': 0.3014950166112957, 'total_cases': 1567}),\n",
       " (200000.0, {'ratio': 0.21462639109697934, 'total_cases': 1528}),\n",
       " (150000.0, {'ratio': 0.20260021668472372, 'total_cases': 1110}),\n",
       " (100000.0, {'ratio': 0.35051546391752575, 'total_cases': 1048}),\n",
       " (180000.0, {'ratio': 0.2148962148962149, 'total_cases': 995}),\n",
       " (360000.0, {'ratio': 0.21182943603851445, 'total_cases': 881}),\n",
       " (60000.0, {'ratio': 0.3935810810810811, 'total_cases': 825})]"
      ]
     },
     "execution_count": 32,
     "metadata": {},
     "output_type": "execute_result"
    }
   ],
   "source": [
    "ratios = {}\n",
    "only_defaults = []\n",
    "for k, v in class_0_dict.items():\n",
    "    if k in class_0_dict and k in class_1_dict:\n",
    "        ratios[k] = {'ratio': class_1_dict[k] / class_0_dict[k], 'total_cases': class_1_dict[k] + class_0_dict[k]}\n",
    "    elif k in class_1_dict and k not in class_1_dict:\n",
    "        only_defaults.append(k)\n",
    "    \n",
    "sorted(ratios.items(), key=lambda x: x[1]['total_cases'], reverse=True)[:10]"
   ]
  },
  {
   "cell_type": "markdown",
   "metadata": {},
   "source": [
    "* Compare the results with a simple ```class_*.value_counts()``` command and interpret the difference. "
   ]
  },
  {
   "cell_type": "markdown",
   "metadata": {},
   "source": [
    "## Credit limit vs. default payment"
   ]
  },
  {
   "cell_type": "code",
   "execution_count": 33,
   "metadata": {},
   "outputs": [
    {
     "data": {
      "image/png": "[encoded data removed]",
      "text/plain": [
       "<Figure size 1152x432 with 2 Axes>"
      ]
     },
     "metadata": {
      "needs_background": "light"
     },
     "output_type": "display_data"
    }
   ],
   "source": [
    "fig, (ax1, ax2) = plt.subplots(ncols=2, figsize=(16,6))\n",
    "s = sns.boxplot(ax = ax1, x=\"default.payment.next.month\", y=\"LIMIT_BAL\", \n",
    "                hue=\"default.payment.next.month\", data=data, showfliers=True)\n",
    "s = sns.boxplot(ax = ax2, x=\"default.payment.next.month\", y=\"LIMIT_BAL\", \n",
    "                hue=\"default.payment.next.month\", data=data, showfliers=False)\n",
    "plt.show();"
   ]
  },
  {
   "cell_type": "code",
   "execution_count": 34,
   "metadata": {},
   "outputs": [
    {
     "data": {
      "image/png": "[encoded data removed]",
      "text/plain": [
       "<Figure size 1152x432 with 1 Axes>"
      ]
     },
     "metadata": {
      "needs_background": "light"
     },
     "output_type": "display_data"
    }
   ],
   "source": [
    "fig, axes_params = plt.subplots(ncols=1, figsize=(16,6))\n",
    "sns.boxplot(ax=axes_params, x='AGE', y='LIMIT_BAL', hue='SEX',\n",
    "            data=data, showfliers=False);"
   ]
  },
  {
   "cell_type": "markdown",
   "metadata": {},
   "source": [
    "For both males and females, Q3, Q4 and mean values are increasing with age until around 32 years and then they are oscillating and get to a maximum of Q4 for males at age 64. Mean values are generally smaller for males than for females, with few exceptions, for example at age 39, 48, until approximately 60, where mean values for males are generally larger than for females. \n",
    "<br>How do you think, which factors can affect it? For instance, retirement age? Some other lifetime milestone?"
   ]
  },
  {
   "cell_type": "markdown",
   "metadata": {},
   "source": [
    "## Features correlation\n",
    "\n",
    "Let's check the correlation between Repayment status in April - September 2005."
   ]
  },
  {
   "cell_type": "code",
   "execution_count": 35,
   "metadata": {},
   "outputs": [
    {
     "data": {
      "image/png": "[encoded data removed]",
      "text/plain": [
       "<Figure size 432x288 with 2 Axes>"
      ]
     },
     "metadata": {
      "needs_background": "light"
     },
     "output_type": "display_data"
    }
   ],
   "source": [
    "cols = ['PAY_0','PAY_2', 'PAY_3', 'PAY_4', 'PAY_5', 'PAY_6']\n",
    "\n",
    "plt.title('Repayment status (Apr-Sept)\\nPearson correlation plot')\n",
    "corr = data[cols].corr()\n",
    "sns.heatmap(corr);"
   ]
  },
  {
   "cell_type": "markdown",
   "metadata": {},
   "source": [
    "Correlation is decreasing with distance between months. Lowest correlations are between April and September."
   ]
  },
  {
   "cell_type": "markdown",
   "metadata": {},
   "source": [
    "## Part 2. Predictive models and quality estimation"
   ]
  },
  {
   "cell_type": "markdown",
   "metadata": {},
   "source": [
    "### Step 0. Define a problem task \n",
    "\n",
    "\n",
    "[FICO® Scores](https://www.fico.com/en/products/fico-score) are used by many lenders, and often range from 300 to 850. <br> A FICO® Score of 670 or above is considered a good credit score, while a score of 800 or above is considered exceptional.\n",
    "\n",
    "![](https://lh3.googleusercontent.com/proxy/PxGoFfQNTOEV8zGBgAFbdaIedaoEf6dOndjgMPwZHYrIlceAtVfioZPfFpVHtxVtwljsBeLI5fyBs-f1mFATFhKyRARn3lYJCwck7VSO6ysGg0s_2LWqfStEfe51IDi4SDj0bLlBBziUob5V5M17KNyHUg)\n",
    "\n",
    "If we were asked to predict the credit score for a new client in the range 300 to 850, then we would need to solve the **linear regression problem**. In other words, we need to predict a specific number - the person's credit score.\n",
    "\n",
    "Another popular challenge is to predict the binary response. Examples:\n",
    "* Can the bank issue a loan to a new customer (1 - Yes, 0 - No)?\n",
    "* Will the new (or current) customer default with late payments (1 - Yes, 0 - No)?\n",
    "\n",
    "A problem task with getting a binary answer is called **logistic regression**. The two answers can be thought of as two classes (class 1 and class 0, \"yes\" and \"no\"). We will try to predict the probability of a positive class (\"yes\") for each client.\n",
    "\n",
    "Now we will try to predict a client's default (1 - default, 0 - no default). "
   ]
  },
  {
   "cell_type": "markdown",
   "metadata": {},
   "source": [
    "### Step 1. Define predictors and target values\n",
    "\n",
    "Let's define the predictor features and the target features."
   ]
  },
  {
   "cell_type": "code",
   "execution_count": 36,
   "metadata": {},
   "outputs": [],
   "source": [
    "from sklearn.model_selection import train_test_split\n",
    "from sklearn.linear_model import LogisticRegression\n",
    "from sklearn.metrics import roc_auc_score"
   ]
  },
  {
   "cell_type": "code",
   "execution_count": 38,
   "metadata": {},
   "outputs": [
    {
     "data": {
      "text/plain": [
       "Index(['ID', 'LIMIT_BAL', 'SEX', 'EDUCATION', 'MARRIAGE', 'AGE', 'PAY_0',\n",
       "       'PAY_2', 'PAY_3', 'PAY_4', 'PAY_5', 'PAY_6', 'BILL_AMT1', 'BILL_AMT2',\n",
       "       'BILL_AMT3', 'BILL_AMT4', 'BILL_AMT5', 'BILL_AMT6', 'PAY_AMT1',\n",
       "       'PAY_AMT2', 'PAY_AMT3', 'PAY_AMT4', 'PAY_AMT5', 'PAY_AMT6',\n",
       "       'default.payment.next.month'],\n",
       "      dtype='object')"
      ]
     },
     "execution_count": 38,
     "metadata": {},
     "output_type": "execute_result"
    }
   ],
   "source": [
    "data.columns"
   ]
  },
  {
   "cell_type": "code",
   "execution_count": 37,
   "metadata": {},
   "outputs": [],
   "source": [
    "target = 'default.payment.next.month'\n",
    "features = ['LIMIT_BAL', 'SEX', 'EDUCATION', 'MARRIAGE', 'AGE', \n",
    "                'PAY_0', 'PAY_2', 'PAY_3', 'PAY_4', 'PAY_5', 'PAY_6', \n",
    "                'BILL_AMT1','BILL_AMT2', 'BILL_AMT3', 'BILL_AMT4', 'BILL_AMT5', 'BILL_AMT6',\n",
    "                'PAY_AMT1', 'PAY_AMT2', 'PAY_AMT3', 'PAY_AMT4', 'PAY_AMT5', 'PAY_AMT6']"
   ]
  },
  {
   "cell_type": "code",
   "execution_count": null,
   "metadata": {},
   "outputs": [],
   "source": [
    "# alternative\n",
    "features = list(data.columns)\n",
    "features.remove(target)\n",
    "features"
   ]
  },
  {
   "cell_type": "markdown",
   "metadata": {},
   "source": [
    "### Data Cleaning\n",
    "Next comes some necessary data cleaning tasks as follows:\n",
    "* Convert text features to numeric ('female' and 'male' -> 1 and 0; 5 education levels  -> categories [1,2,3,4,5], etc) \n",
    "* For all columns with dates: convert them to Python’s datetime format\n",
    "* Drop the original features if you transformed them\n",
    "* Drop missing values\n",
    "* Drop outliers (noise)\n",
    "etc.\n",
    "\n",
    "### Feature Selection\n",
    "You don't have to select all features. You can identify the most suitable features for our binary classification problem using the Chi-squared test for categorical features and ANOVA F-statistic for numerical features. "
   ]
  },
  {
   "cell_type": "markdown",
   "metadata": {},
   "source": [
    "### Step 2. Split data in train and test set"
   ]
  },
  {
   "cell_type": "code",
   "execution_count": 39,
   "metadata": {},
   "outputs": [],
   "source": [
    "train_data, unseen_data = train_test_split(data, test_size=0.1, random_state=42, shuffle=True)"
   ]
  },
  {
   "cell_type": "code",
   "execution_count": 40,
   "metadata": {},
   "outputs": [
    {
     "data": {
      "text/plain": [
       "0    21023\n",
       "1     5977\n",
       "Name: default.payment.next.month, dtype: int64"
      ]
     },
     "execution_count": 40,
     "metadata": {},
     "output_type": "execute_result"
    }
   ],
   "source": [
    "train_data['default.payment.next.month'].value_counts()"
   ]
  },
  {
   "cell_type": "code",
   "execution_count": 41,
   "metadata": {},
   "outputs": [
    {
     "data": {
      "text/plain": [
       "0    2341\n",
       "1     659\n",
       "Name: default.payment.next.month, dtype: int64"
      ]
     },
     "execution_count": 41,
     "metadata": {},
     "output_type": "execute_result"
    }
   ],
   "source": [
    "unseen_data['default.payment.next.month'].value_counts()"
   ]
  },
  {
   "cell_type": "markdown",
   "metadata": {},
   "source": [
    "### Step 3. Select a model and train it"
   ]
  },
  {
   "cell_type": "markdown",
   "metadata": {},
   "source": [
    "We are going to use only logistic regression, but I encourage you to learn more methods for binary classification. "
   ]
  },
  {
   "cell_type": "code",
   "execution_count": 42,
   "metadata": {},
   "outputs": [
    {
     "data": {
      "text/plain": [
       "LogisticRegression(max_iter=300, random_state=42)"
      ]
     },
     "execution_count": 42,
     "metadata": {},
     "output_type": "execute_result"
    }
   ],
   "source": [
    "model = LogisticRegression(random_state=42, max_iter=300)\n",
    "model.fit(train_data[features], train_data[target].values)"
   ]
  },
  {
   "cell_type": "markdown",
   "metadata": {},
   "source": [
    "### Step 4. Make predictions for unseen data"
   ]
  },
  {
   "cell_type": "markdown",
   "metadata": {},
   "source": [
    "We can predict either labels or probabilities for each observation based on its features"
   ]
  },
  {
   "cell_type": "code",
   "execution_count": 47,
   "metadata": {},
   "outputs": [
    {
     "data": {
      "text/plain": [
       "array([0, 0, 0])"
      ]
     },
     "execution_count": 47,
     "metadata": {},
     "output_type": "execute_result"
    }
   ],
   "source": [
    "model.predict(unseen_data[features])[:3]"
   ]
  },
  {
   "cell_type": "code",
   "execution_count": 48,
   "metadata": {},
   "outputs": [
    {
     "data": {
      "text/plain": [
       "array([[0.63255927, 0.36744073],\n",
       "       [0.72935834, 0.27064166],\n",
       "       [0.65480423, 0.34519577],\n",
       "       ...,\n",
       "       [0.69166836, 0.30833164],\n",
       "       [0.79229515, 0.20770485],\n",
       "       [0.68570069, 0.31429931]])"
      ]
     },
     "execution_count": 48,
     "metadata": {},
     "output_type": "execute_result"
    }
   ],
   "source": [
    "predictions = model.predict_proba(unseen_data[features])\n",
    "predictions"
   ]
  },
  {
   "cell_type": "markdown",
   "metadata": {},
   "source": [
    "### Step 5. Estimate the quality"
   ]
  },
  {
   "cell_type": "code",
   "execution_count": 49,
   "metadata": {},
   "outputs": [
    {
     "data": {
      "text/plain": [
       "0.7803333333333333"
      ]
     },
     "execution_count": 49,
     "metadata": {},
     "output_type": "execute_result"
    }
   ],
   "source": [
    "# Return the mean accuracy on the given test data and labels\n",
    "model.score(unseen_data[features], unseen_data[target].values)"
   ]
  },
  {
   "cell_type": "code",
   "execution_count": 50,
   "metadata": {},
   "outputs": [
    {
     "data": {
      "text/plain": [
       "array([-3.24975316e-06, -9.32729213e-04, -1.14048309e-03, -9.74222526e-04,\n",
       "       -1.62663223e-02,  1.21661392e-03,  9.57840725e-04,  8.34365897e-04,\n",
       "        7.77260832e-04,  7.29832087e-04,  6.86324022e-04, -8.51741176e-06,\n",
       "        5.73721982e-06,  1.79002139e-06,  3.14293190e-07,  3.50885682e-06,\n",
       "        1.49727317e-06, -2.75331427e-05, -1.82020282e-05, -7.47018494e-06,\n",
       "       -7.92143597e-06, -4.08149332e-06, -1.84813537e-06])"
      ]
     },
     "execution_count": 50,
     "metadata": {},
     "output_type": "execute_result"
    }
   ],
   "source": [
    "model.coef_[0]"
   ]
  },
  {
   "cell_type": "markdown",
   "metadata": {},
   "source": [
    "## Additional metrics"
   ]
  },
  {
   "cell_type": "markdown",
   "metadata": {},
   "source": [
    "Weight of Evidence (WoE) and Information Value (IV) are used for feature engineering and selection and are widely used in the credit scoring. \n",
    "\n",
    "The formulas to calculate WoE and IV are as follow: $$WoE=ln\\frac{\\text{% of good customers}}{\\text{% of bad customers}}$$\n",
    "\n",
    "$$IV = \\sum (\\text{% of good customers} - \\text{% of bad customers}) \\cdot WoE$$\n",
    "\n",
    "A positive value of WoE means that the proportion of good customers is greater than bad customers (vice versa for a negative value). It measures the predictive power of an independent variable in relation to the target variable. WoE shows to what extent a specific feature can differentiate between target classes: reliable and unreliable clients. \n",
    "\n",
    "IV assists with ranking our features based on their relative importance.\n",
    "\n",
    "\n",
    "According to Baesens et al. and Siddiqi, WOE and IV analyses enable one to:\n",
    "\n",
    "* Consider each variable’s independent contribution to the outcome\n",
    "* Detect linear and non-linear relationships\n",
    "* Rank variables in terms of its univariate predictive strength\n",
    "* Visualize the correlations between the variables and the binary outcome\n",
    "* Compare the strength of continuous and categorical variables without creating dummy variables\n",
    "* Handle missing values without imputation\n",
    "* Assess the predictive power of missing values"
   ]
  },
  {
   "cell_type": "markdown",
   "metadata": {},
   "source": [
    "Reading materials:\n",
    "* [Credit Card Default: a very pedagogical notebook](https://www.kaggle.com/lucabasa/credit-card-default-a-very-pedagogical-notebook)\n",
    "* [6 Useful Automated ML Tools (using the same data set)](https://www.kaggle.com/pavansanagapati/6-useful-automated-ml-tools-for-data-scientists)\n",
    "<br>Good explanations of WoE and IV:\n",
    "* [How to Develop a Credit Risk Model and Scorecard](https://towardsdatascience.com/how-to-develop-a-credit-risk-model-and-scorecard-91335fc01f03)\n",
    "\n",
    "References:\n",
    "* Baesens, B., Roesch, D., & Scheule, H. (2016). Credit risk analytics: Measurement techniques, applications, and examples in SAS. John Wiley & Sons.\n",
    "*  Siddiqi, N. (2012). Credit risk scorecards: developing and implementing intelligent credit scoring. John Wiley & Sons."
   ]
  },
  {
   "cell_type": "code",
   "execution_count": null,
   "metadata": {},
   "outputs": [],
   "source": []
  }
 ],
 "metadata": {
  "kernelspec": {
   "display_name": "Python 3",
   "language": "python",
   "name": "python3"
  },
  "language_info": {
   "codemirror_mode": {
    "name": "ipython",
    "version": 3
   },
   "file_extension": ".py",
   "mimetype": "text/x-python",
   "name": "python",
   "nbconvert_exporter": "python",
   "pygments_lexer": "ipython3",
   "version": "3.8.3"
  }
 },
 "nbformat": 4,
 "nbformat_minor": 2
}
